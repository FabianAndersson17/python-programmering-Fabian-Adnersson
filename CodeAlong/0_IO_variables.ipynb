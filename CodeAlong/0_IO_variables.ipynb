{
 "cells": [
  {
   "cell_type": "markdown",
   "source": [
    "# Inpit/Output and variables"
   ],
   "metadata": {}
  },
  {
   "cell_type": "code",
   "execution_count": 18,
   "source": [
    "# This comment will be ignored when the code is running\r\n",
    "name = \"Fabian\"  # Creats variable name wth the value Fabian\r\n",
    "\r\n",
    "print(\"Hello\")\r\n",
    "\r\n",
    "age = 19 # Created a variabel with the name age and the value 19\r\n",
    "\r\n",
    "print(\"Hello\", name, \"!\") # One way to mix strings and variables in a print\r\n",
    "print(f\"Hej {name}, du är {age} år gammal\") # f-string (formated strings) {} kallas fär måsvingar\r\n",
    "\r\n",
    "name = \"Anna\" # Reassigens value for variable name\r\n",
    "print(f\"Hej{name}\")\r\n",
    "\r\n",
    "name = \"35\" # Changeing the data type works. Variabel name should describeing\r\n",
    "print(f\"Hej {name}\")"
   ],
   "outputs": [
    {
     "output_type": "stream",
     "name": "stdout",
     "text": [
      "Hello\n",
      "Hello Fabian !\n",
      "Hej Fabian, du är 19 år gammal\n"
     ]
    }
   ],
   "metadata": {}
  },
  {
   "cell_type": "code",
   "execution_count": 19,
   "source": [
    "name = input(\"Vad heter du?\") \r\n",
    "age = input(\"Hur gammal är du?\")\r\n",
    "\r\n",
    "print(f\"Du heter {name}, du är {age} år gammal\")"
   ],
   "outputs": [
    {
     "output_type": "stream",
     "name": "stdout",
     "text": [
      "Du heter Fabian, du är 19 år gammal\n"
     ]
    }
   ],
   "metadata": {}
  },
  {
   "cell_type": "code",
   "execution_count": null,
   "source": [
    "# F = mg\r\n",
    "gravity = 9.82\r\n",
    "mass = input(\"Hur mycket väger du?\")\r\n",
    "\r\n",
    "force = mass*gravity # Dose not work because mass is as string and gravity is a float\r\n",
    "\r\n",
    "print(f\"Din tygnd är {force}N\")"
   ],
   "outputs": [],
   "metadata": {}
  },
  {
   "cell_type": "code",
   "execution_count": 22,
   "source": [
    "gravity = 9.82\r\n",
    "mass = float(input(\"Hur mycket väger du\"))\r\n",
    "\r\n",
    "force = mass*gravity\r\n",
    "\r\n",
    "print(f\"Din tyngd är {force}N\")\r\n",
    "print(f\"Din tyngd är {force:.1f}N\")"
   ],
   "outputs": [
    {
     "output_type": "stream",
     "name": "stdout",
     "text": [
      "Din tyngd är 932.9N\n",
      "Din tyngd är 932.9N\n"
     ]
    }
   ],
   "metadata": {}
  },
  {
   "cell_type": "code",
   "execution_count": null,
   "source": [],
   "outputs": [],
   "metadata": {}
  }
 ],
 "metadata": {
  "orig_nbformat": 4,
  "language_info": {
   "name": "python",
   "version": "3.9.6",
   "mimetype": "text/x-python",
   "codemirror_mode": {
    "name": "ipython",
    "version": 3
   },
   "pygments_lexer": "ipython3",
   "nbconvert_exporter": "python",
   "file_extension": ".py"
  },
  "kernelspec": {
   "name": "python3",
   "display_name": "Python 3.9.6 64-bit"
  },
  "interpreter": {
   "hash": "bc671ac5dcf0c04d0537d7ef61db74040aac90f2d832bed4a17e0aad2956bb51"
  }
 },
 "nbformat": 4,
 "nbformat_minor": 2
}