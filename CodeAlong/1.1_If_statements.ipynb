{
 "cells": [
  {
   "cell_type": "code",
   "execution_count": 19,
   "source": [
    "\"\"\"\r\n",
    "IG: 0-10\r\n",
    "G: 11-20\r\n",
    "VG: 21-30\r\n",
    "MVG: > 30\r\n",
    "\"\"\"\r\n",
    "import random as rnd\r\n",
    "\r\n",
    "rnd.seed(42)\r\n",
    "points = rnd.randint(0,35) # Slumpat heltal mellan 0 och 35\r\n",
    "print(points)\r\n",
    "\r\n",
    "if points > 30:\r\n",
    "    print(\"MVG\")\r\n",
    "elif points > 20:\r\n",
    "    print(\"VG\")\r\n",
    "elif points > 10:\r\n",
    "    print(\"G\")\r\n",
    "else:\r\n",
    "    print(\"IG\")"
   ],
   "outputs": [
    {
     "output_type": "stream",
     "name": "stdout",
     "text": [
      "30\n",
      "VG\n"
     ]
    }
   ],
   "metadata": {}
  },
  {
   "cell_type": "code",
   "execution_count": 21,
   "source": [
    "number = 10\r\n",
    "if number % 2 == 0 and number % 5 == 0:\r\n",
    "    print(\"Jämnt och delbart med 5\")"
   ],
   "outputs": [
    {
     "output_type": "stream",
     "name": "stdout",
     "text": [
      "Jämnt och delbart med 5\n"
     ]
    }
   ],
   "metadata": {}
  },
  {
   "cell_type": "code",
   "execution_count": 20,
   "source": [
    "# Nästlade if-statser\r\n",
    "\r\n",
    "number = 10\r\n",
    "if number % 5 == 0:\r\n",
    "    if number % 5 == 0:\r\n",
    "        print(\"Jämnt och delabart med 5\")"
   ],
   "outputs": [
    {
     "output_type": "stream",
     "name": "stdout",
     "text": [
      "Jämnt och delabart med 5\n"
     ]
    }
   ],
   "metadata": {}
  }
 ],
 "metadata": {
  "orig_nbformat": 4,
  "language_info": {
   "name": "python",
   "version": "3.9.6",
   "mimetype": "text/x-python",
   "codemirror_mode": {
    "name": "ipython",
    "version": 3
   },
   "pygments_lexer": "ipython3",
   "nbconvert_exporter": "python",
   "file_extension": ".py"
  },
  "kernelspec": {
   "name": "python3",
   "display_name": "Python 3.9.6 64-bit"
  },
  "interpreter": {
   "hash": "bc671ac5dcf0c04d0537d7ef61db74040aac90f2d832bed4a17e0aad2956bb51"
  }
 },
 "nbformat": 4,
 "nbformat_minor": 2
}