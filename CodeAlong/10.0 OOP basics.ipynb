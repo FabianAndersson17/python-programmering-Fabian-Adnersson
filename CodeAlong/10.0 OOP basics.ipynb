{
 "cells": [
  {
   "cell_type": "markdown",
   "source": [
    "# OOP basics"
   ],
   "metadata": {}
  },
  {
   "cell_type": "code",
   "execution_count": 2,
   "source": [
    "class Antagning: # Creats a class\r\n",
    "    def __init__(self):\r\n",
    "        pass\r\n",
    "\r\n",
    "\r\n",
    "a1 = Antagning() ## Instansieted an object from the class Antagning\r\n",
    "print(a1)"
   ],
   "outputs": [
    {
     "output_type": "stream",
     "name": "stdout",
     "text": [
      "<__main__.Antagning object at 0x0000022668F65100>\n"
     ]
    }
   ],
   "metadata": {}
  },
  {
   "cell_type": "code",
   "execution_count": 19,
   "source": [
    "class Antagning:\r\n",
    "    ## Self refers to the object that is created'\r\n",
    "    ## For functions or methods - positional arguments first then default parameter\r\n",
    "    def __init__(self, school, program, name, accept = False) -> None: ## Dunder init\r\n",
    "        ## Assings arguments to the object attributes (egenskaper/variabler)\r\n",
    "        self.school = school\r\n",
    "        self.program = program\r\n",
    "        self.name = name\r\n",
    "        self.accept = accept\r\n",
    "\r\n",
    "    def __repr__(self) : ## Dunder __repr__ read: Repper\r\n",
    "        return f\"Antagning(School = '{self.school}', program = '{self.program}', name = '{self.name}', accept = {self.accept})\"\r\n",
    "\r\n",
    "\r\n",
    "person1 = Antagning(\"Cool school\", \"AI\", \"Gore Bord\", False) # Constructor\r\n",
    "person2 = Antagning(\"IT-skola\", \"UX\", \"Gorat Bortat\")\r\n",
    "\r\n",
    "print(person1.name)\r\n",
    "print(person1.school)\r\n",
    "print(person1.__dict__) # Dunder dict\r\n",
    "print(person2.accept)\r\n",
    "print(person2.name)\r\n",
    "\r\n",
    "print(person1)\r\n",
    "print(person2)"
   ],
   "outputs": [
    {
     "output_type": "stream",
     "name": "stdout",
     "text": [
      "Gore Bord\n",
      "Cool school\n",
      "{'school': 'Cool school', 'program': 'AI', 'name': 'Gore Bord', 'accept': False}\n",
      "False\n",
      "Gorat Bortat\n",
      "Antagning(School = 'Cool school', program = 'AI', name = 'Gore Bord', accept = False)\n",
      "Antagning(School = 'IT-skola', program = 'UX', name = 'Gorat Bortat', accept = False)\n"
     ]
    }
   ],
   "metadata": {}
  },
  {
   "cell_type": "markdown",
   "source": [
    "## Exempel old coins in Sweden\r\n",
    "\r\n",
    "- Don't remeber the reference\r\n",
    "- Riksdaler och skilling"
   ],
   "metadata": {}
  },
  {
   "cell_type": "code",
   "execution_count": 21,
   "source": [
    "class OldCoinStash:\r\n",
    "    def __init__(self, owner) -> None:\r\n",
    "        # These attributes are public \r\n",
    "        self.owner = owner\r\n",
    "        self.riksdaler = 0\r\n",
    "        self.skilling = 0\r\n",
    "\r\n",
    "\r\n",
    "stash1 = OldCoinStash(\"Gore Bord\")\r\n",
    "print(stash1.riksdaler)\r\n",
    "stash1.riksdaler = 1000\r\n",
    "print(stash1.riksdaler)"
   ],
   "outputs": [
    {
     "output_type": "stream",
     "name": "stdout",
     "text": [
      "0\n",
      "1000\n"
     ]
    }
   ],
   "metadata": {}
  },
  {
   "cell_type": "markdown",
   "source": [
    "## Encapsulation\r\n",
    "\r\n",
    "- In OOP, you want to encapsulate some information and only show relevant information outwards"
   ],
   "metadata": {}
  },
  {
   "cell_type": "code",
   "execution_count": 47,
   "source": [
    "class OldCoinStash:\r\n",
    "    def __init__(self, owner) -> None:\r\n",
    "        # These attributes are public \r\n",
    "        self.owner = owner\r\n",
    "\r\n",
    "        # Private - by convention use underscore prefix\r\n",
    "        self._riksdaler = 0\r\n",
    "        self._skilling = 0\r\n",
    "\r\n",
    "    def deposit(self, riksdaler: float = 0, skilling: float = 0) ->  None:\r\n",
    "        if riksdaler <= 0 or skilling <= 0:\r\n",
    "            raise ValueError(f\"Stop depositing negative values. {riksdaler} riksdaler or {skilling} skillingar not okay\")\r\n",
    "\r\n",
    "        self._riksdaler += riksdaler\r\n",
    "        self._skilling += skilling\r\n",
    "\r\n",
    "    def withdraw(self, riksdaler: float = 0, skilling: float = 0) -> None:\r\n",
    "        if riksdaler > self._riksdaler or skilling > self._skilling:\r\n",
    "            raise ValueError(\"You can't withdraw more coins than you have\")\r\n",
    "        self._riksdaler -= riksdaler\r\n",
    "        self._skilling -= skilling\r\n",
    "\r\n",
    "    def check_balance(self) -> str:\r\n",
    "        return f\"Coins in stash: {self._riksdaler} riksdaler and {self._skilling} skillingar\"\r\n",
    "\r\n",
    "    def __repr__(self) -> str:\r\n",
    "        return f\"OldCoinStash(Owner = '{self.owner}'\"\r\n",
    "\r\n",
    "stash1 = OldCoinStash(\"Gore Bord\")\r\n",
    "print(stash1) ## Testing __repr__\r\n",
    "print(stash1.check_balance())\r\n",
    "stash1.deposit(riksdaler= 500, skilling= 3000) # Tesing deposit\r\n",
    "print(stash1.check_balance())\r\n",
    "\r\n",
    "try:\r\n",
    "    stash1.deposit(-30, 124)\r\n",
    "except ValueError as err:\r\n",
    "    print(err)\r\n",
    "\r\n",
    "print(stash1.withdraw(100, 100)) ## Testing withdraw\r\n",
    "print(stash1.check_balance())\r\n",
    "\r\n",
    "try:\r\n",
    "    stash1.withdraw(401, 2899)\r\n",
    "except ValueError as err:\r\n",
    "    print(err)\r\n",
    "\r\n",
    "print(stash1.check_balance())"
   ],
   "outputs": [
    {
     "output_type": "stream",
     "name": "stdout",
     "text": [
      "OldCoinStash(Owner = 'Gore Bord'\n",
      "Coins in stash: 0 riksdaler and 0 skillingar\n",
      "Coins in stash: 500 riksdaler and 3000 skillingar\n",
      "Stop depositing negative values. -30 riksdaler or 124 skillingar not okay\n",
      "None\n",
      "Coins in stash: 400 riksdaler and 2900 skillingar\n",
      "You can't withdraw more coins than you have\n",
      "Coins in stash: 400 riksdaler and 2900 skillingar\n"
     ]
    }
   ],
   "metadata": {}
  },
  {
   "cell_type": "markdown",
   "source": [
    "## Properties"
   ],
   "metadata": {}
  },
  {
   "cell_type": "code",
   "execution_count": 56,
   "source": [
    "class Student: # StudentRepresenative\r\n",
    "    def __init__(self, name: str, age: float) -> None:\r\n",
    "        self.name = name \r\n",
    "        self.age = age  ## Not no underscore\r\n",
    "\r\n",
    "\r\n",
    "\r\n",
    "    @property\r\n",
    "    def age(self) -> float:\r\n",
    "        print(\"age getter is running...\")\r\n",
    "        return self._age\r\n",
    "\r\n",
    "    @age.setter\r\n",
    "    def age(self, value: float) -> None:\r\n",
    "        print(\"age-setter is running...\")\r\n",
    "        if not isinstance(value, (int, float)):\r\n",
    "            raise TypeError(f\"Age must be int or float not {type(value)}\")\r\n",
    "\r\n",
    "        if not (0 <= value < 125):\r\n",
    "            raise ValueError(\"Your age must be between 0 and 124\")\r\n",
    "\r\n",
    "        self._age = value\r\n",
    "\r\n",
    "student1 = Student(\"Gore Bord\", 25)\r\n",
    "print(student1.age)\r\n",
    "print(student1.name)\r\n",
    "\r\n",
    "try:\r\n",
    "    student1.age = \"25\"\r\n",
    "except TypeError as err:\r\n",
    "    print(err)"
   ],
   "outputs": [
    {
     "output_type": "stream",
     "name": "stdout",
     "text": [
      "age-setter is running...\n",
      "age getter is running...\n",
      "25\n",
      "Gore Bord\n",
      "age-setter is running...\n",
      "Age must be int or float not <class 'str'>\n"
     ]
    }
   ],
   "metadata": {}
  }
 ],
 "metadata": {
  "orig_nbformat": 4,
  "language_info": {
   "name": "python",
   "version": "3.9.6",
   "mimetype": "text/x-python",
   "codemirror_mode": {
    "name": "ipython",
    "version": 3
   },
   "pygments_lexer": "ipython3",
   "nbconvert_exporter": "python",
   "file_extension": ".py"
  },
  "kernelspec": {
   "name": "python3",
   "display_name": "Python 3.9.6 64-bit ('python-programmering-Fabian-Adnersson-7Vjomyem': pipenv)"
  },
  "interpreter": {
   "hash": "f6ced4aceb5dca1d902771a0c4caef10d5e109c6ad3a1438b115d6b0f80a24fd"
  }
 },
 "nbformat": 4,
 "nbformat_minor": 2
}