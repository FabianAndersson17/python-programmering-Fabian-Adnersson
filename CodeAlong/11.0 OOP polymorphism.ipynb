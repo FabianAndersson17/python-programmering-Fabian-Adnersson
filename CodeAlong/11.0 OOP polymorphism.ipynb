{
 "cells": [
  {
   "cell_type": "markdown",
   "source": [
    "# OOP Polymorphism\r\n",
    "\r\n",
    "- Methods and operatots can be used in different ways for different types"
   ],
   "metadata": {}
  },
  {
   "cell_type": "code",
   "execution_count": 4,
   "source": [
    "s1 = \"abc\"\r\n",
    "l1 = [1,2,3,4]\r\n",
    "print(len(s1))\r\n",
    "print(len(l1))\r\n",
    "\r\n",
    "s2 = s1 + \"5\" ## + operator makes string concationation\r\n",
    "print(s2)\r\n",
    "\r\n",
    "num1 = 5 + 6 ## + operator makes arithmetic additon of two intergers\r\n",
    "print(num1)"
   ],
   "outputs": [
    {
     "output_type": "stream",
     "name": "stdout",
     "text": [
      "3\n",
      "4\n",
      "abc5\n",
      "11\n"
     ]
    }
   ],
   "metadata": {}
  },
  {
   "cell_type": "code",
   "execution_count": 7,
   "source": [
    "class Fish:\r\n",
    "    def __init__(self, name) -> None:\r\n",
    "        self.name = name\r\n",
    "\r\n",
    "    def __str__(self):\r\n",
    "        return f\"I am a fish, my name is {self.name}\"\r\n",
    "\r\n",
    "    def speak(self):\r\n",
    "        print(\"Blupp, blupp\")\r\n",
    "\r\n",
    "class Fox:\r\n",
    "    def __init__(self, name) -> None:\r\n",
    "        self.name = name\r\n",
    "    \r\n",
    "    def __str__(self) -> str:\r\n",
    "        return f\"I am a fox, my name is {self.name}, my sound is weird\"\r\n",
    "\r\n",
    "    def speak(self):\r\n",
    "        return NotImplemented # What does the fox say?\r\n",
    "\r\n",
    "animals = (Fish(\"Wanda\"), Fox(\"Myuri\"))\r\n",
    "\r\n",
    "for animal in animals:\r\n",
    "    print(animal)\r\n",
    "    animal.speak()"
   ],
   "outputs": [
    {
     "output_type": "stream",
     "name": "stdout",
     "text": [
      "I am a fish, my name is Wanda\n",
      "Blupp, blupp\n",
      "I am a fox, my name is Myuri, my sound is weird\n"
     ]
    }
   ],
   "metadata": {}
  },
  {
   "cell_type": "markdown",
   "source": [
    "## Polymorphism in inheritance"
   ],
   "metadata": {}
  },
  {
   "cell_type": "code",
   "execution_count": 8,
   "source": [
    "class Animal:\r\n",
    "    ## Will run defult init\r\n",
    "\r\n",
    "    def speak(self):\r\n",
    "        print(\"Hello, I am animal\")\r\n",
    "\r\n",
    "class Fish(Animal):\r\n",
    "    def __init__(self, name) -> None:\r\n",
    "        self.name = name\r\n",
    "\r\n",
    "    def __str__(self):\r\n",
    "        return f\"I am a fish, my name is {self.name}\"\r\n",
    "\r\n",
    "    def speak(self):\r\n",
    "        print(\"Blupp, blupp\")\r\n",
    "\r\n",
    "class Fox(Animal): # Fox extends or inherits from animal\r\n",
    "    def __init__(self, name) -> None:\r\n",
    "        self.name = name\r\n",
    "    \r\n",
    "    def __str__(self) -> str:\r\n",
    "        return f\"I am a fox, my name is {self.name}, my sound is weird\"\r\n",
    "\r\n",
    "    ##def speak(self):\r\n",
    "    #    return NotImplemented # What does the fox say?\r\n",
    "\r\n",
    "animals = (Fish(\"Wanda\"), Fox(\"Myuri\"))\r\n",
    "\r\n",
    "for animal in animals:\r\n",
    "    print(animal)\r\n",
    "    animal.speak()"
   ],
   "outputs": [
    {
     "output_type": "stream",
     "name": "stdout",
     "text": [
      "I am a fish, my name is Wanda\n",
      "Blupp, blupp\n",
      "I am a fox, my name is Myuri, my sound is weird\n",
      "Hello, I am animal\n"
     ]
    }
   ],
   "metadata": {}
  },
  {
   "cell_type": "markdown",
   "source": [
    "## Operator overloading\r\n",
    "\r\n",
    "- +, -, /, //, %, **, <, >, <=, =>, ...\r\n",
    "- see vector example"
   ],
   "metadata": {}
  },
  {
   "cell_type": "code",
   "execution_count": null,
   "source": [],
   "outputs": [],
   "metadata": {}
  }
 ],
 "metadata": {
  "orig_nbformat": 4,
  "language_info": {
   "name": "python",
   "version": "3.9.6",
   "mimetype": "text/x-python",
   "codemirror_mode": {
    "name": "ipython",
    "version": 3
   },
   "pygments_lexer": "ipython3",
   "nbconvert_exporter": "python",
   "file_extension": ".py"
  },
  "kernelspec": {
   "name": "python3",
   "display_name": "Python 3.9.6 64-bit ('python-programmering-Fabian-Adnersson-7Vjomyem': pipenv)"
  },
  "interpreter": {
   "hash": "f6ced4aceb5dca1d902771a0c4caef10d5e109c6ad3a1438b115d6b0f80a24fd"
  }
 },
 "nbformat": 4,
 "nbformat_minor": 2
}