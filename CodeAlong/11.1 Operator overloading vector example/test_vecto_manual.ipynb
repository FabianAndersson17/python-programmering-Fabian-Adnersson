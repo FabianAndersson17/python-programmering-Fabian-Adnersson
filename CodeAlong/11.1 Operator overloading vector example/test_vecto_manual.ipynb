{
 "cells": [
  {
   "cell_type": "code",
   "execution_count": 1,
   "source": [
    "import vector as vec\r\n",
    "\r\n",
    "v1 = vec.Vector(1,2)\r\n",
    "v2 = vec.Vector(1,1)\r\n",
    "\r\n",
    "print(v1.numbers)\r\n",
    "\r\n",
    "v_test = vec.Vector(True, False, 5)\r\n",
    "print(v_test.numbers)\r\n",
    "\r\n",
    "print(f\"v1 = {v1}\")\r\n",
    "print(f\"v2 = {v2}\")\r\n",
    "\r\n",
    "v3 = v1 + v2\r\n",
    "\r\n",
    "print(f\"v3 = v1 + v2 = {v3}\")\r\n",
    "\r\n",
    "try:\r\n",
    "    v3 + v_test\r\n",
    "except TypeError as err:\r\n",
    "    print(err)\r\n",
    "\r\n",
    "v3[1]"
   ],
   "outputs": [
    {
     "output_type": "stream",
     "name": "stdout",
     "text": [
      "(1.0, 2.0)\n",
      "(1.0, 0.0, 5.0)\n",
      "v1 = (1.0, 2.0)\n",
      "v2 = (1.0, 1.0)\n",
      "v3 = v1 + v2 = (2.0, 3.0)\n",
      "Both must be vector and same lenght\n"
     ]
    },
    {
     "output_type": "execute_result",
     "data": {
      "text/plain": [
       "3.0"
      ]
     },
     "metadata": {},
     "execution_count": 1
    }
   ],
   "metadata": {}
  },
  {
   "cell_type": "code",
   "execution_count": 2,
   "source": [
    "print(f\"len(v1): {len(v1)}\")\r\n",
    "print(f\"len(v_test): {len(v_test)}\")"
   ],
   "outputs": [
    {
     "output_type": "stream",
     "name": "stdout",
     "text": [
      "len(v1): 2\n",
      "len(v_test): 3\n"
     ]
    }
   ],
   "metadata": {}
  },
  {
   "cell_type": "code",
   "execution_count": null,
   "source": [
    "import vector as vec\r\n",
    "\r\n",
    "v2 = vec.Vector(1,2,3,4)"
   ],
   "outputs": [],
   "metadata": {}
  },
  {
   "cell_type": "code",
   "execution_count": null,
   "source": [
    "isinstance(False, int)"
   ],
   "outputs": [],
   "metadata": {}
  }
 ],
 "metadata": {
  "orig_nbformat": 4,
  "language_info": {
   "name": "python",
   "version": "3.9.6",
   "mimetype": "text/x-python",
   "codemirror_mode": {
    "name": "ipython",
    "version": 3
   },
   "pygments_lexer": "ipython3",
   "nbconvert_exporter": "python",
   "file_extension": ".py"
  },
  "kernelspec": {
   "name": "python3",
   "display_name": "Python 3.9.6 64-bit ('python-programmering-Fabian-Adnersson-7Vjomyem': pipenv)"
  },
  "interpreter": {
   "hash": "f6ced4aceb5dca1d902771a0c4caef10d5e109c6ad3a1438b115d6b0f80a24fd"
  }
 },
 "nbformat": 4,
 "nbformat_minor": 2
}