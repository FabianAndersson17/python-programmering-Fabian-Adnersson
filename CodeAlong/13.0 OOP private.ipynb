{
 "cells": [
  {
   "cell_type": "markdown",
   "source": [
    "# Private attributes"
   ],
   "metadata": {}
  },
  {
   "cell_type": "code",
   "execution_count": 7,
   "source": [
    "class Patient:\r\n",
    "    def __init__(self, name, diagnosis) -> None:\r\n",
    "        self._name = name\r\n",
    "        self.__diagnosis = diagnosis\r\n",
    "    \r\n",
    "    def __repr__(self) -> str:\r\n",
    "        return f\"Patient({self._name}, {self.__diagnosis})\"\r\n",
    "\r\n",
    "p1 = (Patient(\"Gore Bord\", \"Migraine\"))\r\n",
    "\r\n",
    "print(p1)\r\n",
    "\r\n",
    "## It works but should not do it\r\n",
    "p1._name = (\"Dore Bore\")\r\n",
    "\r\n",
    "print(p1)\r\n",
    "\r\n",
    "p1.__diagnosis = (\"Cold\")\r\n",
    "\r\n",
    "print(p1)\r\n",
    "\r\n",
    "print(p1.__dict__)\r\n",
    "# Python does name mangling --> changes __diagnosis _Patient__diagnosis\r\n",
    "\r\n",
    "p1._Patient__diagnosis = \"Fever\"\r\n",
    "print(p1)"
   ],
   "outputs": [
    {
     "output_type": "stream",
     "name": "stdout",
     "text": [
      "Patient(Gore Bord, Migraine)\n",
      "Patient(Dore Bore, Migraine)\n",
      "Patient(Dore Bore, Migraine)\n",
      "{'_name': 'Dore Bore', '_Patient__diagnosis': 'Migraine', '__diagnosis': 'Cold'}\n",
      "Patient(Dore Bore, Fever)\n"
     ]
    }
   ],
   "metadata": {}
  }
 ],
 "metadata": {
  "orig_nbformat": 4,
  "language_info": {
   "name": "python",
   "version": "3.9.6",
   "mimetype": "text/x-python",
   "codemirror_mode": {
    "name": "ipython",
    "version": 3
   },
   "pygments_lexer": "ipython3",
   "nbconvert_exporter": "python",
   "file_extension": ".py"
  },
  "kernelspec": {
   "name": "python3",
   "display_name": "Python 3.9.6 64-bit ('python-programmering-Fabian-Adnersson-7Vjomyem': pipenv)"
  },
  "interpreter": {
   "hash": "f6ced4aceb5dca1d902771a0c4caef10d5e109c6ad3a1438b115d6b0f80a24fd"
  }
 },
 "nbformat": 4,
 "nbformat_minor": 2
}