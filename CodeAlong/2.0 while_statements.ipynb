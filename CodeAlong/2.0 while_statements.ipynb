{
 "cells": [
  {
   "cell_type": "code",
   "execution_count": 5,
   "source": [
    "# Skriva ut alla tal mellan -10 och 10\r\n",
    "\r\n",
    "n = -10\r\n",
    "\r\n",
    "while n <= 10:\r\n",
    "    print(n, end = \" | \")\r\n",
    "    n += 1 # Assigmnets operator, i andra spårk n = n += 1 eller n++ "
   ],
   "outputs": [
    {
     "output_type": "stream",
     "name": "stdout",
     "text": [
      "-10 | -9 | -8 | -7 | -6 | -5 | -4 | -3 | -2 | -1 | 0 | 1 | 2 | 3 | 4 | 5 | 6 | 7 | 8 | 9 | 10 | "
     ]
    }
   ],
   "metadata": {}
  },
  {
   "cell_type": "code",
   "execution_count": 12,
   "source": [
    "# skriva ut alla jämna tall mellan -10 och 10\r\n",
    "\r\n",
    "n = -10\r\n",
    "\r\n",
    "while n <= 10:\r\n",
    "    print(n, end = \" | \")\r\n",
    "    n += 2\r\n",
    "\r\n",
    "if n % 2 == 0"
   ],
   "outputs": [
    {
     "output_type": "stream",
     "name": "stdout",
     "text": [
      "-10 | -8 | -6 | -4 | -2 | 0 | 2 | 4 | 6 | 8 | 10 | "
     ]
    }
   ],
   "metadata": {}
  }
 ],
 "metadata": {
  "orig_nbformat": 4,
  "language_info": {
   "name": "python",
   "version": "3.9.6",
   "mimetype": "text/x-python",
   "codemirror_mode": {
    "name": "ipython",
    "version": 3
   },
   "pygments_lexer": "ipython3",
   "nbconvert_exporter": "python",
   "file_extension": ".py"
  },
  "kernelspec": {
   "name": "python3",
   "display_name": "Python 3.9.6 64-bit"
  },
  "interpreter": {
   "hash": "bc671ac5dcf0c04d0537d7ef61db74040aac90f2d832bed4a17e0aad2956bb51"
  }
 },
 "nbformat": 4,
 "nbformat_minor": 2
}