{
 "cells": [
  {
   "cell_type": "code",
   "execution_count": 5,
   "source": [
    "# Skriva ut alla tal mellan -10 och 10\r\n",
    "\r\n",
    "n = -10\r\n",
    "\r\n",
    "while n <= 10:\r\n",
    "    print(n, end = \" | \")\r\n",
    "    n += 1 # Assigmnets operator, i andra spårk n = n += 1 eller n++ "
   ],
   "outputs": [
    {
     "output_type": "stream",
     "name": "stdout",
     "text": [
      "-10 | -9 | -8 | -7 | -6 | -5 | -4 | -3 | -2 | -1 | 0 | 1 | 2 | 3 | 4 | 5 | 6 | 7 | 8 | 9 | 10 | "
     ]
    }
   ],
   "metadata": {}
  },
  {
   "cell_type": "code",
   "execution_count": 14,
   "source": [
    "# skriva ut alla jämna tall mellan -10 och 10\r\n",
    "\r\n",
    "n = -10\r\n",
    "\r\n",
    "while n <= 10:\r\n",
    "    print(n, end = \" | \")\r\n",
    "    n += 2"
   ],
   "outputs": [
    {
     "output_type": "stream",
     "name": "stdout",
     "text": [
      "-10 | -8 | -6 | -4 | -2 | 0 | 2 | 4 | 6 | 8 | 10 | "
     ]
    }
   ],
   "metadata": {}
  },
  {
   "cell_type": "code",
   "execution_count": 21,
   "source": [
    "# summer alla udda tal mellan 0 och 10\r\n",
    "n = 1\r\n",
    "summa = 0\r\n",
    "while n <= 10:\r\n",
    "    if n == 9:\r\n",
    "        print(\"9=\", end= \"\")\r\n",
    "    else:\r\n",
    "        print(f\"{n}+\", end = \"\")\r\n",
    "    summa += n\r\n",
    "    n += 2\r\n",
    "\r\n",
    "print(summa)"
   ],
   "outputs": [
    {
     "output_type": "stream",
     "name": "stdout",
     "text": [
      "1+3+5+7+9=25\n"
     ]
    }
   ],
   "metadata": {}
  },
  {
   "cell_type": "markdown",
   "source": [
    "## Fåglar och oljeutsläpp\r\n",
    "\r\n",
    "- Finns 8000 fåglar från början\r\n",
    "- Ett oljeutsläpp gör att populationen halveras varje år\r\n",
    "- Hur många är tar det tills fågelpopulationen blivit en tiondel"
   ],
   "metadata": {}
  },
  {
   "cell_type": "code",
   "execution_count": 25,
   "source": [
    "birds, year = 8000, 0\r\n",
    "\r\n",
    "while birds >= 800:\r\n",
    "    birds /= 2\r\n",
    "    year += 1\r\n",
    "    print(f\"År {year}: antal fåglar: {birds:.0f}st\")"
   ],
   "outputs": [
    {
     "output_type": "stream",
     "name": "stdout",
     "text": [
      "År 1: antal fåglar: 4000st\n",
      "År 2: antal fåglar: 2000st\n",
      "År 3: antal fåglar: 1000st\n",
      "År 4: antal fåglar: 500st\n"
     ]
    }
   ],
   "metadata": {}
  },
  {
   "cell_type": "markdown",
   "source": [
    "## Mjölkuppgift\r\n",
    "\r\n",
    "- 1l mjölk 1 500 000 i rumstemperatur\r\n",
    "- Bakterier ökar med 50% per timme i rumstemperatur\r\n",
    "- Hur lång tid dtar det för mjölken att surna."
   ],
   "metadata": {}
  },
  {
   "cell_type": "code",
   "execution_count": null,
   "source": [
    "faktor = 1.5\r\n",
    "bakterier, timme = 1.5e6, 0 # 1.5*10^6\r\n",
    "sur = 1e7\r\n",
    "\r\n",
    "while bakterier < sur:\r\n",
    "    bakterier *= faktor\r\n",
    "    timme += 1\r\n",
    "\r\n",
    "print(f\"Det tar {timme}h för mjölken att surna\")"
   ],
   "outputs": [],
   "metadata": {}
  }
 ],
 "metadata": {
  "orig_nbformat": 4,
  "language_info": {
   "name": "python",
   "version": "3.9.6",
   "mimetype": "text/x-python",
   "codemirror_mode": {
    "name": "ipython",
    "version": 3
   },
   "pygments_lexer": "ipython3",
   "nbconvert_exporter": "python",
   "file_extension": ".py"
  },
  "kernelspec": {
   "name": "python3",
   "display_name": "Python 3.9.6 64-bit"
  },
  "interpreter": {
   "hash": "bc671ac5dcf0c04d0537d7ef61db74040aac90f2d832bed4a17e0aad2956bb51"
  }
 },
 "nbformat": 4,
 "nbformat_minor": 2
}