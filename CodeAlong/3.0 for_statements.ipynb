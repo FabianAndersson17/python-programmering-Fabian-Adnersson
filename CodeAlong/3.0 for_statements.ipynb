{
 "cells": [
  {
   "cell_type": "markdown",
   "source": [
    "# for loop\r\n",
    "\r\n",
    "- \"foreach\" loop \r\n",
    "- for i in range(10) # in python\r\n",
    "- in some other languages: for (int i = 0; i <= 10; i++) "
   ],
   "metadata": {}
  },
  {
   "cell_type": "code",
   "execution_count": null,
   "source": [
    "for i in range(10):\r\n",
    "    print(i, end = \" \")\r\n",
    "\r\n",
    "print() # new line\r\n",
    "# Every third number\r\n",
    "for i in range(1,20,3):\r\n",
    "    print(i, end = \" \")\r\n",
    "\r\n",
    "print(f\"\\n{range(10)}\")\r\n",
    "print(f\"En lista från range(10): {list(range(10))}\")"
   ],
   "outputs": [],
   "metadata": {}
  },
  {
   "cell_type": "code",
   "execution_count": null,
   "source": [
    "# sum all numbers between\r\n",
    "sum_ = 0 # There exisist an bult in function in python called sum()\r\n",
    "\r\n",
    "for i in range(6):\r\n",
    "    sum_ += i\r\n",
    "\r\n",
    "    if i == 5:\r\n",
    "        continue #Skips the current iteration\r\n",
    "\r\n",
    "    print(f\"{i}+\", end = \"\")\r\n",
    "\r\n",
    "print(f\"{i} = {sum_}\")\r\n",
    "print(sum(range(6))) # Uses python built in sum function"
   ],
   "outputs": [],
   "metadata": {}
  },
  {
   "cell_type": "markdown",
   "source": [
    "## Dice simulations \r\n",
    "- Calculate probability of dice roll 6\r\n",
    "\r\n",
    "$$\r\n",
    "\r\n",
    "$$"
   ],
   "metadata": {}
  },
  {
   "cell_type": "code",
   "execution_count": 1,
   "source": [
    "import random as rnd\r\n",
    "\r\n",
    "num_six, dice_rolls = 0, 10000\r\n",
    "\r\n",
    "# Count number of six\r\n",
    "for i in range(dice_rolls):\r\n",
    "    dice = rnd.randint(1,6)\r\n",
    "    if dice == 6:\r\n",
    "        num_six += 1\r\n",
    "\r\n",
    "print(f\"Number of six {num_six} in {dice_rolls} dice rolls\")\r\n",
    "print(f\"Probabilaty of six {num_six/dice_rolls}\")"
   ],
   "outputs": [
    {
     "output_type": "stream",
     "name": "stdout",
     "text": [
      "Number of six1702 in 10000 dice rolls\n",
      "Probabilaty of six0.1702\n"
     ]
    }
   ],
   "metadata": {}
  },
  {
   "cell_type": "markdown",
   "source": [
    "## Loop through list"
   ],
   "metadata": {}
  },
  {
   "cell_type": "code",
   "execution_count": null,
   "source": [
    "fruits = [\"apple\",\"orange\" ,\"strawberry\", \"grape\"] # created list of yummy fruits\r\n",
    "print(\"I love to eat: \")\r\n",
    "\r\n",
    "for fruit in fruits:\r\n",
    "    print(fruit)"
   ],
   "outputs": [],
   "metadata": {}
  },
  {
   "cell_type": "code",
   "execution_count": null,
   "source": [
    "fruits = [\"apple\",\"orange\" ,\"strawberry\", \"grape\"] # created list of yummy fruits\r\n",
    "\r\n",
    "print(\"Shopping list: \")\r\n",
    "for i, fruit in enumerate(fruits):\r\n",
    "    print(f\"{i}. {fruit}\")"
   ],
   "outputs": [],
   "metadata": {}
  },
  {
   "cell_type": "markdown",
   "source": [
    "## Nationelet prov pastauppgift\r\n",
    "\r\n",
    "import math\r\n",
    "math.exp(1) #e^1"
   ],
   "metadata": {}
  },
  {
   "cell_type": "code",
   "execution_count": null,
   "source": [
    "import math\r\n",
    "\r\n",
    "for year in range(4000):\r\n",
    "    pasta_consumption = 0.791*math.exp(0.0526*year)\r\n",
    "    if pasta_consumption >= 15:\r\n",
    "        print(f\"År {year+1960} är pastakonsumptionen 15kg per år per person\")\r\n",
    "        break # breaks the loop"
   ],
   "outputs": [],
   "metadata": {}
  },
  {
   "cell_type": "code",
   "execution_count": null,
   "source": [
    "import matplotlib.pyplot as plt\r\n",
    "import math\r\n",
    "\r\n",
    "past_per_year = []\r\n",
    "\r\n",
    "for year in range(140):\r\n",
    "    pasta_consumption = 0.791*math.exp(0.0526*year)\r\n",
    "    past_per_year.append(pasta_consumption)\r\n",
    "\r\n",
    "plt.plot(range(1960, 2100),past_per_year)\r\n",
    "plt.xlabel(\"År\")\r\n",
    "plt.ylabel(\"Pastakonsumption i kg\")\r\n",
    "plt.title(\"Pastakonsumption\")\r\n",
    "plt.show()"
   ],
   "outputs": [],
   "metadata": {}
  },
  {
   "cell_type": "markdown",
   "source": [
    "## Nested loop\r\n",
    "\r\n",
    "loop i loop"
   ],
   "metadata": {}
  },
  {
   "cell_type": "code",
   "execution_count": null,
   "source": [
    "for row in range(0, 3):\r\n",
    "    for col in range(0, 3):\r\n",
    "        print(f\"({row}, {col})\", end=\"\")\r\n",
    "    print()"
   ],
   "outputs": [],
   "metadata": {}
  },
  {
   "cell_type": "code",
   "execution_count": null,
   "source": [
    "for row in range(1, 4):\r\n",
    "    for col in range(1, 4):\r\n",
    "        print(f\"({row}, {col})\", end=\"\")\r\n",
    "    print()"
   ],
   "outputs": [],
   "metadata": {}
  }
 ],
 "metadata": {
  "orig_nbformat": 4,
  "language_info": {
   "name": "python",
   "version": "3.9.6",
   "mimetype": "text/x-python",
   "codemirror_mode": {
    "name": "ipython",
    "version": 3
   },
   "pygments_lexer": "ipython3",
   "nbconvert_exporter": "python",
   "file_extension": ".py"
  },
  "kernelspec": {
   "name": "python3",
   "display_name": "Python 3.9.6 64-bit ('python-programmering-Fabian-Adnersson-7Vjomyem': pipenv)"
  },
  "interpreter": {
   "hash": "f6ced4aceb5dca1d902771a0c4caef10d5e109c6ad3a1438b115d6b0f80a24fd"
  }
 },
 "nbformat": 4,
 "nbformat_minor": 2
}