{
 "cells": [
  {
   "cell_type": "markdown",
   "source": [
    "# for loop\r\n",
    "\r\n",
    "- \"foreach\" loop \r\n",
    "- for i in range(10) # in python\r\n",
    "- in some other languages: for (int i = 0; i <= 10; i++) "
   ],
   "metadata": {}
  },
  {
   "cell_type": "code",
   "execution_count": 3,
   "source": [
    "for i in range(10):\r\n",
    "    print(i, end = \" \")\r\n",
    "\r\n",
    "print() # new line\r\n",
    "# Every third number\r\n",
    "for i in range(1,20,3):\r\n",
    "    print(i, end = \" \")\r\n",
    "\r\n",
    "print(f\"\\n{range(10)}\")\r\n",
    "print(f\"En lista från range(10): {list(range(10))}\")"
   ],
   "outputs": [
    {
     "output_type": "stream",
     "name": "stdout",
     "text": [
      "0 1 2 3 4 5 6 7 8 9 \n",
      "1 4 7 10 13 16 19 \n",
      "range(0, 10)\n",
      "En lista från range(10): [0, 1, 2, 3, 4, 5, 6, 7, 8, 9]\n"
     ]
    }
   ],
   "metadata": {}
  },
  {
   "cell_type": "code",
   "execution_count": 6,
   "source": [
    "# sum all numbers between\r\n",
    "sum_ = 0 # There exisist an bult in function in python called sum()\r\n",
    "\r\n",
    "for i in range(6):\r\n",
    "    sum_ += i\r\n",
    "\r\n",
    "    if i == 5:\r\n",
    "        continue #Skips the current iteration\r\n",
    "\r\n",
    "    print(f\"{i}+\", end = \"\")\r\n",
    "\r\n",
    "print(f\"{i} = {sum_}\")\r\n",
    "print(sum(range(6))) # Uses python built in sum function"
   ],
   "outputs": [
    {
     "output_type": "stream",
     "name": "stdout",
     "text": [
      "0+1+2+3+4+5 = 15\n"
     ]
    }
   ],
   "metadata": {}
  },
  {
   "cell_type": "markdown",
   "source": [
    "## Dice simulations \r\n",
    "- Calculate probability of dice roll 6\r\n",
    "\r\n",
    "$$\r\n",
    "\r\n",
    "$$"
   ],
   "metadata": {}
  },
  {
   "cell_type": "code",
   "execution_count": null,
   "source": [
    "import random as rnd\r\n",
    "\r\n",
    "num_six, dice_rolls = 0, 10000\r\n",
    "\r\n",
    "# Count number of six\r\n",
    "for i in range(dice_rolls):\r\n",
    "    dice = rnd.randint(1,6)\r\n",
    "    if dice == 6:\r\n",
    "        num_six += 1\r\n",
    "\r\n",
    "print(f\"Number of six{num_six} in {dice_rolls} dice rolls\")\r\n",
    "print(f\"Probabilaty of six{num_six/dice_rolls}\")"
   ],
   "outputs": [],
   "metadata": {}
  },
  {
   "cell_type": "markdown",
   "source": [
    "## Loop through list"
   ],
   "metadata": {}
  },
  {
   "cell_type": "code",
   "execution_count": 8,
   "source": [
    "fruits = [\"apple\",\"orange\" ,\"strawberry\", \"grape\"] # created list of yummy fruits\r\n",
    "print(\"I love to eat: \")\r\n",
    "\r\n",
    "for fruit in fruits:\r\n",
    "    print(fruit)"
   ],
   "outputs": [
    {
     "output_type": "stream",
     "name": "stdout",
     "text": [
      "I love to eat: \n",
      "apple\n",
      "orange\n",
      "strawberry\n",
      "grape\n"
     ]
    }
   ],
   "metadata": {}
  },
  {
   "cell_type": "code",
   "execution_count": 7,
   "source": [
    "fruits = [\"apple\",\"orange\" ,\"strawberry\", \"grape\"] # created list of yummy fruits\r\n",
    "\r\n",
    "print(\"Shopping list: \")\r\n",
    "for i, fruit in enumerate(fruits):\r\n",
    "    print(f\"{i}. {fruit}\")"
   ],
   "outputs": [
    {
     "output_type": "stream",
     "name": "stdout",
     "text": [
      "Shopping list: \n",
      "0. apple\n",
      "1. orange\n",
      "2. strawberry\n",
      "3. grape\n"
     ]
    }
   ],
   "metadata": {}
  }
 ],
 "metadata": {
  "orig_nbformat": 4,
  "language_info": {
   "name": "python",
   "version": "3.9.6",
   "mimetype": "text/x-python",
   "codemirror_mode": {
    "name": "ipython",
    "version": 3
   },
   "pygments_lexer": "ipython3",
   "nbconvert_exporter": "python",
   "file_extension": ".py"
  },
  "kernelspec": {
   "name": "python3",
   "display_name": "Python 3.9.6 64-bit ('python-programmering-Fabian-Adnersson-7Vjomyem': pipenv)"
  },
  "interpreter": {
   "hash": "f6ced4aceb5dca1d902771a0c4caef10d5e109c6ad3a1438b115d6b0f80a24fd"
  }
 },
 "nbformat": 4,
 "nbformat_minor": 2
}