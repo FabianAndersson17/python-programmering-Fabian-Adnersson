{
 "cells": [
  {
   "cell_type": "markdown",
   "source": [
    "# Lists"
   ],
   "metadata": {}
  },
  {
   "cell_type": "code",
   "execution_count": 6,
   "source": [
    "tv_shows = [\"Antikrundan\", \"Mästerkockarna\", \"Aktuellt\", \"Talang\"]\r\n",
    "\r\n",
    "# access items - [] operator\r\n",
    "print(f\"tv_shows[0]: {tv_shows[0]}\") # takes first element\r\n",
    "print(f\"tv_shows[1]: {tv_shows[1]}\")\r\n",
    "print(f\"tv_shows[-1]: {tv_shows[-1]}\") # takes last element\r\n",
    "\r\n",
    "# slicing operator - : operator\r\n",
    "\r\n",
    "print(f\"tv_shows[:]: {tv_shows[:]}\")\r\n",
    "print(f\"tv_shows[1:]: {tv_shows[1:]}\") # starts in index 1 and goes to the end\r\n",
    "print(f\"tv_shows[1:3]: {tv_shows[1:3]}\") # note [start:end-1]\r\n",
    "print(f\"tv_shows[::-1]: {tv_shows[::-1]}\") # start:end-1:step"
   ],
   "outputs": [
    {
     "output_type": "stream",
     "name": "stdout",
     "text": [
      "tv_shows[0]: Antikrundan\n",
      "tv_shows[1]: Mästerkockarna\n",
      "tv_shows[-1]: Talang\n",
      "tv_shows[:]: ['Antikrundan', 'Mästerkockarna', 'Aktuellt', 'Talang']\n",
      "tv_shows[1:]: ['Mästerkockarna', 'Aktuellt', 'Talang']\n",
      "tv_shows[1:3]: ['Mästerkockarna', 'Aktuellt']\n",
      "tv_shows[::-1]: ['Talang', 'Aktuellt', 'Mästerkockarna', 'Antikrundan']\n"
     ]
    }
   ],
   "metadata": {}
  },
  {
   "cell_type": "code",
   "execution_count": 9,
   "source": [
    "# Change list items\r\n",
    "tv_shows = [\"Antikrundan\", \"Mästerkockarna\", \"Aktuellt\", \"Talang\"]\r\n",
    "tv_shows [0] = \"Vetenskapens värld\"\r\n",
    "\r\n",
    "print(tv_shows)\r\n",
    "\r\n",
    "# add an item to the list¨\r\n",
    "tv_shows.append(\"Go kväll\")\r\n",
    "print(tv_shows)"
   ],
   "outputs": [
    {
     "output_type": "stream",
     "name": "stdout",
     "text": [
      "['Vetenskapens värld', 'Mästerkockarna', 'Aktuellt', 'Talang']\n",
      "['Vetenskapens värld', 'Mästerkockarna', 'Aktuellt', 'Talang', 'Go kväll']\n"
     ]
    }
   ],
   "metadata": {}
  },
  {
   "cell_type": "markdown",
   "source": [
    "## Itarate though list"
   ],
   "metadata": {}
  },
  {
   "cell_type": "code",
   "execution_count": 10,
   "source": [
    "for tv_show in tv_shows:\r\n",
    "    print(tv_show)"
   ],
   "outputs": [
    {
     "output_type": "stream",
     "name": "stdout",
     "text": [
      "Vetenskapens värld\n",
      "Mästerkockarna\n",
      "Aktuellt\n",
      "Talang\n",
      "Go kväll\n"
     ]
    }
   ],
   "metadata": {}
  },
  {
   "cell_type": "code",
   "execution_count": 13,
   "source": [
    "print(\"Tv tablå\")\r\n",
    "for i, tv_show in enumerate(tv_shows):\r\n",
    "    print(f\"{i}: {tv_show}\")"
   ],
   "outputs": [
    {
     "output_type": "stream",
     "name": "stdout",
     "text": [
      "Tv tablå\n",
      "0: Vetenskapens värld\n",
      "1: Mästerkockarna\n",
      "2: Aktuellt\n",
      "3: Talang\n",
      "4: Go kväll\n"
     ]
    }
   ],
   "metadata": {}
  },
  {
   "cell_type": "code",
   "execution_count": 14,
   "source": [
    "# List of cubes\r\n",
    "cubes = []\r\n",
    "\r\n",
    "for i in range(10):\r\n",
    "    cubes.append(i**3)\r\n",
    "\r\n",
    "print(cubes)"
   ],
   "outputs": [
    {
     "output_type": "stream",
     "name": "stdout",
     "text": [
      "[0, 1, 8, 27, 64, 125, 216, 343, 512, 729]\n"
     ]
    }
   ],
   "metadata": {}
  },
  {
   "cell_type": "code",
   "execution_count": 15,
   "source": [
    "# list comprehensions\r\n",
    "cubes2 = [x**3 for x in range(10)]\r\n",
    "print(cubes2)\r\n",
    "\r\n",
    "# Can add if statement"
   ],
   "outputs": [
    {
     "output_type": "stream",
     "name": "stdout",
     "text": [
      "[0, 1, 8, 27, 64, 125, 216, 343, 512, 729]\n"
     ]
    }
   ],
   "metadata": {}
  },
  {
   "cell_type": "code",
   "execution_count": 18,
   "source": [
    "import random as rnd\r\n",
    "dices = [rnd.randint(1,6) for _ in range(10)]\r\n",
    "print(dices)\r\n",
    "dices.sort() #returns none\r\n",
    "print(dices)"
   ],
   "outputs": [
    {
     "output_type": "stream",
     "name": "stdout",
     "text": [
      "[4, 2, 4, 5, 6, 2, 1, 1, 4, 2]\n",
      "[1, 1, 2, 2, 2, 4, 4, 4, 5, 6]\n"
     ]
    }
   ],
   "metadata": {}
  },
  {
   "cell_type": "code",
   "execution_count": 23,
   "source": [
    "tv_shows =['Vetenskapens värld', 'Mästerkockarna', 'Aktuellt', 'Talang', 'Go kväll', \"Äta\", \"34\", \"12\"]\r\n",
    "print(tv_shows)\r\n",
    "\r\n",
    "tv_shows.sort() # sort works for digits, works for str, but not mix of data types\r\n",
    "print(tv_shows)\r\n",
    "\r\n",
    "tv_shows.sort(reverse=True)\r\n",
    "print(tv_shows)"
   ],
   "outputs": [
    {
     "output_type": "stream",
     "name": "stdout",
     "text": [
      "['Vetenskapens värld', 'Mästerkockarna', 'Aktuellt', 'Talang', 'Go kväll', 'Äta', '34', '12']\n",
      "['12', '34', 'Aktuellt', 'Go kväll', 'Mästerkockarna', 'Talang', 'Vetenskapens värld', 'Äta']\n",
      "['Äta', 'Vetenskapens värld', 'Talang', 'Mästerkockarna', 'Go kväll', 'Aktuellt', '34', '12']\n"
     ]
    }
   ],
   "metadata": {}
  },
  {
   "cell_type": "code",
   "execution_count": 28,
   "source": [
    "exemple_tuple = (1,2,3)\r\n",
    "exemple_tuple[2] "
   ],
   "outputs": [
    {
     "output_type": "execute_result",
     "data": {
      "text/plain": [
       "1"
      ]
     },
     "metadata": {},
     "execution_count": 28
    }
   ],
   "metadata": {}
  },
  {
   "cell_type": "markdown",
   "source": [
    "## list in a list"
   ],
   "metadata": {}
  },
  {
   "cell_type": "code",
   "execution_count": 5,
   "source": [
    "# list in a list\r\n",
    "grades = [[\"A\", 30], [\"B\", 25], [\"C\", 20]]\r\n",
    "grades[1]\r\n",
    "print(f\"grades[1]: {grades[1]}\")\r\n",
    "print(f\"grades[1][0]: {grades[1][0]}\")"
   ],
   "outputs": [
    {
     "output_type": "stream",
     "name": "stdout",
     "text": [
      "grades[1]: ['B', 25]\n",
      "grades[1][0]: B\n"
     ]
    }
   ],
   "metadata": {}
  }
 ],
 "metadata": {
  "orig_nbformat": 4,
  "language_info": {
   "name": "python",
   "version": "3.9.6",
   "mimetype": "text/x-python",
   "codemirror_mode": {
    "name": "ipython",
    "version": 3
   },
   "pygments_lexer": "ipython3",
   "nbconvert_exporter": "python",
   "file_extension": ".py"
  },
  "kernelspec": {
   "name": "python3",
   "display_name": "Python 3.9.6 64-bit ('python-programmering-Fabian-Adnersson-7Vjomyem': pipenv)"
  },
  "interpreter": {
   "hash": "f6ced4aceb5dca1d902771a0c4caef10d5e109c6ad3a1438b115d6b0f80a24fd"
  }
 },
 "nbformat": 4,
 "nbformat_minor": 2
}