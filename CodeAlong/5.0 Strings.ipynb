{
 "cells": [
  {
   "cell_type": "markdown",
   "source": [
    "# Strings"
   ],
   "metadata": {}
  },
  {
   "cell_type": "markdown",
   "source": [
    "## Concatenationg Strings"
   ],
   "metadata": {}
  },
  {
   "cell_type": "code",
   "execution_count": 3,
   "source": [
    "firstname = \"Fabian\"\r\n",
    "lastname = \"Andersson\"\r\n",
    "\r\n",
    "fullname = firstname + \" \" + lastname\r\n",
    "\r\n",
    "school = \"IT-högskolan\"\r\n",
    "adress = \"Ebbe Lierbethsgatan 18C\"\r\n",
    "phone = \"112\"\r\n",
    "\r\n",
    "print(fullname)\r\n",
    "\r\n",
    "# Multiline f-string\r\n",
    "\r\n",
    "contact_details = f\"\"\"\r\n",
    "Name: {fullname}\r\n",
    "School: {school}\r\n",
    "Adress: {adress}\r\n",
    "Phone: {phone}\r\n",
    "\"\"\"\r\n",
    "\r\n",
    "print(contact_details)"
   ],
   "outputs": [
    {
     "output_type": "stream",
     "name": "stdout",
     "text": [
      "Fabian Andersson\n",
      "\n",
      "Name: Fabian Andersson\n",
      "School: IT-högskolan\n",
      "Adress: Ebbe Lierbethsgatan 18C\n",
      "Phone: 112\n",
      "\n"
     ]
    }
   ],
   "metadata": {}
  },
  {
   "cell_type": "markdown",
   "source": [
    "## Concatenate with loop"
   ],
   "metadata": {}
  },
  {
   "cell_type": "code",
   "execution_count": 8,
   "source": [
    "bamba = \"Chili sin Carne, Kötbullar, Fisk, Pannkakor, Taco\".split(\", \")\r\n",
    "days = \"Må Ti On To Fr\".split() # split() per defult on empty space\r\n",
    "\r\n",
    "menu = \"Veckomeny  \\n\"\r\n",
    "\r\n",
    "for day, food in zip(days, bamba):\r\n",
    "    menu += f\"{day}: {food} \\n\"\r\n",
    "\r\n",
    "print(menu)"
   ],
   "outputs": [
    {
     "output_type": "stream",
     "name": "stdout",
     "text": [
      "Veckomeny  \n",
      "Må: Chili sin Carne \n",
      "Ti: Kötbullar \n",
      "On: Fisk \n",
      "To: Pannkakor \n",
      "Fr: Taco \n",
      "\n"
     ]
    }
   ],
   "metadata": {}
  },
  {
   "cell_type": "markdown",
   "source": [
    "## Indexing\r\n",
    "\r\n",
    "- indexing with [] operator to access elements \r\n",
    "- Slicing operator:"
   ],
   "metadata": {}
  },
  {
   "cell_type": "code",
   "execution_count": 43,
   "source": [
    "quote = \"!False - it's funny because it's true\" # works, note diffrent enkelfnutt/dubbel fnutt\r\n",
    "# quote = '!False - it's funny because it's true' # dosen't work\r\n",
    "\r\n",
    "print(f\"quote[0]: {quote[0]}\")\r\n",
    "print(f\"quote[-1]: {quote[-1]}\")\r\n",
    "print(f\"quote[-4]: {quote[-4:]}\")\r\n",
    "print(f\"quote[1:6]: {quote[1:6]}\") # [start:stop-1]\r\n",
    "print(f\"backwards quote[::-1] {quote[::-1]}\") # [start:stop-1:step]"
   ],
   "outputs": [
    {
     "output_type": "stream",
     "name": "stdout",
     "text": [
      "quote[0]: !\n",
      "quote[-1]: e\n",
      "quote[-4]: true\n",
      "quote[1:6]: False\n",
      "backwards quote[::-1] eurt s'ti esuaceb ynnuf s'ti - eslaF!\n"
     ]
    }
   ],
   "metadata": {}
  },
  {
   "cell_type": "markdown",
   "source": [
    "## Split string"
   ],
   "metadata": {}
  },
  {
   "cell_type": "code",
   "execution_count": 41,
   "source": [
    "numbers = input(\"Ange några tal separerade med mellanslag\").split() # data type is string\r\n",
    "#print(numbers[0] + numbers[1])\r\n",
    "\r\n",
    "numbers = [float(number) for number in numbers if number.isdigit()]\r\n",
    "\r\n",
    "print(numbers)\r\n",
    "mean = sum(numbers)/len(numbers)\r\n",
    "print(f\"Medelvärdet är {mean}\")"
   ],
   "outputs": [
    {
     "output_type": "stream",
     "name": "stdout",
     "text": [
      "[5.0, 4.0, 3.0]\n",
      "Medelvärdet är 4.0\n"
     ]
    }
   ],
   "metadata": {}
  },
  {
   "cell_type": "markdown",
   "source": [
    "## Regular expression\r\n",
    "\r\n",
    "- find particular in a string\r\n",
    "- e.g. phone numbers, personal numbers, emails..."
   ],
   "metadata": {}
  },
  {
   "cell_type": "code",
   "execution_count": 40,
   "source": [
    "import re\r\n",
    "\r\n",
    "text = \"Mitt telefonnummer är 021-432567, Adas telefonnummer är 031-384738, Bedas telefonnummer är 0739-534923\"\r\n",
    "\r\n",
    "match = re.findall(r\"\\d\\d\\d-\\d\\d\\d\\d\\d\\d\", text)\r\n",
    "print (match)\r\n",
    "\r\n",
    "match2 = re.findall(r\"\\d{3}-\\d{6}\", text)\r\n",
    "print(match2)"
   ],
   "outputs": [
    {
     "output_type": "stream",
     "name": "stdout",
     "text": [
      "['021-432567', '031-384738', '739-534923']\n",
      "['021-432567', '031-384738', '739-534923']\n"
     ]
    }
   ],
   "metadata": {}
  },
  {
   "cell_type": "code",
   "execution_count": 39,
   "source": [
    "import re\r\n",
    "\r\n",
    "# Find all words ending with att\r\n",
    "text = \"Det var en gång en katt, som tog på sig en hatt, jag blev matt, så jag spelade schack och vann med en skolmatt\"\r\n",
    "\r\n",
    "match = re.findall(r\".att\", text)\r\n",
    "print(match)"
   ],
   "outputs": [
    {
     "output_type": "stream",
     "name": "stdout",
     "text": [
      "['katt', 'hatt', 'matt', 'matt']\n"
     ]
    }
   ],
   "metadata": {}
  }
 ],
 "metadata": {
  "orig_nbformat": 4,
  "language_info": {
   "name": "python",
   "version": "3.9.6",
   "mimetype": "text/x-python",
   "codemirror_mode": {
    "name": "ipython",
    "version": 3
   },
   "pygments_lexer": "ipython3",
   "nbconvert_exporter": "python",
   "file_extension": ".py"
  },
  "kernelspec": {
   "name": "python3",
   "display_name": "Python 3.9.6 64-bit ('python-programmering-Fabian-Adnersson-7Vjomyem': pipenv)"
  },
  "interpreter": {
   "hash": "f6ced4aceb5dca1d902771a0c4caef10d5e109c6ad3a1438b115d6b0f80a24fd"
  }
 },
 "nbformat": 4,
 "nbformat_minor": 2
}