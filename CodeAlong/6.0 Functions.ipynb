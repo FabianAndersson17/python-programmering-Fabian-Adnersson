{
 "cells": [
  {
   "cell_type": "markdown",
   "source": [
    "# Functions "
   ],
   "metadata": {}
  },
  {
   "cell_type": "markdown",
   "source": [
    "## Basic functions"
   ],
   "metadata": {}
  },
  {
   "cell_type": "code",
   "execution_count": 66,
   "source": [
    "def cube(number):\r\n",
    "    return number**3\r\n",
    "\r\n",
    "print(f\"Cube(3): {cube(3)}\")\r\n",
    "\r\n",
    "cube5 = cube(5)\r\n",
    "print(cube5)\r\n",
    "\r\n",
    "cubes = [cube(x) for x in range(10)]\r\n",
    "print(cubes)"
   ],
   "outputs": [
    {
     "output_type": "stream",
     "name": "stdout",
     "text": [
      "Cube(3): 27\n",
      "125\n",
      "[0, 1, 8, 27, 64, 125, 216, 343, 512, 729]\n"
     ]
    }
   ],
   "metadata": {}
  },
  {
   "cell_type": "code",
   "execution_count": 64,
   "source": [
    "def mean1(num1, num2, num3):\r\n",
    "    mean = (num1 + num2 + num3)/3\r\n",
    "    return mean\r\n",
    "\r\n",
    "print(f\"mean1(1,3,5): {mean1(1,3,5)}\")\r\n",
    "#print(mean) - mean is not defined outside the scope of the function"
   ],
   "outputs": [
    {
     "output_type": "stream",
     "name": "stdout",
     "text": [
      "mean1(1,3,5): 3.0\n"
     ]
    }
   ],
   "metadata": {}
  },
  {
   "cell_type": "markdown",
   "source": [
    "## Defult values"
   ],
   "metadata": {}
  },
  {
   "cell_type": "code",
   "execution_count": 74,
   "source": [
    "def say_hi(name = \"friend\", age = 0):\r\n",
    "    print(f\"Hi {name}, you are {age} years old\")\r\n",
    "\r\n",
    "say_hi(\"Fabian\", 19) # defult values are overwritten by input arguments\r\n",
    "say_hi() # defult values are used\r\n",
    "say_hi(age = 19)"
   ],
   "outputs": [
    {
     "output_type": "stream",
     "name": "stdout",
     "text": [
      "Hi Fabian, you are 19 years old\n",
      "Hi friend, you are 0 years old\n",
      "Hi friend, you are 19 years old\n"
     ]
    }
   ],
   "metadata": {}
  },
  {
   "cell_type": "markdown",
   "source": [
    "## Keyword arguments\r\n",
    "\r\n",
    "- Key = value syntax"
   ],
   "metadata": {}
  },
  {
   "cell_type": "code",
   "execution_count": 77,
   "source": [
    "def count_words(text = \"\"):\r\n",
    "    words = text.split()\r\n",
    "    return len(words)\r\n",
    "\r\n",
    "print(count_words(\"I stand on the shoulders of giants - Isaac Newton\"))\r\n",
    "print(count_words())"
   ],
   "outputs": [
    {
     "output_type": "stream",
     "name": "stdout",
     "text": [
      "10\n",
      "0\n"
     ]
    }
   ],
   "metadata": {}
  }
 ],
 "metadata": {
  "orig_nbformat": 4,
  "language_info": {
   "name": "python",
   "version": "3.9.6",
   "mimetype": "text/x-python",
   "codemirror_mode": {
    "name": "ipython",
    "version": 3
   },
   "pygments_lexer": "ipython3",
   "nbconvert_exporter": "python",
   "file_extension": ".py"
  },
  "kernelspec": {
   "name": "python3",
   "display_name": "Python 3.9.6 64-bit ('python-programmering-Fabian-Adnersson-7Vjomyem': pipenv)"
  },
  "interpreter": {
   "hash": "f6ced4aceb5dca1d902771a0c4caef10d5e109c6ad3a1438b115d6b0f80a24fd"
  }
 },
 "nbformat": 4,
 "nbformat_minor": 2
}