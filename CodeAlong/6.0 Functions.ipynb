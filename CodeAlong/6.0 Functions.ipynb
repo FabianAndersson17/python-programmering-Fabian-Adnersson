{
 "cells": [
  {
   "cell_type": "markdown",
   "source": [
    "# Functions "
   ],
   "metadata": {}
  },
  {
   "cell_type": "markdown",
   "source": [
    "## Basic functions"
   ],
   "metadata": {}
  },
  {
   "cell_type": "code",
   "execution_count": 66,
   "source": [
    "def cube(number):\r\n",
    "    return number**3\r\n",
    "\r\n",
    "print(f\"Cube(3): {cube(3)}\")\r\n",
    "\r\n",
    "cube5 = cube(5)\r\n",
    "print(cube5)\r\n",
    "\r\n",
    "cubes = [cube(x) for x in range(10)]\r\n",
    "print(cubes)"
   ],
   "outputs": [
    {
     "output_type": "stream",
     "name": "stdout",
     "text": [
      "Cube(3): 27\n",
      "125\n",
      "[0, 1, 8, 27, 64, 125, 216, 343, 512, 729]\n"
     ]
    }
   ],
   "metadata": {}
  },
  {
   "cell_type": "code",
   "execution_count": 64,
   "source": [
    "def mean1(num1, num2, num3):\r\n",
    "    mean = (num1 + num2 + num3)/3\r\n",
    "    return mean\r\n",
    "\r\n",
    "print(f\"mean1(1,3,5): {mean1(1,3,5)}\")\r\n",
    "#print(mean) - mean is not defined outside the scope of the function"
   ],
   "outputs": [
    {
     "output_type": "stream",
     "name": "stdout",
     "text": [
      "mean1(1,3,5): 3.0\n"
     ]
    }
   ],
   "metadata": {}
  },
  {
   "cell_type": "markdown",
   "source": [
    "## Defult values"
   ],
   "metadata": {}
  },
  {
   "cell_type": "code",
   "execution_count": 74,
   "source": [
    "def say_hi(name = \"friend\", age = 0):\r\n",
    "    print(f\"Hi {name}, you are {age} years old\")\r\n",
    "\r\n",
    "say_hi(\"Fabian\", 19) # defult values are overwritten by input arguments\r\n",
    "say_hi() # defult values are used\r\n",
    "say_hi(age = 19)"
   ],
   "outputs": [
    {
     "output_type": "stream",
     "name": "stdout",
     "text": [
      "Hi Fabian, you are 19 years old\n",
      "Hi friend, you are 0 years old\n",
      "Hi friend, you are 19 years old\n"
     ]
    }
   ],
   "metadata": {}
  },
  {
   "cell_type": "markdown",
   "source": [
    "## Keyword arguments\r\n",
    "\r\n",
    "- Key = value syntax"
   ],
   "metadata": {}
  },
  {
   "cell_type": "code",
   "execution_count": 77,
   "source": [
    "def count_words(text = \"\"):\r\n",
    "    words = text.split()\r\n",
    "    return len(words)\r\n",
    "\r\n",
    "print(count_words(\"I stand on the shoulders of giants - Isaac Newton\"))\r\n",
    "print(count_words())"
   ],
   "outputs": [
    {
     "output_type": "stream",
     "name": "stdout",
     "text": [
      "10\n",
      "0\n"
     ]
    }
   ],
   "metadata": {}
  },
  {
   "cell_type": "markdown",
   "source": [
    "## Arbitrary arguments, *args"
   ],
   "metadata": {}
  },
  {
   "cell_type": "code",
   "execution_count": 78,
   "source": [
    "def mean2(*numbers):\r\n",
    "    sum_ = 0\r\n",
    "    for number in numbers:\r\n",
    "        sum_ += number\r\n",
    "    return sum_ /len(numbers)\r\n",
    "\r\n",
    "print(f\"mean2(2,3,4): {mean2(2,3,4)}\")\r\n",
    "print(f\"mean2(2,3,4,5: {mean2(2,3,4,5)}\")"
   ],
   "outputs": [
    {
     "output_type": "stream",
     "name": "stdout",
     "text": [
      "mean2(2,3,4): 3.0\n",
      "mean2(2,3,4,5: 3.5\n"
     ]
    }
   ],
   "metadata": {}
  },
  {
   "cell_type": "markdown",
   "source": [
    "## Lambda functions\r\n",
    "- anonymous function"
   ],
   "metadata": {}
  },
  {
   "cell_type": "code",
   "execution_count": 82,
   "source": [
    "cuber = lambda x: x**3\r\n",
    "\r\n",
    "\"\"\"\r\n",
    "def cuber(x):\r\n",
    "    return x**3\r\n",
    "\"\"\"\r\n",
    "\r\n",
    "print(f\"cuber(3): {cuber(3)}\")"
   ],
   "outputs": [
    {
     "output_type": "stream",
     "name": "stdout",
     "text": [
      "cuber(3): 27\n"
     ]
    }
   ],
   "metadata": {}
  },
  {
   "cell_type": "code",
   "execution_count": 84,
   "source": [
    "def n_power(n):\r\n",
    "    return lambda x: x**n\r\n",
    "\r\n",
    "third_power = n_power(3) # third_power is a function with parameter x\r\n",
    "\r\n",
    "print(third_power(3))"
   ],
   "outputs": [
    {
     "output_type": "stream",
     "name": "stdout",
     "text": [
      "27\n"
     ]
    }
   ],
   "metadata": {}
  },
  {
   "cell_type": "markdown",
   "source": [
    "## Draw lines"
   ],
   "metadata": {}
  },
  {
   "cell_type": "code",
   "execution_count": 86,
   "source": [
    "import matplotlib.pyplot as plt\r\n",
    "\r\n",
    "x = list(range(-5,5))\r\n",
    "def draw_lines(x, k = 1, m = 1, title=\"\") :\r\n",
    "    y = [k*x_+m for x_ in x]\r\n",
    "\r\n",
    "    plt.plot(x,y)\r\n",
    "    plt.xlabel(\"x\")\r\n",
    "    plt.ylabel(\"y\")\r\n",
    "    plt.title(title)\r\n",
    "\r\n",
    "draw_lines(x, title = \"Lines\")\r\n",
    "draw_lines(x, k=2, m=1, title = \"Lines\")"
   ],
   "outputs": [
    {
     "output_type": "display_data",
     "data": {
      "image/png": "[encoded data removed]",
      "text/plain": [
       "<Figure size 432x288 with 1 Axes>"
      ]
     },
     "metadata": {
      "needs_background": "light"
     }
    }
   ],
   "metadata": {}
  }
 ],
 "metadata": {
  "orig_nbformat": 4,
  "language_info": {
   "name": "python",
   "version": "3.9.6",
   "mimetype": "text/x-python",
   "codemirror_mode": {
    "name": "ipython",
    "version": 3
   },
   "pygments_lexer": "ipython3",
   "nbconvert_exporter": "python",
   "file_extension": ".py"
  },
  "kernelspec": {
   "name": "python3",
   "display_name": "Python 3.9.6 64-bit ('python-programmering-Fabian-Adnersson-7Vjomyem': pipenv)"
  },
  "interpreter": {
   "hash": "f6ced4aceb5dca1d902771a0c4caef10d5e109c6ad3a1438b115d6b0f80a24fd"
  }
 },
 "nbformat": 4,
 "nbformat_minor": 2
}