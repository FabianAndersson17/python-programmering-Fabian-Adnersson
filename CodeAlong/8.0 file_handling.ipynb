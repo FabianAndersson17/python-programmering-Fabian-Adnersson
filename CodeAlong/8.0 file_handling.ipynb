{
 "cells": [
  {
   "cell_type": "markdown",
   "source": [
    "# File handling\r\n",
    "\r\n",
    "options\r\n",
    "- \"r\" - read\r\n",
    "- \"a\" - append\r\n",
    "- \"w\" - write\r\n",
    "- \"x\" - create"
   ],
   "metadata": {}
  },
  {
   "cell_type": "code",
   "execution_count": 4,
   "source": [
    "## with -> use this when opening files\r\n",
    "## Takes care of error hadndeling\r\n",
    "## Takes care if closing down the file\r\n",
    "with open(\"Files/quotes.txt\", \"r\") as f: ## \"r\" option -> reads file \r\n",
    "    text = f.read()\r\n",
    "\r\n",
    "## print(text)\r\n"
   ],
   "outputs": [],
   "metadata": {}
  },
  {
   "cell_type": "markdown",
   "source": [
    "## Clean up quotes.txt\r\n",
    "- Inspect quotes.txt\r\n",
    "- Remove leading and trailing whitespaces\r\n",
    "- Remove excessive whitespaces between words.\r\n",
    "- Add quote numbers\r\n",
    "- Extract authors"
   ],
   "metadata": {}
  },
  {
   "cell_type": "code",
   "execution_count": 16,
   "source": [
    "path = \"Files/quotes.txt\"\r\n",
    "\r\n",
    "with open(path, \"r\") as f1:\r\n",
    "    ##quotes = f1.readlines()\r\n",
    "    ##print(quotes)\r\n",
    "\r\n",
    "    quotes = [quote.strip(\"\\n\") for quote in f1.readlines()]\r\n",
    "    print(quotes)\r\n"
   ],
   "outputs": [
    {
     "output_type": "stream",
     "name": "stdout",
     "text": [
      "['  If     we     knew what it was      we were doing, it would not be called research,          would it?     - Albert Einstein', '', 'Time is a drug. Too       much of it kills you.  -  Terry Pratchett', '', '', ' An expert is a person who       has made all the mistakes that           can be made in a          very narrow field - Niels Bohr', '', '   Everything must be made as simple as possible. But not simpler. - Albert Einstein     ', '', '', '  Nothing in life                is to be feared, it is only to be understood. Now is the time to understand more, so that we may fear less. - Marie  Curie  ', '', 'If I have seen further     it is by standing on the shoulders of Giants. - Isaac Newton']\n"
     ]
    }
   ],
   "metadata": {}
  },
  {
   "cell_type": "code",
   "execution_count": 17,
   "source": [
    "path = \"Files/quotes.txt\"\r\n",
    "\r\n",
    "with open(path, \"r\") as f1:\r\n",
    "\r\n",
    "    for quote in f1.readlines():\r\n",
    "        quote = quote.strip(\"\\n\")\r\n",
    "        print(quote)"
   ],
   "outputs": [
    {
     "output_type": "stream",
     "name": "stdout",
     "text": [
      "  If     we     knew what it was      we were doing, it would not be called research,          would it?     - Albert Einstein\n",
      "\n",
      "Time is a drug. Too       much of it kills you.  -  Terry Pratchett\n",
      "\n",
      "\n",
      " An expert is a person who       has made all the mistakes that           can be made in a          very narrow field - Niels Bohr\n",
      "\n",
      "   Everything must be made as simple as possible. But not simpler. - Albert Einstein     \n",
      "\n",
      "\n",
      "  Nothing in life                is to be feared, it is only to be understood. Now is the time to understand more, so that we may fear less. - Marie  Curie  \n",
      "\n",
      "If I have seen further     it is by standing on the shoulders of Giants. - Isaac Newton\n"
     ]
    }
   ],
   "metadata": {}
  }
 ],
 "metadata": {
  "orig_nbformat": 4,
  "language_info": {
   "name": "python",
   "version": "3.9.6",
   "mimetype": "text/x-python",
   "codemirror_mode": {
    "name": "ipython",
    "version": 3
   },
   "pygments_lexer": "ipython3",
   "nbconvert_exporter": "python",
   "file_extension": ".py"
  },
  "kernelspec": {
   "name": "python3",
   "display_name": "Python 3.9.6 64-bit ('python-programmering-Fabian-Adnersson-7Vjomyem': pipenv)"
  },
  "interpreter": {
   "hash": "f6ced4aceb5dca1d902771a0c4caef10d5e109c6ad3a1438b115d6b0f80a24fd"
  }
 },
 "nbformat": 4,
 "nbformat_minor": 2
}