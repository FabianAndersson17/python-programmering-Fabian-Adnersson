{
 "cells": [
  {
   "cell_type": "markdown",
   "source": [
    "# File handling\r\n",
    "\r\n",
    "options\r\n",
    "- \"r\" - read\r\n",
    "- \"a\" - append\r\n",
    "- \"w\" - write\r\n",
    "- \"x\" - create"
   ],
   "metadata": {}
  },
  {
   "cell_type": "code",
   "execution_count": 4,
   "source": [
    "## with -> use this when opening files\r\n",
    "## Takes care of error hadndeling\r\n",
    "## Takes care if closing down the file\r\n",
    "with open(\"Files/quotes.txt\", \"r\") as f: ## \"r\" option -> reads file \r\n",
    "    text = f.read()\r\n",
    "\r\n",
    "## print(text)\r\n"
   ],
   "outputs": [],
   "metadata": {}
  },
  {
   "cell_type": "markdown",
   "source": [
    "## Clean up quotes.txt\r\n",
    "- Inspect quotes.txt\r\n",
    "- Remove leading and trailing whitespaces\r\n",
    "- Remove excessive whitespaces between words.\r\n",
    "- Add quote numbers\r\n",
    "- Extract authors"
   ],
   "metadata": {}
  },
  {
   "cell_type": "code",
   "execution_count": 16,
   "source": [
    "path = \"Files/quotes.txt\"\r\n",
    "\r\n",
    "with open(path, \"r\") as f1:\r\n",
    "    ##quotes = f1.readlines()\r\n",
    "    ##print(quotes)\r\n",
    "\r\n",
    "    quotes = [quote.strip(\"\\n\") for quote in f1.readlines()]\r\n",
    "    print(quotes)\r\n"
   ],
   "outputs": [
    {
     "output_type": "stream",
     "name": "stdout",
     "text": [
      "['  If     we     knew what it was      we were doing, it would not be called research,          would it?     - Albert Einstein', '', 'Time is a drug. Too       much of it kills you.  -  Terry Pratchett', '', '', ' An expert is a person who       has made all the mistakes that           can be made in a          very narrow field - Niels Bohr', '', '   Everything must be made as simple as possible. But not simpler. - Albert Einstein     ', '', '', '  Nothing in life                is to be feared, it is only to be understood. Now is the time to understand more, so that we may fear less. - Marie  Curie  ', '', 'If I have seen further     it is by standing on the shoulders of Giants. - Isaac Newton']\n"
     ]
    }
   ],
   "metadata": {}
  },
  {
   "cell_type": "code",
   "execution_count": 80,
   "source": [
    "import re\r\n",
    "path = \"Files/quotes.txt\"\r\n",
    "path_clean = \"Files/quotes_clean.txt\"\r\n",
    "i = 1\r\n",
    "\r\n",
    "with open(path, \"r\") as f1, open(path_clean, \"w\") as f2:\r\n",
    "\r\n",
    "    f2.write(\"Famous quotes:\\n\\n\")\r\n",
    "    for quote in f1.readlines():\r\n",
    "        quote = quote.strip(\" \\n\") ## Removes leading and trailing whitespaces and newlines\r\n",
    "        quote = re.sub(\" +\", \" \", quote) ## Substitutes >= 1 whitespaces with 1 whitespace\r\n",
    "        ##print(repr(quote))\r\n",
    "        if quote != \"\":\r\n",
    "            f2.write(f\"{i}. {quote}\\n\")\r\n",
    "            i += 1"
   ],
   "outputs": [],
   "metadata": {}
  },
  {
   "cell_type": "markdown",
   "source": [
    "## Extract authors from quotes_clean.txt"
   ],
   "metadata": {}
  },
  {
   "cell_type": "code",
   "execution_count": 81,
   "source": [
    "path_clean = \"Files/quotes_clean.txt\"\r\n",
    "\r\n",
    "with open(path_clean, \"r\") as f1, open(path_clean, \"a\") as f2:\r\n",
    "    #print(f1.read())\r\n",
    "    quotes = [quote.strip(\"\\n\") for quote in f1.readlines() if quote[0].isdigit()]\r\n",
    "    ##print(quotes)\r\n",
    "    authors = [quote.split()[-2:] for quote in quotes]\r\n",
    "    authors = set([\" \".join(author) for author in authors]) ## Get unique\r\n",
    "    # set([4,4,4,4,4,1,1,2]) --> {1,2,4}\r\n",
    "    print(authors)\r\n",
    "\r\n",
    "    f2.write(\"\\nAuthors: \")\r\n",
    "\r\n",
    "    for author in authors:\r\n",
    "        f2.write(f\"{author}, \")\r\n",
    "\r\n",
    "\r\n"
   ],
   "outputs": [
    {
     "output_type": "stream",
     "name": "stdout",
     "text": [
      "{'Isaac Newton', 'Terry Pratchett', 'Marie Curie', 'Niels Bohr', 'Albert Einstein'}\n"
     ]
    }
   ],
   "metadata": {}
  }
 ],
 "metadata": {
  "orig_nbformat": 4,
  "language_info": {
   "name": "python",
   "version": "3.9.6",
   "mimetype": "text/x-python",
   "codemirror_mode": {
    "name": "ipython",
    "version": 3
   },
   "pygments_lexer": "ipython3",
   "nbconvert_exporter": "python",
   "file_extension": ".py"
  },
  "kernelspec": {
   "name": "python3",
   "display_name": "Python 3.9.6 64-bit ('python-programmering-Fabian-Adnersson-7Vjomyem': pipenv)"
  },
  "interpreter": {
   "hash": "f6ced4aceb5dca1d902771a0c4caef10d5e109c6ad3a1438b115d6b0f80a24fd"
  }
 },
 "nbformat": 4,
 "nbformat_minor": 2
}