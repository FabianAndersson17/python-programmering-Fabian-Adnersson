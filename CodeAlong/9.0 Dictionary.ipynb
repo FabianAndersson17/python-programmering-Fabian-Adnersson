{
 "cells": [
  {
   "cell_type": "markdown",
   "source": [
    "# Dictionary\r\n",
    "\r\n",
    "- key:value pair"
   ],
   "metadata": {}
  },
  {
   "cell_type": "code",
   "execution_count": 79,
   "source": [
    "person = dict(\r\n",
    "    name = \"Fabian\",\r\n",
    "    age = 19,\r\n",
    "    work = \"Student\",\r\n",
    "    interests = [\"Programming\", \"Math\", \"Food\", \"Games\"],\r\n",
    "    likes_work = True\r\n",
    ")\r\n",
    "\r\n",
    "print(f\"person dictionary {person}\")\r\n",
    "print(f\"Personens namn är {person['name']}\")\r\n",
    "print(f\"Personens ålder är {person['age']} år\")\r\n",
    "\r\n",
    "for interest in person[\"interests\"]:\r\n",
    "    print(f\"{person['name']} likes {interest}\")"
   ],
   "outputs": [
    {
     "output_type": "stream",
     "name": "stdout",
     "text": [
      "person dictionary {'name': 'Fabian', 'age': 19, 'work': 'Student', 'interests': ['Programming', 'Math', 'Food', 'Games'], 'likes_work': True}\n",
      "Personens namn är Fabian\n",
      "Personens ålder är 19 år\n",
      "Fabian likes Programming\n",
      "Fabian likes Math\n",
      "Fabian likes Food\n",
      "Fabian likes Games\n"
     ]
    }
   ],
   "metadata": {}
  },
  {
   "cell_type": "code",
   "execution_count": 176,
   "source": [
    "words = {\r\n",
    "    \"data structure\": \"means of storing and organazing data\",\r\n",
    "    \"lambda\": \"ananymous function\",\r\n",
    "    \"class\": \"blueprint for objects\"\r\n",
    "}\r\n",
    "\r\n",
    "print(\"Vi ska lära oss dessa ord: \")\r\n",
    "for key in words:\r\n",
    "    print(key, end = \", \")\r\n",
    "\r\n",
    "print(f\"\\n\\nGlosa {'':<15} Betydelse\")\r\n",
    "for key, value in words.items():\r\n",
    "    print(f\"{key:<21} {value}\")"
   ],
   "outputs": [
    {
     "output_type": "stream",
     "name": "stdout",
     "text": [
      "Vi ska lära oss dessa ord: \n",
      "data structure, lambda, class, \n",
      "\n",
      "Glosa                 Betydelse\n",
      "data structure        means of storing and organazing data\n",
      "lambda                ananymous function\n",
      "class                 blueprint for objects\n"
     ]
    }
   ],
   "metadata": {}
  },
  {
   "cell_type": "code",
   "execution_count": 207,
   "source": [
    "words[\"lambda\"] = \"An Anonymous function\"\r\n",
    "words[\"regression\"] = \"Find a function that best fits observed data\"\r\n",
    "print(words)"
   ],
   "outputs": [
    {
     "output_type": "stream",
     "name": "stdout",
     "text": [
      "{'data structure': 'means of storing and organazing data', 'lambda': 'An Anonymous function', 'class': 'blueprint for objects', 'regression': 'Find a function that best fits observed data'}\n"
     ]
    }
   ],
   "metadata": {}
  },
  {
   "cell_type": "code",
   "execution_count": 233,
   "source": [
    "# F<10, E:10, D:20, C:30, B:40, A:50\r\n",
    "\r\n",
    "grade_limits = {}\r\n",
    "grades = list(\"ABCDEF\")\r\n",
    "\r\n",
    "print(grades)\r\n",
    "\r\n",
    "for i, grade in enumerate(grades[::-1]):\r\n",
    "    grade_limits[grade] = i*10\r\n",
    "    \r\n",
    "grade_limits[\"F\"] = \"<10\"\r\n",
    "print(grade_limits)"
   ],
   "outputs": [
    {
     "output_type": "stream",
     "name": "stdout",
     "text": [
      "['A', 'B', 'C', 'D', 'E', 'F']\n",
      "{'F': '<10', 'E': 10, 'D': 20, 'C': 30, 'B': 40, 'A': 50}\n"
     ]
    }
   ],
   "metadata": {}
  },
  {
   "cell_type": "markdown",
   "source": [
    "## Dictionary comprehension"
   ],
   "metadata": {}
  },
  {
   "cell_type": "code",
   "execution_count": 276,
   "source": [
    "import random as rnd\r\n",
    "\r\n",
    "grade_limits = {grade: i*10 for i, grade in enumerate(\"FEDCBA\")}\r\n",
    "print(grade_limits)\r\n",
    "\r\n",
    "def generate_scores(number_scores):\r\n",
    "    rnd.seed(1337)\r\n",
    "    scores = [rnd.randint(0, 59) for _ in range(number_scores)]\r\n",
    "    return scores\r\n",
    "\r\n",
    "scores = generate_scores(20)\r\n",
    "print(f\"Strudent scores: {scores}\")\r\n",
    "\r\n",
    "grade_count = {key: 0 for key in grade_limits}\r\n",
    "\r\n",
    "print(grade_count)\r\n",
    "\r\n",
    "for score in scores:\r\n",
    "    for grade, limit in grade_limits.items():\r\n",
    "        if limit <= score < limit + 10:\r\n",
    "            grade_count[grade] += 1\r\n",
    "\r\n",
    "print(f\"Grade count {grade_count}\")\r\n"
   ],
   "outputs": [
    {
     "output_type": "stream",
     "name": "stdout",
     "text": [
      "{'F': 0, 'E': 10, 'D': 20, 'C': 30, 'B': 40, 'A': 50}\n",
      "Strudent scores: [39, 59, 34, 45, 23, 36, 37, 46, 10, 49, 52, 21, 24, 40, 50, 23, 58, 19, 25, 44]\n",
      "{'F': 0, 'E': 0, 'D': 0, 'C': 0, 'B': 0, 'A': 0}\n",
      "Grade count {'F': 0, 'E': 2, 'D': 5, 'C': 4, 'B': 5, 'A': 4}\n"
     ]
    }
   ],
   "metadata": {}
  }
 ],
 "metadata": {
  "orig_nbformat": 4,
  "language_info": {
   "name": "python",
   "version": "3.9.6",
   "mimetype": "text/x-python",
   "codemirror_mode": {
    "name": "ipython",
    "version": 3
   },
   "pygments_lexer": "ipython3",
   "nbconvert_exporter": "python",
   "file_extension": ".py"
  },
  "kernelspec": {
   "name": "python3",
   "display_name": "Python 3.9.6 64-bit ('python-programmering-Fabian-Adnersson-7Vjomyem': pipenv)"
  },
  "interpreter": {
   "hash": "f6ced4aceb5dca1d902771a0c4caef10d5e109c6ad3a1438b115d6b0f80a24fd"
  }
 },
 "nbformat": 4,
 "nbformat_minor": 2
}