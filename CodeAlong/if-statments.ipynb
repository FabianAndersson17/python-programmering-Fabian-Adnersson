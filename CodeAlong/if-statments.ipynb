{
 "cells": [
  {
   "cell_type": "markdown",
   "source": [
    "# If statements\r\n"
   ],
   "metadata": {}
  },
  {
   "cell_type": "code",
   "execution_count": 3,
   "source": [
    "age = int(input(\"Hur gammal är du?\")) # Typechanges string to int # input 18\r\n",
    "\r\n",
    "if age < 18:\r\n",
    "    print(\"Du får inte gå till puben\")\r\n",
    "else:\r\n",
    "    print(\"Du får gå till puben\")"
   ],
   "outputs": [
    {
     "output_type": "stream",
     "name": "stdout",
     "text": [
      "Du får gå till puben\n"
     ]
    }
   ],
   "metadata": {}
  },
  {
   "cell_type": "code",
   "execution_count": 5,
   "source": [
    "age = 15\r\n",
    "height = 150\r\n",
    "\r\n",
    "# För att få åka balder åldersgräns 11 år & höjd 130 cm\r\n",
    "\r\n",
    "if age >= 11 and height >= 130: #Båda vilkoren måste vara sanna\r\n",
    "    print(\"Du får åka balder\") \r\n",
    "else:\r\n",
    "    print(\"Åk rablader istället\")\r\n",
    "\r\n",
    "print(\"Ha det så roligt på liseberg\")"
   ],
   "outputs": [
    {
     "output_type": "stream",
     "name": "stdout",
     "text": [
      "Du får åka balder\n",
      "Ha det så roligt på liseberg\n"
     ]
    }
   ],
   "metadata": {}
  },
  {
   "cell_type": "code",
   "execution_count": 4,
   "source": [
    "age = 15\r\n",
    "height = 129\r\n",
    "\r\n",
    "# För att få åka balder: åldersgräns 11 år & höjd 130 cm\r\n",
    "\r\n",
    "if age >= 11 and height >= 130: #Båda vilkoren måste vara sanna\r\n",
    "    print(\"Du får åka balder\")\r\n",
    "else:\r\n",
    "    print(\"Åk rablader istället\")\r\n",
    "\r\n",
    "print(\"Ha det så roligt på liseberg\")"
   ],
   "outputs": [
    {
     "output_type": "stream",
     "name": "stdout",
     "text": [
      "Åk rablader istället\n",
      "Ha det så roligt på liseberg\n"
     ]
    }
   ],
   "metadata": {}
  },
  {
   "cell_type": "code",
   "execution_count": null,
   "source": [
    "age = 15\r\n",
    "height = 129\r\n",
    "\r\n",
    "# För att få åka balder åldersgräns 11 år & höjd 130 cm\r\n",
    "\r\n",
    "if age >= 11 or height >= 130: #minst ett måsta vara sant\r\n",
    "    print(\"Du får åka balder\")\r\n",
    "else:\r\n",
    "    print(\"Åk rablader istället\")\r\n",
    "\r\n",
    "print(\"Ha det så roligt på liseberg\")"
   ],
   "outputs": [],
   "metadata": {}
  },
  {
   "cell_type": "code",
   "execution_count": 19,
   "source": [
    "# Modulusoperator %\r\n",
    "\r\n",
    "number = 8\r\n",
    "# Hur checkar vi om number är jämnt elle udda\r\n",
    "# Dividera med 2 och kolla om resten är 0\r\n",
    "\r\n",
    "print(number%2) # 8/2 = 4 rest 0 och % ger resten\r\n",
    "\r\n",
    "if number % 2 == 0:\r\n",
    "    print(f\"{number} är jämnt\")\r\n",
    "else:\r\n",
    "    print(f\"{number} är udda\")"
   ],
   "outputs": [
    {
     "output_type": "stream",
     "name": "stdout",
     "text": [
      "0\n",
      "8 är jämnt\n"
     ]
    }
   ],
   "metadata": {}
  }
 ],
 "metadata": {
  "orig_nbformat": 4,
  "language_info": {
   "name": "python",
   "version": "3.9.6",
   "mimetype": "text/x-python",
   "codemirror_mode": {
    "name": "ipython",
    "version": 3
   },
   "pygments_lexer": "ipython3",
   "nbconvert_exporter": "python",
   "file_extension": ".py"
  },
  "kernelspec": {
   "name": "python3",
   "display_name": "Python 3.9.6 64-bit"
  },
  "interpreter": {
   "hash": "bc671ac5dcf0c04d0537d7ef61db74040aac90f2d832bed4a17e0aad2956bb51"
  }
 },
 "nbformat": 4,
 "nbformat_minor": 2
}