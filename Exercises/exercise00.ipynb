{
 "cells": [
  {
   "cell_type": "markdown",
   "source": [
    "# Exercise 00"
   ],
   "metadata": {}
  },
  {
   "cell_type": "markdown",
   "source": [
    "## 1 Pythagora theorem"
   ],
   "metadata": {}
  },
  {
   "cell_type": "markdown",
   "source": [
    "## a"
   ],
   "metadata": {}
  },
  {
   "cell_type": "code",
   "execution_count": 10,
   "source": [
    "import math\r\n",
    "\r\n",
    "cathetiA = 3\r\n",
    "cathetiB = 4\r\n",
    "\r\n",
    "hypothenuse = cathetiA**2 + cathetiB**2\r\n",
    "\r\n",
    "hypothenuse = math.sqrt(hypothenuse)\r\n",
    "\r\n",
    "print(f\"The hypothenuse is {hypothenuse} l.u\")"
   ],
   "outputs": [
    {
     "output_type": "stream",
     "name": "stdout",
     "text": [
      "The hypothenuse is 5.0 l.u\n"
     ]
    }
   ],
   "metadata": {}
  },
  {
   "cell_type": "markdown",
   "source": [
    "## b"
   ],
   "metadata": {}
  },
  {
   "cell_type": "code",
   "execution_count": 9,
   "source": [
    "import math\r\n",
    "\r\n",
    "hypothenuseC = 7.0\r\n",
    "cathetusA = 5.0\r\n",
    "\r\n",
    "cathetusB = hypothenuseC**2 + cathetusA**2\r\n",
    "cathetusB = math.sqrt(cathetusB)\r\n",
    "\r\n",
    "print(f\"CathetusB is {cathetusB:.1f} l.u\")"
   ],
   "outputs": [
    {
     "output_type": "stream",
     "name": "stdout",
     "text": [
      "CathetusB is 8.6 l.u\n"
     ]
    }
   ],
   "metadata": {}
  },
  {
   "cell_type": "markdown",
   "source": [
    "## 2 Classification accuracy"
   ],
   "metadata": {}
  },
  {
   "cell_type": "code",
   "execution_count": 8,
   "source": [
    "predictionPool = 365\r\n",
    "correctPredictions = 300\r\n",
    "\r\n",
    "accuracy = correctPredictions/predictionPool\r\n",
    "\r\n",
    "print(f\"Noggrannheten är {accuracy*100:0.1f} %\")"
   ],
   "outputs": [
    {
     "output_type": "stream",
     "name": "stdout",
     "text": [
      "Noggrannheten är 82.2 %\n"
     ]
    }
   ],
   "metadata": {}
  },
  {
   "cell_type": "markdown",
   "source": [
    "## 3 Classification accuracy"
   ],
   "metadata": {}
  },
  {
   "cell_type": "code",
   "execution_count": 4,
   "source": [
    "truePositive = 2\r\n",
    "falsePositive = 2\r\n",
    "trueNegative = 985\r\n",
    "falseNegative = 11\r\n",
    "\r\n",
    "correctlyPredict = truePositive + trueNegative\r\n",
    "falselyPredict = falsePositive + falseNegative\r\n",
    "totalPredictions = correctlyPredict + falselyPredict\r\n",
    "\r\n",
    "accuracy = correctlyPredict / totalPredictions\r\n",
    "\r\n",
    "print(f\"Noggrannheten är {accuracy*100:0.1f} %\")\r\n",
    "\r\n",
    "# The model is good"
   ],
   "outputs": [
    {
     "output_type": "stream",
     "name": "stdout",
     "text": [
      "Noggrannheten är 98.7 %\n"
     ]
    }
   ],
   "metadata": {}
  },
  {
   "cell_type": "markdown",
   "source": [
    "## 4 Line"
   ],
   "metadata": {}
  },
  {
   "cell_type": "code",
   "execution_count": 3,
   "source": [
    "x1 = 4\r\n",
    "y1 = 4\r\n",
    "x2 = 0\r\n",
    "y2 = 1\r\n",
    "\r\n",
    "deltaX = x1 - x2\r\n",
    "deltaY = y1 - y2\r\n",
    "k = deltaY / deltaX\r\n",
    "m = y2\r\n",
    "\r\n",
    "print(f\"k = {k} och m = {m} ekvationen är y = {k}x + {m}\")"
   ],
   "outputs": [
    {
     "output_type": "stream",
     "name": "stdout",
     "text": [
      "k = 0.75 och m = 1 ekvationen är y = 0.75x + 1\n"
     ]
    }
   ],
   "metadata": {}
  },
  {
   "cell_type": "markdown",
   "source": [
    "## 5 Euclidean distance"
   ],
   "metadata": {}
  },
  {
   "cell_type": "code",
   "execution_count": 2,
   "source": [
    "import math\r\n",
    "\r\n",
    "x1 = 3\r\n",
    "y1 = 5\r\n",
    "x2 = -2\r\n",
    "y2 = 4\r\n",
    "\r\n",
    "deltaX = x1 - x2\r\n",
    "deltaY = y1 - y2\r\n",
    "\r\n",
    "distance = deltaX**2 + deltaY**2\r\n",
    "distance = math.sqrt(distance)\r\n",
    "\r\n",
    "print(f\"Distansen mellan P1 och P2 är {distance:0.1f} l.u\")"
   ],
   "outputs": [
    {
     "output_type": "stream",
     "name": "stdout",
     "text": [
      "Distansen mellan P1 och P2 är 5.1 l.u\n"
     ]
    }
   ],
   "metadata": {}
  },
  {
   "cell_type": "markdown",
   "source": [
    "## 6 Euclidean distance in 3d"
   ],
   "metadata": {}
  },
  {
   "cell_type": "code",
   "execution_count": 1,
   "source": [
    "import math\r\n",
    "\r\n",
    "x1 = 2\r\n",
    "y1 = 1\r\n",
    "z1 = 4\r\n",
    "\r\n",
    "x2 = 3\r\n",
    "y2 = 1\r\n",
    "z2 = 0\r\n",
    "\r\n",
    "deltaX = x1 - x2\r\n",
    "deltaY = y1 - y2\r\n",
    "deltaZ = z1 - z2\r\n",
    "\r\n",
    "distance = deltaX**2 + deltaY**2 + deltaZ**2\r\n",
    "distance = math.sqrt(distance)\r\n",
    "\r\n",
    "print(f\"Distansen mellan P1 och P2 är {distance:.2f} l.u\")\r\n"
   ],
   "outputs": [
    {
     "output_type": "stream",
     "name": "stdout",
     "text": [
      "Distansen mellan P1 och P2 är 4.12 l.u\n"
     ]
    }
   ],
   "metadata": {}
  }
 ],
 "metadata": {
  "orig_nbformat": 4,
  "language_info": {
   "name": "python",
   "version": "3.9.6",
   "mimetype": "text/x-python",
   "codemirror_mode": {
    "name": "ipython",
    "version": 3
   },
   "pygments_lexer": "ipython3",
   "nbconvert_exporter": "python",
   "file_extension": ".py"
  },
  "kernelspec": {
   "name": "python3",
   "display_name": "Python 3.9.6 64-bit"
  },
  "interpreter": {
   "hash": "bc671ac5dcf0c04d0537d7ef61db74040aac90f2d832bed4a17e0aad2956bb51"
  }
 },
 "nbformat": 4,
 "nbformat_minor": 2
}