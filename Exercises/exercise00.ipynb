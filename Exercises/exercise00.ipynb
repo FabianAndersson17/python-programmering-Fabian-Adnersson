{
 "cells": [
  {
   "cell_type": "markdown",
   "source": [
    "# 1 Pythagora theorem"
   ],
   "metadata": {}
  },
  {
   "cell_type": "markdown",
   "source": [
    "## a"
   ],
   "metadata": {}
  },
  {
   "cell_type": "code",
   "execution_count": 1,
   "source": [
    "import math\r\n",
    "\r\n",
    "cathetiA = 3\r\n",
    "cathetiB = 4\r\n",
    "\r\n",
    "hypothenuse = cathetiA**2 + cathetiB**2\r\n",
    "\r\n",
    "hypothenuse = math.sqrt(hypothenuse)\r\n",
    "\r\n",
    "print(f\"The hypothenuse is {hypothenuse}\")"
   ],
   "outputs": [
    {
     "output_type": "stream",
     "name": "stdout",
     "text": [
      "The hypothenuse is 5.0\n"
     ]
    }
   ],
   "metadata": {}
  },
  {
   "cell_type": "markdown",
   "source": [
    "## b"
   ],
   "metadata": {}
  },
  {
   "cell_type": "code",
   "execution_count": 7,
   "source": [
    "import math\r\n",
    "\r\n",
    "hypothenuseC = 7.0\r\n",
    "cathetusA = 5.0\r\n",
    "\r\n",
    "cathetusB = hypothenuseC**2 + cathetusA**2\r\n",
    "\r\n",
    "cathetusB = math.sqrt(cathetusB)\r\n",
    "\r\n",
    "print(f\"CathetusB is {cathetusB:.1f}\")"
   ],
   "outputs": [
    {
     "output_type": "stream",
     "name": "stdout",
     "text": [
      "CathetusB is 8.6\n"
     ]
    }
   ],
   "metadata": {}
  },
  {
   "cell_type": "markdown",
   "source": [
    "# 2 Classification accuracy"
   ],
   "metadata": {}
  },
  {
   "cell_type": "code",
   "execution_count": 4,
   "source": [
    "predictionPool = 365\r\n",
    "correctPredictions = 300\r\n",
    "\r\n",
    "accuracy = correctPredictions/predictionPool\r\n",
    "\r\n",
    "print(f\"Noggrannheten är {accuracy}\")"
   ],
   "outputs": [
    {
     "output_type": "stream",
     "name": "stdout",
     "text": [
      "Noggrannheten är 0.821917808219178\n"
     ]
    }
   ],
   "metadata": {}
  }
 ],
 "metadata": {
  "orig_nbformat": 4,
  "language_info": {
   "name": "python",
   "version": "3.9.6",
   "mimetype": "text/x-python",
   "codemirror_mode": {
    "name": "ipython",
    "version": 3
   },
   "pygments_lexer": "ipython3",
   "nbconvert_exporter": "python",
   "file_extension": ".py"
  },
  "kernelspec": {
   "name": "python3",
   "display_name": "Python 3.9.6 64-bit"
  },
  "interpreter": {
   "hash": "bc671ac5dcf0c04d0537d7ef61db74040aac90f2d832bed4a17e0aad2956bb51"
  }
 },
 "nbformat": 4,
 "nbformat_minor": 2
}