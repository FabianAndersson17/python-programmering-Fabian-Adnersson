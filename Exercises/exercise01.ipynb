{
 "cells": [
  {
   "cell_type": "markdown",
   "source": [
    "# Exercise 01 | if-statments"
   ],
   "metadata": {}
  },
  {
   "cell_type": "markdown",
   "source": [
    "## 1 Check sign"
   ],
   "metadata": {}
  },
  {
   "cell_type": "code",
   "execution_count": 8,
   "source": [
    "number = int(input(\"Välje ett tal\"))\r\n",
    "\r\n",
    "if number == 0:\r\n",
    "    print(\"Du har valt 0\")\r\n",
    "elif number % 2 == 0:\r\n",
    "    print(\"Du har valt ett jämnt tal\")\r\n",
    "elif number % 2 == 1:\r\n",
    "    print(\"Du har valt ett udda tal\")"
   ],
   "outputs": [
    {
     "output_type": "stream",
     "name": "stdout",
     "text": [
      "Du har valt ett udda tal\n"
     ]
    }
   ],
   "metadata": {}
  }
 ],
 "metadata": {
  "orig_nbformat": 4,
  "language_info": {
   "name": "python",
   "version": "3.9.6",
   "mimetype": "text/x-python",
   "codemirror_mode": {
    "name": "ipython",
    "version": 3
   },
   "pygments_lexer": "ipython3",
   "nbconvert_exporter": "python",
   "file_extension": ".py"
  },
  "kernelspec": {
   "name": "python3",
   "display_name": "Python 3.9.6 64-bit"
  },
  "interpreter": {
   "hash": "bc671ac5dcf0c04d0537d7ef61db74040aac90f2d832bed4a17e0aad2956bb51"
  }
 },
 "nbformat": 4,
 "nbformat_minor": 2
}