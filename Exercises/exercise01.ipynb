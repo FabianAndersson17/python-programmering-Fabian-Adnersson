{
 "cells": [
  {
   "cell_type": "markdown",
   "source": [
    "# Exercise 01 | if-statments"
   ],
   "metadata": {}
  },
  {
   "cell_type": "markdown",
   "source": [
    "## 1 Check sign"
   ],
   "metadata": {}
  },
  {
   "cell_type": "code",
   "execution_count": 3,
   "source": [
    "number = int(input(\"Välje ett tal\"))\r\n",
    "\r\n",
    "if number == 0:\r\n",
    "    print(\"Du har valt 0\")\r\n",
    "elif number % 2 == 0:\r\n",
    "    print(\"Du har valt ett jämnt tal\")\r\n",
    "elif number % 2 == 1:\r\n",
    "    print(\"Du har valt ett udda tal\")"
   ],
   "outputs": [
    {
     "output_type": "stream",
     "name": "stdout",
     "text": [
      "Du har valt 0\n"
     ]
    }
   ],
   "metadata": {}
  },
  {
   "cell_type": "markdown",
   "source": [
    "## 2 Smallest"
   ],
   "metadata": {}
  },
  {
   "cell_type": "code",
   "execution_count": 7,
   "source": [
    "number1 = int(input(\"Välje ett tal\"))\r\n",
    "number2 = int(input(\"Välj ett annat tal\"))\r\n",
    "\r\n",
    "if number1 < number2:\r\n",
    "    print(f\"{number1} är minst\")\r\n",
    "elif number1 > number2:\r\n",
    "    print(f\"{number2} är minst\")\r\n",
    "elif number1 == number2:\r\n",
    "    print(\"Du valde samma nummer. Försök igen\")"
   ],
   "outputs": [
    {
     "output_type": "stream",
     "name": "stdout",
     "text": [
      "Du valde samma nummer. Försök igen\n"
     ]
    }
   ],
   "metadata": {}
  },
  {
   "cell_type": "markdown",
   "source": [
    "## 3 Right angle"
   ],
   "metadata": {}
  },
  {
   "cell_type": "code",
   "execution_count": 16,
   "source": [
    "angleA = int(input(\"Välj en vinkel\"))\r\n",
    "angleB = int(input(\"Välj en till vinkel\"))\r\n",
    "angleC = int(input(\"Välj en sista vinkel\"))\r\n",
    "\r\n",
    "vinkelSum = angleA + angleB + angleC\r\n",
    "\r\n",
    "if vinkelSum == 180 and angleA == 90 or angleB == 90 or angleC == 90:\r\n",
    "    print(\"Detta fungerar och blir en triangel med en rätt vinkel\")\r\n",
    "elif vinkelSum == 180:\r\n",
    "    print(\"Detta fungerar och blir en triangel men har inte en rätt vinkel\")\r\n",
    "else:\r\n",
    "    print(\"Detta fungerar inte. Försök igen\")"
   ],
   "outputs": [
    {
     "output_type": "stream",
     "name": "stdout",
     "text": [
      "Detta fungerar inte. Försök igen\n"
     ]
    }
   ],
   "metadata": {}
  },
  {
   "cell_type": "markdown",
   "source": [
    "## 4 Medicine"
   ],
   "metadata": {}
  },
  {
   "cell_type": "code",
   "execution_count": 13,
   "source": [
    "age = int(input(\"Hur gammal är du?\"))\r\n",
    "weight = int(input(\"Hur mycket väger du?\"))\r\n",
    "\r\n",
    "if weight <= 25 and age >= 3:\r\n",
    "    print(\"Du ska ta 1/2 piller\")\r\n",
    "elif weight <= 40 and age >= 3:\r\n",
    "    print(\"Du ska ta 1/2-1 piller\")\r\n",
    "elif weight > 40 and age >= 3:\r\n",
    "    print(\"Du ska ta 1-2 piller\")\r\n",
    "else:\r\n",
    "    print(\"Fel medicin\")"
   ],
   "outputs": [
    {
     "output_type": "stream",
     "name": "stdout",
     "text": [
      "Du ska ta 1-2 piller\n"
     ]
    }
   ],
   "metadata": {}
  },
  {
   "cell_type": "markdown",
   "source": [
    "## 5 Divisible"
   ],
   "metadata": {}
  },
  {
   "cell_type": "code",
   "execution_count": 15,
   "source": [
    "number = int(input(\"Ange ett tal.\"))\r\n",
    "\r\n",
    "if number % 2 == 0:\r\n",
    "    print(\"Ditt tal är jämnt\")\r\n",
    "else:\r\n",
    "    print(\"Ditt tal är udda\")\r\n",
    "\r\n",
    "if number % 5 == 0:\r\n",
    "    print(\"Ditt tal är delbart med 5\")\r\n",
    "else:\r\n",
    "    print(\"Ditt tal är inte delbart med 5\")\r\n",
    "\r\n",
    "if number % 5 == 0 and number % 2 == 1:\r\n",
    "    print(\"Ditt tal är udda och delbart med 5\")\r\n",
    "else:\r\n",
    "    print(\"Ditt number inte delbart på 5 eller inte udda\")\r\n",
    "\r\n"
   ],
   "outputs": [
    {
     "output_type": "stream",
     "name": "stdout",
     "text": [
      "Ditt tal är udda\n",
      "Ditt tal är delbart med 5\n",
      "Ditt tal är udda och delbart med 5\n"
     ]
    }
   ],
   "metadata": {}
  },
  {
   "cell_type": "markdown",
   "source": [
    "## 6 Luggage size"
   ],
   "metadata": {}
  },
  {
   "cell_type": "code",
   "execution_count": 2,
   "source": [
    "weight = int(input(\"Hur mycket väger din väska?\"))\r\n",
    "length = int(input(\"Hur lång är din väska?\"))\r\n",
    "width = int(input(\"Hur bred är din väska?\"))\r\n",
    "height = int(input(\"Hur hög är din väska?\"))\r\n",
    "\r\n",
    "bagMaxSize = 55*40*23\r\n",
    "bagSize = length*width*height\r\n",
    "\r\n",
    "if weight <= 8 and bagSize <= bagMaxSize:\r\n",
    "    print(\"Din väska är tillåten\")\r\n",
    "else:\r\n",
    "    print(\"Väskan är inte tillåten\")\r\n"
   ],
   "outputs": [
    {
     "output_type": "stream",
     "name": "stdout",
     "text": [
      "Väskan är inte tillåten\n"
     ]
    }
   ],
   "metadata": {}
  }
 ],
 "metadata": {
  "orig_nbformat": 4,
  "language_info": {
   "name": "python",
   "version": "3.9.6",
   "mimetype": "text/x-python",
   "codemirror_mode": {
    "name": "ipython",
    "version": 3
   },
   "pygments_lexer": "ipython3",
   "nbconvert_exporter": "python",
   "file_extension": ".py"
  },
  "kernelspec": {
   "name": "python3",
   "display_name": "Python 3.9.6 64-bit"
  },
  "interpreter": {
   "hash": "bc671ac5dcf0c04d0537d7ef61db74040aac90f2d832bed4a17e0aad2956bb51"
  }
 },
 "nbformat": 4,
 "nbformat_minor": 2
}