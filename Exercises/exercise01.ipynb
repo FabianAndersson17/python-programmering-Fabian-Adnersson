{
 "cells": [
  {
   "cell_type": "markdown",
   "source": [
    "# Exercise 01 | if-statments"
   ],
   "metadata": {}
  },
  {
   "cell_type": "markdown",
   "source": [
    "## 1 Check sign"
   ],
   "metadata": {}
  },
  {
   "cell_type": "code",
   "execution_count": 3,
   "source": [
    "number = int(input(\"Välje ett tal\"))\r\n",
    "\r\n",
    "if number == 0:\r\n",
    "    print(\"Du har valt 0\")\r\n",
    "elif number % 2 == 0:\r\n",
    "    print(\"Du har valt ett jämnt tal\")\r\n",
    "elif number % 2 == 1:\r\n",
    "    print(\"Du har valt ett udda tal\")"
   ],
   "outputs": [
    {
     "output_type": "stream",
     "name": "stdout",
     "text": [
      "Du har valt 0\n"
     ]
    }
   ],
   "metadata": {}
  },
  {
   "cell_type": "markdown",
   "source": [
    "## 2 Smallest"
   ],
   "metadata": {}
  },
  {
   "cell_type": "code",
   "execution_count": 7,
   "source": [
    "number1 = int(input(\"Välje ett tal\"))\r\n",
    "number2 = int(input(\"Välj ett annat tal\"))\r\n",
    "\r\n",
    "if number1 < number2:\r\n",
    "    print(f\"{number1} är minst\")\r\n",
    "elif number1 > number2:\r\n",
    "    print(f\"{number2} är minst\")\r\n",
    "elif number1 == number2:\r\n",
    "    print(\"Du valde samma nummer. Försök igen\")"
   ],
   "outputs": [
    {
     "output_type": "stream",
     "name": "stdout",
     "text": [
      "Du valde samma nummer. Försök igen\n"
     ]
    }
   ],
   "metadata": {}
  },
  {
   "cell_type": "markdown",
   "source": [
    "## 3 Right angle"
   ],
   "metadata": {}
  },
  {
   "cell_type": "code",
   "execution_count": 16,
   "source": [
    "angleA = int(input(\"Välj en vinkel\"))\r\n",
    "angleB = int(input(\"Välj en till vinkel\"))\r\n",
    "angleC = int(input(\"Välj en sista vinkel\"))\r\n",
    "\r\n",
    "vinkelSum = angleA + angleB + angleC\r\n",
    "\r\n",
    "if vinkelSum == 180 and angleA == 90 or angleB == 90 or angleC == 90:\r\n",
    "    print(\"Detta fungerar och blir en triangel med en rätt vinkel\")\r\n",
    "elif vinkelSum == 180:\r\n",
    "    print(\"Detta fungerar och blir en triangel men har inte en rätt vinkel\")\r\n",
    "else:\r\n",
    "    print(\"Detta fungerar inte. Försök igen\")"
   ],
   "outputs": [
    {
     "output_type": "stream",
     "name": "stdout",
     "text": [
      "Detta fungerar inte. Försök igen\n"
     ]
    }
   ],
   "metadata": {}
  },
  {
   "cell_type": "markdown",
   "source": [
    "## 4 Medicine"
   ],
   "metadata": {}
  },
  {
   "cell_type": "code",
   "execution_count": 24,
   "source": [
    "age = int(input(\"Hur gammal är du?\"))\r\n",
    "weight = int(input(\"Hur mycket väger du?\"))\r\n",
    "\r\n",
    "if age <= 7 or weight <= 7:\r\n",
    "    print(\"Du ska ta 1/2 piller\")\r\n",
    "elif age <= 12 or weight <= 40:\r\n",
    "    print(\"Du ska ta 1/2-1 piller\")\r\n",
    "elif age > 12 or weight > 40:\r\n",
    "    print(\"Du ska ta 1-2 piller\")"
   ],
   "outputs": [
    {
     "output_type": "stream",
     "name": "stdout",
     "text": [
      "Du ska ta 1/2-1 piller\n"
     ]
    }
   ],
   "metadata": {}
  }
 ],
 "metadata": {
  "orig_nbformat": 4,
  "language_info": {
   "name": "python",
   "version": "3.9.6",
   "mimetype": "text/x-python",
   "codemirror_mode": {
    "name": "ipython",
    "version": 3
   },
   "pygments_lexer": "ipython3",
   "nbconvert_exporter": "python",
   "file_extension": ".py"
  },
  "kernelspec": {
   "name": "python3",
   "display_name": "Python 3.9.6 64-bit"
  },
  "interpreter": {
   "hash": "bc671ac5dcf0c04d0537d7ef61db74040aac90f2d832bed4a17e0aad2956bb51"
  }
 },
 "nbformat": 4,
 "nbformat_minor": 2
}