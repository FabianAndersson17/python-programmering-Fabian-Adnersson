{
 "cells": [
  {
   "cell_type": "markdown",
   "source": [
    "# For statements exercises"
   ],
   "metadata": {}
  },
  {
   "cell_type": "markdown",
   "source": [
    "## 1. Count numbers"
   ],
   "metadata": {}
  },
  {
   "cell_type": "markdown",
   "source": [
    "### a"
   ],
   "metadata": {}
  },
  {
   "cell_type": "code",
   "execution_count": 6,
   "source": [
    "for i in range(-10, 11):\r\n",
    "    print(i, end = \" \")"
   ],
   "outputs": [
    {
     "output_type": "stream",
     "name": "stdout",
     "text": [
      "-10 -9 -8 -7 -6 -5 -4 -3 -2 -1 0 1 2 3 4 5 6 7 8 9 10 "
     ]
    }
   ],
   "metadata": {}
  },
  {
   "cell_type": "markdown",
   "source": [
    "### b"
   ],
   "metadata": {}
  },
  {
   "cell_type": "code",
   "execution_count": 8,
   "source": [
    "for i in range(-10, 11, 2):\r\n",
    "    print(i, end = \" \")"
   ],
   "outputs": [
    {
     "output_type": "stream",
     "name": "stdout",
     "text": [
      "-10 -8 -6 -4 -2 0 2 4 6 8 10 "
     ]
    }
   ],
   "metadata": {}
  },
  {
   "cell_type": "markdown",
   "source": [
    "## 2. Arithmetic sum"
   ],
   "metadata": {}
  },
  {
   "cell_type": "markdown",
   "source": [
    "### a "
   ],
   "metadata": {}
  },
  {
   "cell_type": "code",
   "execution_count": 32,
   "source": [
    "summa = 0\r\n",
    "\r\n",
    "for i in range(101):\r\n",
    "    print(i, end = \" + \")\r\n",
    "    if i == 100:\r\n",
    "        print(\"=\", end = \" \")\r\n",
    "    summa += i\r\n",
    "\r\n",
    "print(summa)"
   ],
   "outputs": [
    {
     "output_type": "stream",
     "name": "stdout",
     "text": [
      "0 + 1 + 2 + 3 + 4 + 5 + 6 + 7 + 8 + 9 + 10 + 11 + 12 + 13 + 14 + 15 + 16 + 17 + 18 + 19 + 20 + 21 + 22 + 23 + 24 + 25 + 26 + 27 + 28 + 29 + 30 + 31 + 32 + 33 + 34 + 35 + 36 + 37 + 38 + 39 + 40 + 41 + 42 + 43 + 44 + 45 + 46 + 47 + 48 + 49 + 50 + 51 + 52 + 53 + 54 + 55 + 56 + 57 + 58 + 59 + 60 + 61 + 62 + 63 + 64 + 65 + 66 + 67 + 68 + 69 + 70 + 71 + 72 + 73 + 74 + 75 + 76 + 77 + 78 + 79 + 80 + 81 + 82 + 83 + 84 + 85 + 86 + 87 + 88 + 89 + 90 + 91 + 92 + 93 + 94 + 95 + 96 + 97 + 98 + 99 + 100 + = 5050\n"
     ]
    }
   ],
   "metadata": {}
  },
  {
   "cell_type": "markdown",
   "source": [
    "### b"
   ],
   "metadata": {}
  },
  {
   "cell_type": "code",
   "execution_count": 35,
   "source": [
    "summa = 0\r\n",
    "\r\n",
    "for i in range(1, 100, 2):\r\n",
    "    print(i, end = \" + \")\r\n",
    "    if i == 99:\r\n",
    "        print(\"=\", end = \" \")\r\n",
    "    summa += i\r\n",
    "\r\n",
    "print(summa)"
   ],
   "outputs": [
    {
     "output_type": "stream",
     "name": "stdout",
     "text": [
      "1 + 3 + 5 + 7 + 9 + 11 + 13 + 15 + 17 + 19 + 21 + 23 + 25 + 27 + 29 + 31 + 33 + 35 + 37 + 39 + 41 + 43 + 45 + 47 + 49 + 51 + 53 + 55 + 57 + 59 + 61 + 63 + 65 + 67 + 69 + 71 + 73 + 75 + 77 + 79 + 81 + 83 + 85 + 87 + 89 + 91 + 93 + 95 + 97 + 99 + = 2500\n"
     ]
    }
   ],
   "metadata": {}
  },
  {
   "cell_type": "markdown",
   "source": [
    "## Multiplication table"
   ],
   "metadata": {}
  },
  {
   "cell_type": "markdown",
   "source": [
    "### a"
   ],
   "metadata": {}
  },
  {
   "cell_type": "code",
   "execution_count": 2,
   "source": [
    "for i in range(0, 11):\r\n",
    "    print(i*6, end = \" | \")"
   ],
   "outputs": [
    {
     "output_type": "stream",
     "name": "stdout",
     "text": [
      "0 | 6 | 12 | 18 | 24 | 30 | 36 | 42 | 48 | 54 | 60 | "
     ]
    }
   ],
   "metadata": {}
  },
  {
   "cell_type": "markdown",
   "source": [
    "### b"
   ],
   "metadata": {}
  },
  {
   "cell_type": "code",
   "execution_count": 8,
   "source": [
    "tableNumber = int(input(\"Whice table do you want?\"))\r\n",
    "tableStart = int(input(\"Where would you like to start?\"))\r\n",
    "tableEnd = int(input(\"Where would you like to end?\"))\r\n",
    "\r\n",
    "for i in range(tableStart, tableEnd+1):\r\n",
    "    print(i*tableNumber, end = \" | \")"
   ],
   "outputs": [],
   "metadata": {}
  },
  {
   "cell_type": "markdown",
   "source": [
    "### c"
   ],
   "metadata": {}
  },
  {
   "cell_type": "code",
   "execution_count": 18,
   "source": [
    "for i in range(1, 11):\r\n",
    "    for j in range(1, 11):\r\n",
    "        print(i * j, end = \" | \")\r\n",
    "        \r\n",
    "    print()"
   ],
   "outputs": [
    {
     "output_type": "stream",
     "name": "stdout",
     "text": [
      "1 | 2 | 3 | 4 | 5 | 6 | 7 | 8 | 9 | 10 | \n",
      "2 | 4 | 6 | 8 | 10 | 12 | 14 | 16 | 18 | 20 | \n",
      "3 | 6 | 9 | 12 | 15 | 18 | 21 | 24 | 27 | 30 | \n",
      "4 | 8 | 12 | 16 | 20 | 24 | 28 | 32 | 36 | 40 | \n",
      "5 | 10 | 15 | 20 | 25 | 30 | 35 | 40 | 45 | 50 | \n",
      "6 | 12 | 18 | 24 | 30 | 36 | 42 | 48 | 54 | 60 | \n",
      "7 | 14 | 21 | 28 | 35 | 42 | 49 | 56 | 63 | 70 | \n",
      "8 | 16 | 24 | 32 | 40 | 48 | 56 | 64 | 72 | 80 | \n",
      "9 | 18 | 27 | 36 | 45 | 54 | 63 | 72 | 81 | 90 | \n",
      "10 | 20 | 30 | 40 | 50 | 60 | 70 | 80 | 90 | 100 | \n"
     ]
    }
   ],
   "metadata": {}
  }
 ],
 "metadata": {
  "orig_nbformat": 4,
  "language_info": {
   "name": "python",
   "version": "3.9.6",
   "mimetype": "text/x-python",
   "codemirror_mode": {
    "name": "ipython",
    "version": 3
   },
   "pygments_lexer": "ipython3",
   "nbconvert_exporter": "python",
   "file_extension": ".py"
  },
  "kernelspec": {
   "name": "python3",
   "display_name": "Python 3.9.6 64-bit ('python-programmering-Fabian-Adnersson-7Vjomyem': pipenv)"
  },
  "interpreter": {
   "hash": "f6ced4aceb5dca1d902771a0c4caef10d5e109c6ad3a1438b115d6b0f80a24fd"
  }
 },
 "nbformat": 4,
 "nbformat_minor": 2
}