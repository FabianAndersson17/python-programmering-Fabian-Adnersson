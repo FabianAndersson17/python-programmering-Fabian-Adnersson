{
 "cells": [
  {
   "cell_type": "markdown",
   "source": [
    "# List Exercises"
   ],
   "metadata": {}
  },
  {
   "cell_type": "markdown",
   "source": [
    "## 1. Dice rolls"
   ],
   "metadata": {}
  },
  {
   "cell_type": "markdown",
   "source": [
    "### a)"
   ],
   "metadata": {}
  },
  {
   "cell_type": "code",
   "execution_count": null,
   "source": [
    "import random as rnd\r\n",
    "\r\n",
    "dices = [rnd.randint(1,6) for _ in range(10)]\r\n",
    "\r\n",
    "dices.sort()\r\n",
    "print(dices)"
   ],
   "outputs": [],
   "metadata": {}
  },
  {
   "cell_type": "markdown",
   "source": [
    "### b)"
   ],
   "metadata": {}
  },
  {
   "cell_type": "code",
   "execution_count": null,
   "source": [
    "import random as rnd\r\n",
    "\r\n",
    "dices = [rnd.randint(1,6) for _ in range(10)]\r\n",
    "\r\n",
    "dices.sort(reverse=True)\r\n",
    "print(dices)"
   ],
   "outputs": [],
   "metadata": {}
  },
  {
   "cell_type": "markdown",
   "source": [
    "### c)"
   ],
   "metadata": {}
  },
  {
   "cell_type": "code",
   "execution_count": null,
   "source": [
    "import random as rnd\r\n",
    "\r\n",
    "dices = [rnd.randint(1,6) for _ in range(10)]\r\n",
    "\r\n",
    "dices.sort()\r\n",
    "print(dices)\r\n",
    "print(f\"The lowest dice roll is {dices[0]}\")\r\n",
    "print(f\"The hightset number is {dices[9]}\")"
   ],
   "outputs": [],
   "metadata": {}
  },
  {
   "cell_type": "markdown",
   "source": [
    "## 2. Food menu"
   ],
   "metadata": {}
  },
  {
   "cell_type": "markdown",
   "source": [
    "### a)"
   ],
   "metadata": {}
  },
  {
   "cell_type": "code",
   "execution_count": null,
   "source": [
    "foodMenu = [\"Vegetarisk Lasagne\", \"Spaghetti\", \"Fisk\", \"Grönsakssoppa\", \"Pannkakor\"]\r\n",
    "\r\n",
    "for food in foodMenu:\r\n",
    "    print(food)"
   ],
   "outputs": [],
   "metadata": {}
  },
  {
   "cell_type": "markdown",
   "source": [
    "### b)"
   ],
   "metadata": {}
  },
  {
   "cell_type": "code",
   "execution_count": null,
   "source": [
    "weekdays = [\"Monday\", \"Tuesday\", \"Wednesday\", \"Thursday\", \"Friday\"]\r\n",
    "\r\n",
    "for day in weekdays:\r\n",
    "    print(day)"
   ],
   "outputs": [],
   "metadata": {}
  },
  {
   "cell_type": "markdown",
   "source": [
    "### c)"
   ],
   "metadata": {}
  },
  {
   "cell_type": "code",
   "execution_count": null,
   "source": [
    "weekdays = [\"Monday\", \"Tuesday\", \"Wednesday\", \"Thursday\", \"Friday\"]\r\n",
    "\r\n",
    "for day, food in enumerate(foodMenu):\r\n",
    "    print(f\"{weekdays[day]}: {food}\")"
   ],
   "outputs": [],
   "metadata": {}
  },
  {
   "cell_type": "code",
   "execution_count": null,
   "source": [
    "weekdays = [\"Monday\", \"Tuesday\", \"Wednesday\", \"Thursday\", \"Friday\"]\r\n",
    "\r\n",
    "for day, food in zip(foodMenu, weekdays):\r\n",
    "    print(f\"{day}: {food}\")"
   ],
   "outputs": [],
   "metadata": {}
  },
  {
   "cell_type": "markdown",
   "source": [
    "## 3. Squares"
   ],
   "metadata": {}
  },
  {
   "cell_type": "markdown",
   "source": [
    "### a)"
   ],
   "metadata": {}
  },
  {
   "cell_type": "code",
   "execution_count": null,
   "source": [
    "square = [x + 1 for x in range(-11, 10)]\r\n",
    "print(square)"
   ],
   "outputs": [],
   "metadata": {}
  },
  {
   "cell_type": "markdown",
   "source": [
    "### b)"
   ],
   "metadata": {}
  },
  {
   "cell_type": "code",
   "execution_count": null,
   "source": [
    "import matplotlib.pyplot as plt\r\n",
    "\r\n",
    "square = [x + 1 for x in range(-11, 10)]\r\n",
    "print(square)\r\n",
    "\r\n",
    "plt.plot(range(-11, 10), square)\r\n",
    "plt.xlabel(\"Square x position\")\r\n",
    "plt.ylabel(\"Square y position\")\r\n",
    "plt.title(\"Squares\")\r\n",
    "plt.show()"
   ],
   "outputs": [],
   "metadata": {}
  },
  {
   "cell_type": "markdown",
   "source": [
    "## 4. Chessboard"
   ],
   "metadata": {}
  },
  {
   "cell_type": "markdown",
   "source": [
    "### a)"
   ],
   "metadata": {}
  },
  {
   "cell_type": "code",
   "execution_count": 117,
   "source": [
    "characterList = [\"A\", \"B\", \"C\", \"D\", \"E\", \"F\", \"G\", \"H\"]\r\n",
    "chessSquare = [f\"{character}1\" for character in characterList]\r\n",
    "print(chessSquare)"
   ],
   "outputs": [
    {
     "output_type": "stream",
     "name": "stdout",
     "text": [
      "['A1', 'B1', 'C1', 'D1', 'E1', 'F1', 'G1', 'H1']\n"
     ]
    }
   ],
   "metadata": {}
  },
  {
   "cell_type": "markdown",
   "source": [
    "### b)"
   ],
   "metadata": {}
  },
  {
   "cell_type": "code",
   "execution_count": 138,
   "source": [
    "characterList = [\"A\", \"B\", \"C\", \"D\", \"E\", \"F\", \"G\", \"H\"]\r\n",
    "numberList = [\"1\", \"2\", \"3\", \"4\", \"5\", \"6\", \"7\", \"8\"]\r\n",
    "chessSquare = []\r\n",
    "print(chessSquare)\r\n",
    "\r\n"
   ],
   "outputs": [
    {
     "output_type": "stream",
     "name": "stdout",
     "text": [
      "[['A1', 'B1', 'C1', 'D1', 'E1', 'F1', 'G1', 'H1'], ['A1', 'B1', 'C1', 'D1', 'E1', 'F1', 'G1', 'H1'], ['A1', 'B1', 'C1', 'D1', 'E1', 'F1', 'G1', 'H1'], ['A1', 'B1', 'C1', 'D1', 'E1', 'F1', 'G1', 'H1']]\n"
     ]
    }
   ],
   "metadata": {}
  }
 ],
 "metadata": {
  "orig_nbformat": 4,
  "language_info": {
   "name": "python",
   "version": "3.9.6",
   "mimetype": "text/x-python",
   "codemirror_mode": {
    "name": "ipython",
    "version": 3
   },
   "pygments_lexer": "ipython3",
   "nbconvert_exporter": "python",
   "file_extension": ".py"
  },
  "kernelspec": {
   "name": "python3",
   "display_name": "Python 3.9.6 64-bit ('python-programmering-Fabian-Adnersson-7Vjomyem': pipenv)"
  },
  "interpreter": {
   "hash": "f6ced4aceb5dca1d902771a0c4caef10d5e109c6ad3a1438b115d6b0f80a24fd"
  }
 },
 "nbformat": 4,
 "nbformat_minor": 2
}