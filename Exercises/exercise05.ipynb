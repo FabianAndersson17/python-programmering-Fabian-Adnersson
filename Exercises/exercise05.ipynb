{
 "cells": [
  {
   "cell_type": "markdown",
   "source": [
    "# Exercises strings"
   ],
   "metadata": {}
  },
  {
   "cell_type": "markdown",
   "source": [
    "## 1. Counting letters"
   ],
   "metadata": {}
  },
  {
   "cell_type": "markdown",
   "source": [
    "### a)"
   ],
   "metadata": {}
  },
  {
   "cell_type": "code",
   "execution_count": 16,
   "source": [
    "word = input(\"Skriv in ett ord\")\r\n",
    "\r\n",
    "numberOfletters = 0\r\n",
    "\r\n",
    "for letter in word:\r\n",
    "    numberOfletters += 1\r\n",
    "\r\n",
    "print(F\"Antalet bokstäver är {numberOfletters}\")"
   ],
   "outputs": [
    {
     "output_type": "stream",
     "name": "stdout",
     "text": [
      "Antalet bokstäver är 3\n"
     ]
    }
   ],
   "metadata": {}
  },
  {
   "cell_type": "code",
   "execution_count": 26,
   "source": [
    "word2 = input(\"Ange ett ord\")\r\n",
    "\r\n",
    "upperCaseLetters = [upperCase for upperCase in word2 if upperCase.isupper()]\r\n",
    "lowerCaseLetters = [lowerCase for lowerCase in word2 if lowerCase.islower()]\r\n",
    "\r\n",
    "totalUpperCase = 0\r\n",
    "totalLowerCase = 0\r\n",
    "\r\n",
    "for upperCase in upperCaseLetters:\r\n",
    "    totalUpperCase += 1\r\n",
    "\r\n",
    "for lowerCase in lowerCaseLetters:\r\n",
    "    totalLowerCase += 1\r\n",
    "\r\n",
    "print(f\"\"\"\r\n",
    "Antalet stora bokstäver är {totalUpperCase}\r\n",
    "Antalet små bokstäver är {totalLowerCase}\r\n",
    "\"\"\")"
   ],
   "outputs": [
    {
     "output_type": "stream",
     "name": "stdout",
     "text": [
      "\n",
      "Antalet stora bokstäver är 1\n",
      "Antalet små bokstäver är 2\n",
      "\n"
     ]
    }
   ],
   "metadata": {}
  },
  {
   "cell_type": "markdown",
   "source": [
    "## 2. Counting words"
   ],
   "metadata": {}
  },
  {
   "cell_type": "code",
   "execution_count": 30,
   "source": [
    "sentence = (\"A picture says more than a thousand words, a matematical formula says more than a thousand pictures.\").split()\r\n",
    "\r\n",
    "words = 0\r\n",
    "\r\n",
    "for word in sentence:\r\n",
    "    words += 1\r\n",
    "\r\n",
    "print(f\"Totala mängden ord är {words}\")"
   ],
   "outputs": [
    {
     "output_type": "stream",
     "name": "stdout",
     "text": [
      "Totala mängden ord är 17\n"
     ]
    }
   ],
   "metadata": {}
  },
  {
   "cell_type": "markdown",
   "source": [
    "## 3. Palindrome"
   ],
   "metadata": {}
  },
  {
   "cell_type": "code",
   "execution_count": 55,
   "source": [
    "sentence2 = input(\"Skriv ett ord eller en mening med mellanslag mellan varje ord\")\r\n",
    "\r\n",
    "baseSentence = sentence2\r\n",
    "\r\n",
    "sentence2 = sentence2.replace(\" \", \"\")\r\n",
    "sentence2 = sentence2.lower()\r\n",
    "\r\n",
    "word = (f\"{sentence2}\")\r\n",
    "wordBackwards = (f\"{sentence2[::-1]}\")\r\n",
    "\r\n",
    "if word == wordBackwards:\r\n",
    "    print(f\"{baseSentence} är ett palindrom\")\r\n",
    "else:\r\n",
    "    print(f\"{baseSentence} är inte ett palindrom\")"
   ],
   "outputs": [
    {
     "output_type": "stream",
     "name": "stdout",
     "text": [
      "Hej är inte ett palindrom\n"
     ]
    }
   ],
   "metadata": {}
  },
  {
   "cell_type": "markdown",
   "source": [
    "## 4. Vowles "
   ],
   "metadata": {}
  },
  {
   "cell_type": "code",
   "execution_count": 148,
   "source": [
    "import re\r\n",
    "\r\n",
    "sentence = \"Pure mathematics is, in its way, the poetry of logical ideas\"\r\n",
    "\r\n",
    "sentence = sentence.replace(\" \",\"\")\r\n",
    "sentence = sentence.lower()\r\n",
    "\r\n",
    "totalVowles = 0\r\n",
    "\r\n",
    "match = re.findall(r\"[a e i o u y]\", sentence)\r\n",
    "\r\n",
    "for vowle in match:\r\n",
    "    totalVowles += 1\r\n",
    "\r\n",
    "print(f\"Antalet vokaler är {totalVowles}\")"
   ],
   "outputs": [
    {
     "output_type": "stream",
     "name": "stdout",
     "text": [
      "Antalet vokaler är 22\n"
     ]
    }
   ],
   "metadata": {}
  },
  {
   "cell_type": "markdown",
   "source": [
    "## 5. Encryption"
   ],
   "metadata": {}
  },
  {
   "cell_type": "markdown",
   "source": [
    "### a)"
   ],
   "metadata": {}
  },
  {
   "cell_type": "code",
   "execution_count": 268,
   "source": [
    "import re\r\n",
    "\r\n",
    "alphabet = [\"a\", \"b\", \"c\", \"d\", \"e\", \"f\", \"g\", \"h\", \"i\", \"j\", \"k\", \"l\", \"m\", \"n\", \"o\", \"p\", \"q\", \"r\", \"s\", \"t\", \"u\", \"v\", \"w\", \"x\", \"y\", \"z\"]\r\n",
    "encryptedAlp = [\"z\", \"a\", \"b\", \"c\", \"d\", \"e\", \"f\", \"g\", \"h\", \"i\", \"j\", \"k\", \"l\", \"m\", \"n\", \"o\", \"p\", \"q\", \"r\", \"s\", \"t\", \"u\", \"v\", \"w\", \"x\", \"y\"]\r\n",
    "\r\n",
    "text = (\"part\")\r\n",
    "\r\n",
    "newText = [letter for letter in text]\r\n",
    "\r\n",
    "textIndex = [i for i, letter in enumerate(text)]\r\n",
    "\r\n",
    "for index in enumerate(alphabet):\r\n",
    "    print(index)\r\n",
    "\r\n",
    "for newIndew in enumerate(encryptedAlp):\r\n",
    "    print(newIndew)\r\n",
    "\r\n",
    "#print(alphabet)\r\n",
    "#print(encryptedAlp)\r\n",
    "#print(textIndex)"
   ],
   "outputs": [
    {
     "output_type": "stream",
     "name": "stdout",
     "text": [
      "(0, 'a')\n",
      "(1, 'b')\n",
      "(2, 'c')\n",
      "(3, 'd')\n",
      "(4, 'e')\n",
      "(5, 'f')\n",
      "(6, 'g')\n",
      "(7, 'h')\n",
      "(8, 'i')\n",
      "(9, 'j')\n",
      "(10, 'k')\n",
      "(11, 'l')\n",
      "(12, 'm')\n",
      "(13, 'n')\n",
      "(14, 'o')\n",
      "(15, 'p')\n",
      "(16, 'q')\n",
      "(17, 'r')\n",
      "(18, 's')\n",
      "(19, 't')\n",
      "(20, 'u')\n",
      "(21, 'v')\n",
      "(22, 'w')\n",
      "(23, 'x')\n",
      "(24, 'y')\n",
      "(25, 'z')\n",
      "(0, 'z')\n",
      "(1, 'a')\n",
      "(2, 'b')\n",
      "(3, 'c')\n",
      "(4, 'd')\n",
      "(5, 'e')\n",
      "(6, 'f')\n",
      "(7, 'g')\n",
      "(8, 'h')\n",
      "(9, 'i')\n",
      "(10, 'j')\n",
      "(11, 'k')\n",
      "(12, 'l')\n",
      "(13, 'm')\n",
      "(14, 'n')\n",
      "(15, 'o')\n",
      "(16, 'p')\n",
      "(17, 'q')\n",
      "(18, 'r')\n",
      "(19, 's')\n",
      "(20, 't')\n",
      "(21, 'u')\n",
      "(22, 'v')\n",
      "(23, 'w')\n",
      "(24, 'x')\n",
      "(25, 'y')\n"
     ]
    }
   ],
   "metadata": {}
  }
 ],
 "metadata": {
  "orig_nbformat": 4,
  "language_info": {
   "name": "python",
   "version": "3.9.6",
   "mimetype": "text/x-python",
   "codemirror_mode": {
    "name": "ipython",
    "version": 3
   },
   "pygments_lexer": "ipython3",
   "nbconvert_exporter": "python",
   "file_extension": ".py"
  },
  "kernelspec": {
   "name": "python3",
   "display_name": "Python 3.9.6 64-bit ('python-programmering-Fabian-Adnersson-7Vjomyem': pipenv)"
  },
  "interpreter": {
   "hash": "f6ced4aceb5dca1d902771a0c4caef10d5e109c6ad3a1438b115d6b0f80a24fd"
  }
 },
 "nbformat": 4,
 "nbformat_minor": 2
}