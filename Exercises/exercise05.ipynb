{
 "cells": [
  {
   "cell_type": "markdown",
   "source": [
    "# Exercises strings"
   ],
   "metadata": {}
  },
  {
   "cell_type": "markdown",
   "source": [
    "## 1. Counting letters"
   ],
   "metadata": {}
  },
  {
   "cell_type": "markdown",
   "source": [
    "### a)"
   ],
   "metadata": {}
  },
  {
   "cell_type": "code",
   "execution_count": null,
   "source": [
    "word = input(\"Skriv in ett ord\")\r\n",
    "\r\n",
    "numberOfletters = 0\r\n",
    "\r\n",
    "for letter in word:\r\n",
    "    numberOfletters += 1\r\n",
    "\r\n",
    "print(F\"Antalet bokstäver är {numberOfletters}\")"
   ],
   "outputs": [],
   "metadata": {}
  },
  {
   "cell_type": "code",
   "execution_count": null,
   "source": [
    "word2 = input(\"Ange ett ord\")\r\n",
    "\r\n",
    "upperCaseLetters = [upperCase for upperCase in word2 if upperCase.isupper()]\r\n",
    "lowerCaseLetters = [lowerCase for lowerCase in word2 if lowerCase.islower()]\r\n",
    "\r\n",
    "totalUpperCase = 0\r\n",
    "totalLowerCase = 0\r\n",
    "\r\n",
    "for upperCase in upperCaseLetters:\r\n",
    "    totalUpperCase += 1\r\n",
    "\r\n",
    "for lowerCase in lowerCaseLetters:\r\n",
    "    totalLowerCase += 1\r\n",
    "\r\n",
    "print(f\"\"\"\r\n",
    "Antalet stora bokstäver är {totalUpperCase}\r\n",
    "Antalet små bokstäver är {totalLowerCase}\r\n",
    "\"\"\")"
   ],
   "outputs": [],
   "metadata": {}
  },
  {
   "cell_type": "markdown",
   "source": [
    "## 2. Counting words"
   ],
   "metadata": {}
  },
  {
   "cell_type": "code",
   "execution_count": null,
   "source": [
    "sentence = (\"A picture says more than a thousand words, a matematical formula says more than a thousand pictures.\").split()\r\n",
    "\r\n",
    "words = 0\r\n",
    "\r\n",
    "for word in sentence:\r\n",
    "    words += 1\r\n",
    "\r\n",
    "print(f\"Totala mängden ord är {words}\")"
   ],
   "outputs": [],
   "metadata": {}
  },
  {
   "cell_type": "markdown",
   "source": [
    "## 3. Palindrome"
   ],
   "metadata": {}
  },
  {
   "cell_type": "code",
   "execution_count": null,
   "source": [
    "sentence2 = input(\"Skriv ett ord eller en mening med mellanslag mellan varje ord\")\r\n",
    "\r\n",
    "baseSentence = sentence2\r\n",
    "\r\n",
    "sentence2 = sentence2.replace(\" \", \"\")\r\n",
    "sentence2 = sentence2.lower()\r\n",
    "\r\n",
    "word = (f\"{sentence2}\")\r\n",
    "wordBackwards = (f\"{sentence2[::-1]}\")\r\n",
    "\r\n",
    "if word == wordBackwards:\r\n",
    "    print(f\"{baseSentence} är ett palindrom\")\r\n",
    "else:\r\n",
    "    print(f\"{baseSentence} är inte ett palindrom\")"
   ],
   "outputs": [],
   "metadata": {}
  },
  {
   "cell_type": "markdown",
   "source": [
    "## 4. Vowles "
   ],
   "metadata": {}
  },
  {
   "cell_type": "code",
   "execution_count": null,
   "source": [
    "import re\r\n",
    "\r\n",
    "sentence = \"Pure mathematics is, in its way, the poetry of logical ideas\"\r\n",
    "\r\n",
    "sentence = sentence.replace(\" \",\"\")\r\n",
    "sentence = sentence.lower()\r\n",
    "\r\n",
    "totalVowles = 0\r\n",
    "\r\n",
    "match = re.findall(r\"[a e i o u y]\", sentence)\r\n",
    "\r\n",
    "for vowle in match:\r\n",
    "    totalVowles += 1\r\n",
    "\r\n",
    "print(f\"Antalet vokaler är {totalVowles}\")"
   ],
   "outputs": [],
   "metadata": {}
  },
  {
   "cell_type": "markdown",
   "source": [
    "## 5. Encryption"
   ],
   "metadata": {}
  },
  {
   "cell_type": "markdown",
   "source": [
    "### a)"
   ],
   "metadata": {}
  },
  {
   "cell_type": "code",
   "execution_count": 18,
   "source": [
    "import re\r\n",
    "\r\n",
    "alphabet = [\"a\", \"b\", \"c\", \"d\", \"e\", \"f\", \"g\", \"h\", \"i\", \"j\", \"k\", \"l\", \"m\", \"n\", \"o\", \"p\", \"q\", \"r\", \"s\", \"t\", \"u\", \"v\", \"w\", \"x\", \"y\", \"z\"]\r\n",
    "encryptedAlp = [\"z\", \"a\", \"b\", \"c\", \"d\", \"e\", \"f\", \"g\", \"h\", \"i\", \"j\", \"k\", \"l\", \"m\", \"n\", \"o\", \"p\", \"q\", \"r\", \"s\", \"t\", \"u\", \"v\", \"w\", \"x\", \"y\"]\r\n",
    "\r\n",
    "text = (\"PArT\")\r\n",
    "text = text.casefold()\r\n",
    "text = text.split()\r\n",
    "\r\n",
    "print(text)"
   ],
   "outputs": [
    {
     "output_type": "stream",
     "name": "stdout",
     "text": [
      "['part']\n"
     ]
    }
   ],
   "metadata": {}
  },
  {
   "cell_type": "code",
   "execution_count": 24,
   "source": [
    "message =(\"Text\")\r\n",
    "message = message.casefold()\r\n",
    "\r\n",
    "for letterIndex in (message):\r\n",
    "    encodeedMessage = message.encode()\r\n",
    "\r\n",
    "print(encodeedMessage)\r\n",
    "\r\n",
    "#for index in enumerate(alphabet):\r\n",
    "#    print(index)\r\n",
    "\r\n",
    "#for newIndew in enumerate(encryptedAlp):\r\n",
    "#    print(newIndew)\r\n",
    "\r\n",
    "#matchIndex = re.findall(r\"[text]\", alphabet)\r\n",
    "#print(matchIndex)\r\n",
    "\r\n",
    "#print(alphabet)\r\n",
    "#print(encryptedAlp)\r\n",
    "#print(textIndex)"
   ],
   "outputs": [
    {
     "output_type": "error",
     "ename": "LookupError",
     "evalue": "unknown encoding: yrcy",
     "traceback": [
      "\u001b[1;31m---------------------------------------------------------------------------\u001b[0m",
      "\u001b[1;31mLookupError\u001b[0m                               Traceback (most recent call last)",
      "\u001b[1;32mC:\\Users\\FABIAN~1\\AppData\\Local\\Temp/ipykernel_8240/3510541299.py\u001b[0m in \u001b[0;36m<module>\u001b[1;34m\u001b[0m\n\u001b[0;32m      3\u001b[0m \u001b[1;33m\u001b[0m\u001b[0m\n\u001b[0;32m      4\u001b[0m \u001b[1;32mfor\u001b[0m \u001b[0mletterIndex\u001b[0m \u001b[1;32min\u001b[0m \u001b[1;33m(\u001b[0m\u001b[0mmessage\u001b[0m\u001b[1;33m)\u001b[0m\u001b[1;33m:\u001b[0m\u001b[1;33m\u001b[0m\u001b[1;33m\u001b[0m\u001b[0m\n\u001b[1;32m----> 5\u001b[1;33m     \u001b[0mencodeedMessage\u001b[0m \u001b[1;33m=\u001b[0m \u001b[0mmessage\u001b[0m\u001b[1;33m.\u001b[0m\u001b[0mencode\u001b[0m\u001b[1;33m(\u001b[0m\u001b[0mencoding\u001b[0m\u001b[1;33m=\u001b[0m \u001b[1;34m\"yrcy\"\u001b[0m\u001b[1;33m)\u001b[0m\u001b[1;33m\u001b[0m\u001b[1;33m\u001b[0m\u001b[0m\n\u001b[0m\u001b[0;32m      6\u001b[0m \u001b[1;33m\u001b[0m\u001b[0m\n\u001b[0;32m      7\u001b[0m \u001b[0mprint\u001b[0m\u001b[1;33m(\u001b[0m\u001b[0mencodeedMessage\u001b[0m\u001b[1;33m)\u001b[0m\u001b[1;33m\u001b[0m\u001b[1;33m\u001b[0m\u001b[0m\n",
      "\u001b[1;31mLookupError\u001b[0m: unknown encoding: yrcy"
     ]
    }
   ],
   "metadata": {}
  }
 ],
 "metadata": {
  "orig_nbformat": 4,
  "language_info": {
   "name": "python",
   "version": "3.9.6",
   "mimetype": "text/x-python",
   "codemirror_mode": {
    "name": "ipython",
    "version": 3
   },
   "pygments_lexer": "ipython3",
   "nbconvert_exporter": "python",
   "file_extension": ".py"
  },
  "kernelspec": {
   "name": "python3",
   "display_name": "Python 3.9.6 64-bit ('python-programmering-Fabian-Adnersson-7Vjomyem': pipenv)"
  },
  "interpreter": {
   "hash": "f6ced4aceb5dca1d902771a0c4caef10d5e109c6ad3a1438b115d6b0f80a24fd"
  }
 },
 "nbformat": 4,
 "nbformat_minor": 2
}