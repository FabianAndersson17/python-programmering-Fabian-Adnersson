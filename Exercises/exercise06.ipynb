{
 "cells": [
  {
   "cell_type": "markdown",
   "source": [
    "# Function exercises "
   ],
   "metadata": {}
  },
  {
   "cell_type": "markdown",
   "source": [
    "## 1. Area "
   ],
   "metadata": {}
  },
  {
   "cell_type": "code",
   "execution_count": null,
   "source": [
    "def trianglearea(base, height):\r\n",
    "    return base*height/2\r\n",
    "\r\n",
    "print(f\"Triangelns area är {trianglearea(5, 8)}\")"
   ],
   "outputs": [],
   "metadata": {}
  },
  {
   "cell_type": "code",
   "execution_count": null,
   "source": [
    "inputBase = int(input(\"Ange en bas till triangeln\"))\r\n",
    "inputHeight = int(input(\"Ange en höjd till triangeln\"))\r\n",
    "\r\n",
    "def trianglearea(base, height):\r\n",
    "    return base*height/2\r\n",
    "\r\n",
    "\r\n",
    "print(f\"\"\"\r\n",
    "Basen är {inputBase}\r\n",
    "Höjden är {inputHeight}\r\n",
    "Triangelns area är {trianglearea(inputBase, inputHeight)}\"\"\")"
   ],
   "outputs": [],
   "metadata": {}
  },
  {
   "cell_type": "markdown",
   "source": [
    "## 2. Euclidean distance"
   ],
   "metadata": {}
  },
  {
   "cell_type": "markdown",
   "source": [
    "### a)"
   ],
   "metadata": {}
  },
  {
   "cell_type": "code",
   "execution_count": null,
   "source": [
    "import math\r\n",
    "\r\n",
    "def euclideandistance(p1, p2, q1, q2):\r\n",
    "    return math.sqrt(((p1-q1)**2) + ((p2 - q2)**2))\r\n",
    "\r\n",
    "print(f\"Distansen mellan Punkten P och Q är {euclideandistance(6, 7, 2, 5):.2f}\")"
   ],
   "outputs": [],
   "metadata": {}
  },
  {
   "cell_type": "markdown",
   "source": [
    "### b)"
   ],
   "metadata": {}
  },
  {
   "cell_type": "code",
   "execution_count": null,
   "source": [
    "import math\r\n",
    "\r\n",
    "input_p1 = int(input(\"Ange värdet för punkt p1\"))\r\n",
    "input_p2 = int(input(\"Ange värdet för punkt p2\"))\r\n",
    "input_q1 = int(input(\"Ange värdet för punkt q1\"))\r\n",
    "input_q2 = int(input(\"Ange värdet för punkt q2\"))\r\n",
    "\r\n",
    "def euclideandistance(p1, p2, q1, q2):\r\n",
    "    return math.sqrt(((p1-q1)**2) + ((p2 - q2)**2))\r\n",
    "\r\n",
    "print(f\"\"\"\r\n",
    "Korrdinaterna för P är {input_p1, input_p2}\r\n",
    "korrdinaterna för Q är {input_q1, input_q2}\r\n",
    "Distansen mellan punkten P och Q är {euclideandistance(input_p1, input_p2, input_q1, input_q2):.2f}\"\"\")"
   ],
   "outputs": [],
   "metadata": {}
  },
  {
   "cell_type": "markdown",
   "source": [
    "## 3. Mathematical functions\r\n",
    "\r\n",
    "### a) f(x) = x^2-3\r\n",
    "### b) g(x) = 4x-7"
   ],
   "metadata": {}
  },
  {
   "cell_type": "code",
   "execution_count": null,
   "source": [
    "import numpy as np\r\n",
    "import matplotlib.pyplot as plt\r\n",
    "\r\n",
    "f = lambda x: x**2-3\r\n",
    "g = lambda x2: 4*x2-7\r\n",
    "\r\n",
    "x = np.linspace(-10, 10)\r\n",
    "x2 = np.linspace(-10, 10)\r\n",
    "\r\n",
    "y = [f(x) for x in x]\r\n",
    "y2 = [g(x2) for x2 in x2]\r\n",
    "\r\n",
    "plt.plot(x,y)\r\n",
    "plt.plot(x2,y2)\r\n",
    "plt.show()"
   ],
   "outputs": [],
   "metadata": {}
  },
  {
   "cell_type": "markdown",
   "source": [
    "## 4. Name cleaner"
   ],
   "metadata": {}
  },
  {
   "cell_type": "code",
   "execution_count": 225,
   "source": [
    "\r\n",
    "def name_cleaner(name = \"\"):\r\n",
    "    return(name.strip().casefold().title()) \r\n",
    "    \r\n",
    "print(name_cleaner(\"     MaRcUs    \"))\r\n",
    "print(name_cleaner(\"  iDa aNderSon\"))\r\n",
    "print(name_cleaner(\"OLOF Olofsson                         \"))"
   ],
   "outputs": [
    {
     "output_type": "stream",
     "name": "stdout",
     "text": [
      "Marcus\n",
      "Ida Anderson\n",
      "Olof Olofsson\n"
     ]
    }
   ],
   "metadata": {}
  },
  {
   "cell_type": "code",
   "execution_count": 226,
   "source": [
    "inputName = input(\"Ange en mening eller ett namn som ska rengöras\")\r\n",
    "\r\n",
    "def name_cleaner(name = \"\"):\r\n",
    "    return(name.strip().casefold().title())\r\n",
    "\r\n",
    "print(name_cleaner(inputName))"
   ],
   "outputs": [
    {
     "output_type": "stream",
     "name": "stdout",
     "text": [
      "Fabian Andersson\n"
     ]
    }
   ],
   "metadata": {}
  },
  {
   "cell_type": "markdown",
   "source": [
    "## 5. Change"
   ],
   "metadata": {}
  },
  {
   "cell_type": "code",
   "execution_count": 49,
   "source": [
    "def currency_calculator(currency):\r\n",
    "    for thousends in currency :\r\n",
    "        thousends\r\n",
    "\r\n",
    "print(currency_calculator)"
   ],
   "outputs": [
    {
     "output_type": "stream",
     "name": "stdout",
     "text": [
      "<function currency_calculator at 0x000001DFB8C8A0D0>\n"
     ]
    }
   ],
   "metadata": {}
  }
 ],
 "metadata": {
  "orig_nbformat": 4,
  "language_info": {
   "name": "python",
   "version": "3.9.6",
   "mimetype": "text/x-python",
   "codemirror_mode": {
    "name": "ipython",
    "version": 3
   },
   "pygments_lexer": "ipython3",
   "nbconvert_exporter": "python",
   "file_extension": ".py"
  },
  "kernelspec": {
   "name": "python3",
   "display_name": "Python 3.9.6 64-bit ('python-programmering-Fabian-Adnersson-7Vjomyem': pipenv)"
  },
  "interpreter": {
   "hash": "f6ced4aceb5dca1d902771a0c4caef10d5e109c6ad3a1438b115d6b0f80a24fd"
  }
 },
 "nbformat": 4,
 "nbformat_minor": 2
}