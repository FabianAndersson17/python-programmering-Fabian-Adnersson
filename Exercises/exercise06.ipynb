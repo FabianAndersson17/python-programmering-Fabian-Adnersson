{
 "cells": [
  {
   "cell_type": "markdown",
   "source": [
    "# Function exercises "
   ],
   "metadata": {}
  },
  {
   "cell_type": "markdown",
   "source": [
    "## 1. Area "
   ],
   "metadata": {}
  },
  {
   "cell_type": "code",
   "execution_count": 7,
   "source": [
    "def trianglearea(base, height):\r\n",
    "    return base*height/2\r\n",
    "\r\n",
    "print(f\"Triangelns area är {trianglearea(5, 8)}\")"
   ],
   "outputs": [
    {
     "output_type": "stream",
     "name": "stdout",
     "text": [
      "Triangelns area är 20.0\n"
     ]
    }
   ],
   "metadata": {}
  },
  {
   "cell_type": "code",
   "execution_count": 10,
   "source": [
    "inputBase = int(input(\"Ange en bas till triangeln\"))\r\n",
    "inputHeight = int(input(\"Ange en höjd till triangeln\"))\r\n",
    "\r\n",
    "def trianglearea(base, height):\r\n",
    "    return base*height/2\r\n",
    "\r\n",
    "\r\n",
    "print(f\"\"\"\r\n",
    "Basen är {inputBase}\r\n",
    "Höjden är {inputHeight}\r\n",
    "Triangelns area är {trianglearea(inputBase, inputHeight)}\"\"\")"
   ],
   "outputs": [
    {
     "output_type": "stream",
     "name": "stdout",
     "text": [
      "\n",
      "Basen är 6\n",
      "Höjden är 5\n",
      "Triangelns area är 15.0\n"
     ]
    }
   ],
   "metadata": {}
  },
  {
   "cell_type": "markdown",
   "source": [
    "## 2. Euclidean distance"
   ],
   "metadata": {}
  },
  {
   "cell_type": "code",
   "execution_count": 15,
   "source": [
    "import math\r\n",
    "\r\n",
    "def euclideandistance(p1, p2, q1, q2):\r\n",
    "    return math.sqrt(((p1-q1)**2) + ((p2 - q2)**2))\r\n",
    "\r\n",
    "print(f\"Distansen mellan Punkten P och Q är {euclideandistance(6, 7, 2, 5):.2f}\")"
   ],
   "outputs": [
    {
     "output_type": "stream",
     "name": "stdout",
     "text": [
      "Distansen mellan Punkten P och Q är 4.47\n"
     ]
    }
   ],
   "metadata": {}
  },
  {
   "cell_type": "code",
   "execution_count": 12,
   "source": [
    "import math\r\n",
    "\r\n",
    "input_p1 = int(input(\"Ange värdet för punkt p1\"))\r\n",
    "input_p2 = int(input(\"Ange värdet för punkt p2\"))\r\n",
    "input_q1 = int(input(\"Ange värdet för punkt q1\"))\r\n",
    "input_q2 = int(input(\"Ange värdet för punkt q2\"))\r\n",
    "\r\n",
    "def euclideandistance(p1, p2, q1, q2):\r\n",
    "    return math.sqrt(((p1-q1)**2) + ((p2 - q2)**2))\r\n",
    "\r\n",
    "print(f\"\"\"\r\n",
    "Korrdinaterna för P är {input_p1, input_p2}\r\n",
    "korrdinaterna för Q är {input_q1, input_q2}\r\n",
    "Distansen mellan punkten P och Q är {euclideandistance(input_p1, input_p2, input_q1, input_q2):.2f}\"\"\")"
   ],
   "outputs": [
    {
     "output_type": "stream",
     "name": "stdout",
     "text": [
      "\n",
      "Korrdinaterna för P är (6, 6)\n",
      "korrdinaterna för Q är (4, 4)\n",
      "Distansen mellan punkten P och Q är 2.83\n"
     ]
    }
   ],
   "metadata": {}
  },
  {
   "cell_type": "markdown",
   "source": [
    "## 3. Mathematical functions"
   ],
   "metadata": {}
  },
  {
   "cell_type": "code",
   "execution_count": null,
   "source": [
    "import matplotlib.pyplot as plt\r\n",
    "\r\n",
    "# a)\r\n",
    "\r\n"
   ],
   "outputs": [],
   "metadata": {}
  }
 ],
 "metadata": {
  "orig_nbformat": 4,
  "language_info": {
   "name": "python",
   "version": "3.9.6",
   "mimetype": "text/x-python",
   "codemirror_mode": {
    "name": "ipython",
    "version": 3
   },
   "pygments_lexer": "ipython3",
   "nbconvert_exporter": "python",
   "file_extension": ".py"
  },
  "kernelspec": {
   "name": "python3",
   "display_name": "Python 3.9.6 64-bit ('python-programmering-Fabian-Adnersson-7Vjomyem': pipenv)"
  },
  "interpreter": {
   "hash": "f6ced4aceb5dca1d902771a0c4caef10d5e109c6ad3a1438b115d6b0f80a24fd"
  }
 },
 "nbformat": 4,
 "nbformat_minor": 2
}