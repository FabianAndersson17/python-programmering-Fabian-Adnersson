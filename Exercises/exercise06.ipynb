{
 "cells": [
  {
   "cell_type": "markdown",
   "source": [
    "# Function exercises "
   ],
   "metadata": {}
  },
  {
   "cell_type": "markdown",
   "source": [
    "## 1. Area "
   ],
   "metadata": {}
  },
  {
   "cell_type": "code",
   "execution_count": null,
   "source": [
    "def trianglearea(base, height):\r\n",
    "    return base*height/2\r\n",
    "\r\n",
    "print(f\"Triangelns area är {trianglearea(5, 8)}\")"
   ],
   "outputs": [],
   "metadata": {}
  },
  {
   "cell_type": "code",
   "execution_count": null,
   "source": [
    "inputBase = int(input(\"Ange en bas till triangeln\"))\r\n",
    "inputHeight = int(input(\"Ange en höjd till triangeln\"))\r\n",
    "\r\n",
    "def trianglearea(base, height):\r\n",
    "    return base*height/2\r\n",
    "\r\n",
    "\r\n",
    "print(f\"\"\"\r\n",
    "Basen är {inputBase}\r\n",
    "Höjden är {inputHeight}\r\n",
    "Triangelns area är {trianglearea(inputBase, inputHeight)}\"\"\")"
   ],
   "outputs": [],
   "metadata": {}
  },
  {
   "cell_type": "markdown",
   "source": [
    "## 2. Euclidean distance"
   ],
   "metadata": {}
  },
  {
   "cell_type": "markdown",
   "source": [
    "### a)"
   ],
   "metadata": {}
  },
  {
   "cell_type": "code",
   "execution_count": null,
   "source": [
    "import math\r\n",
    "\r\n",
    "def euclideandistance(p1, p2, q1, q2):\r\n",
    "    return math.sqrt(((p1-q1)**2) + ((p2 - q2)**2))\r\n",
    "\r\n",
    "print(f\"Distansen mellan Punkten P och Q är {euclideandistance(6, 7, 2, 5):.2f}\")"
   ],
   "outputs": [],
   "metadata": {}
  },
  {
   "cell_type": "markdown",
   "source": [
    "### b)"
   ],
   "metadata": {}
  },
  {
   "cell_type": "code",
   "execution_count": null,
   "source": [
    "import math\r\n",
    "\r\n",
    "input_p1 = int(input(\"Ange värdet för punkt p1\"))\r\n",
    "input_p2 = int(input(\"Ange värdet för punkt p2\"))\r\n",
    "input_q1 = int(input(\"Ange värdet för punkt q1\"))\r\n",
    "input_q2 = int(input(\"Ange värdet för punkt q2\"))\r\n",
    "\r\n",
    "def euclideandistance(p1, p2, q1, q2):\r\n",
    "    return math.sqrt(((p1-q1)**2) + ((p2 - q2)**2))\r\n",
    "\r\n",
    "print(f\"\"\"\r\n",
    "Korrdinaterna för P är {input_p1, input_p2}\r\n",
    "korrdinaterna för Q är {input_q1, input_q2}\r\n",
    "Distansen mellan punkten P och Q är {euclideandistance(input_p1, input_p2, input_q1, input_q2):.2f}\"\"\")"
   ],
   "outputs": [],
   "metadata": {}
  },
  {
   "cell_type": "markdown",
   "source": [
    "## 3. Mathematical functions\r\n",
    "\r\n",
    "### a) f(x) = x^2-3\r\n",
    "### b) g(x) = 4x-7"
   ],
   "metadata": {}
  },
  {
   "cell_type": "code",
   "execution_count": 3,
   "source": [
    "import numpy as np\r\n",
    "import matplotlib.pyplot as plt\r\n",
    "\r\n",
    "f = lambda x: x**2-3\r\n",
    "g = lambda x: 4*x-7\r\n",
    "\r\n",
    "x = np.linspace(-10, 10)\r\n",
    "\r\n",
    "y = [f(x) for x in x]\r\n",
    "y2 = [g(x) for x in x]\r\n",
    "\r\n",
    "plt.plot(x,y)\r\n",
    "plt.plot(x,y2)\r\n",
    "plt.show()"
   ],
   "outputs": [
    {
     "output_type": "display_data",
     "data": {
      "image/png": "[encoded data removed]",
      "text/plain": [
       "<Figure size 432x288 with 1 Axes>"
      ]
     },
     "metadata": {
      "needs_background": "light"
     }
    }
   ],
   "metadata": {}
  },
  {
   "cell_type": "markdown",
   "source": [
    "## 4. Name cleaner"
   ],
   "metadata": {}
  },
  {
   "cell_type": "code",
   "execution_count": 225,
   "source": [
    "\r\n",
    "def name_cleaner(name = \"\"):\r\n",
    "    return(name.strip().casefold().title()) \r\n",
    "    \r\n",
    "print(name_cleaner(\"     MaRcUs    \"))\r\n",
    "print(name_cleaner(\"  iDa aNderSon\"))\r\n",
    "print(name_cleaner(\"OLOF Olofsson                         \"))"
   ],
   "outputs": [
    {
     "output_type": "stream",
     "name": "stdout",
     "text": [
      "Marcus\n",
      "Ida Anderson\n",
      "Olof Olofsson\n"
     ]
    }
   ],
   "metadata": {}
  },
  {
   "cell_type": "code",
   "execution_count": 1,
   "source": [
    "inputName = input(\"Ange en mening eller ett namn som ska rengöras\")\r\n",
    "\r\n",
    "def name_cleaner(name = \"\"):\r\n",
    "    return(name.strip().casefold().title())\r\n",
    "\r\n",
    "print(name_cleaner(inputName))"
   ],
   "outputs": [
    {
     "output_type": "stream",
     "name": "stdout",
     "text": [
      "S             Tefan Lö                  Ven\n"
     ]
    }
   ],
   "metadata": {}
  },
  {
   "cell_type": "markdown",
   "source": [
    "## 5. Change"
   ],
   "metadata": {}
  },
  {
   "cell_type": "code",
   "execution_count": 69,
   "source": [
    "def currency_calculator(currency = 0):\r\n",
    "    currency = int(input(\"Hur mycket pengar vill du ta ut?\"))\r\n",
    "    thousendBills = 0\r\n",
    "    twohundredBills = 0\r\n",
    "    hundreBills = 0\r\n",
    "    fiftyBills = 0\r\n",
    "    twentyBills = 0\r\n",
    "    tenCoins = 0\r\n",
    "    fiveCoins = 0\r\n",
    "    twoCoins = 0\r\n",
    "    oneCoins = 0\r\n",
    "\r\n",
    "    if currency >= 1*10^6:\r\n",
    "        print(\"Du borde mest troligen inte ta ut så mycket pengar i kontanter\")\r\n",
    "\r\n",
    "    while currency >= 1000:\r\n",
    "        currency -= 1000\r\n",
    "        thousendBills += 1\r\n",
    "\r\n",
    "        while currency >= 200 and currency < 1000:\r\n",
    "            currency -= 200\r\n",
    "            twohundredBills += 1\r\n",
    "        while currency >= 100 and currency < 200:\r\n",
    "            currency -= 100\r\n",
    "            hundreBills += 1\r\n",
    "        while currency >= 50 and currency < 100:\r\n",
    "            currency -= 50\r\n",
    "            fiftyBills += 1\r\n",
    "        while currency >= 20 and currency < 50:\r\n",
    "            currency -= 20\r\n",
    "            twentyBills += 1\r\n",
    "        while currency >= 10 and currency < 20:\r\n",
    "            currency -= 10\r\n",
    "            tenCoins += 1\r\n",
    "        while currency >= 5 and currency < 10:\r\n",
    "            currency -= 5\r\n",
    "            fiveCoins += 1\r\n",
    "        while currency >= 2 and currency < 5:\r\n",
    "            currency -= 2\r\n",
    "            twoCoins += 1\r\n",
    "        while currency >= 1 and currency < 2:\r\n",
    "            currency -= 1\r\n",
    "            oneCoins += 1\r\n",
    "                \r\n",
    "\r\n",
    "    print(f\"\"\"\r\n",
    "    Du har {thousendBills} 1000-lapp(ar)\r\n",
    "    Du har {twohundredBills} 200-lapp(ar)\r\n",
    "    Du har {hundreBills} 100-lapp(ar)\r\n",
    "    Du har {fiftyBills} 50-lapp(ar)\r\n",
    "    Du har {twentyBills} 20-lapp(ar)\r\n",
    "    Du har {tenCoins} 10-krona\r\n",
    "    Du har {fiveCoins} 5-krona\r\n",
    "    Du har {twoCoins} 2-krona\r\n",
    "    Du har {oneCoins} 1-krona\r\n",
    "    \"\"\")\r\n",
    "\r\n",
    "print(currency_calculator())"
   ],
   "outputs": [
    {
     "output_type": "stream",
     "name": "stdout",
     "text": [
      "Du borde mest troligen inte ta ut så mycket pengar i kontanter\n",
      "\n",
      "    Du har 1563 1000-lapp(ar)\n",
      "    Du har 4 200-lapp(ar)\n",
      "    Du har 1 100-lapp(ar)\n",
      "    Du har 1 50-lapp(ar)\n",
      "    Du har 1 20-lapp(ar)\n",
      "    Du har 1 10-krona\n",
      "    Du har 1 5-krona\n",
      "    Du har 1 2-krona\n",
      "    Du har 1 1-krona\n",
      "    \n",
      "None\n"
     ]
    }
   ],
   "metadata": {}
  }
 ],
 "metadata": {
  "orig_nbformat": 4,
  "language_info": {
   "name": "python",
   "version": "3.9.6",
   "mimetype": "text/x-python",
   "codemirror_mode": {
    "name": "ipython",
    "version": 3
   },
   "pygments_lexer": "ipython3",
   "nbconvert_exporter": "python",
   "file_extension": ".py"
  },
  "kernelspec": {
   "name": "python3",
   "display_name": "Python 3.9.6 64-bit ('python-programmering-Fabian-Adnersson-7Vjomyem': pipenv)"
  },
  "interpreter": {
   "hash": "f6ced4aceb5dca1d902771a0c4caef10d5e109c6ad3a1438b115d6b0f80a24fd"
  }
 },
 "nbformat": 4,
 "nbformat_minor": 2
}