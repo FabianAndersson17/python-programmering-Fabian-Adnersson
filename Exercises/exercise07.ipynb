{
 "cells": [
  {
   "cell_type": "markdown",
   "source": [
    "# Error handling exercises"
   ],
   "metadata": {}
  },
  {
   "cell_type": "markdown",
   "source": [
    "## 1. Find the errors"
   ],
   "metadata": {}
  },
  {
   "cell_type": "code",
   "execution_count": null,
   "source": [
    "## Code to fix\r\n",
    "\r\n",
    "##impor numpy as np\r\n",
    "\r\n",
    "##def distance(x,y)\r\n",
    "##    reurn np.sqrt(x+y)\r\n",
    "\r\n",
    "##print(distance([0.5, 0.5]))\r\n"
   ],
   "outputs": [],
   "metadata": {}
  },
  {
   "cell_type": "code",
   "execution_count": null,
   "source": [
    "import numpy as np\r\n",
    "\r\n",
    "def distance(x,y):\r\n",
    "    return np.sqrt((x**2)+(y**2))\r\n",
    "\r\n",
    "print(distance(0.5, 0.5))\r\n"
   ],
   "outputs": [],
   "metadata": {}
  },
  {
   "cell_type": "markdown",
   "source": [
    "## 2. Find the errors"
   ],
   "metadata": {}
  },
  {
   "cell_type": "code",
   "execution_count": null,
   "source": [
    "## Code to fix\r\n",
    "\r\n",
    "##def is_fourdigit(number):\r\n",
    "##    if number//1000 < 10\r\n",
    "##        return true\r\n",
    "##    else \r\n",
    "##        return false\r\n",
    "\r\n",
    "# test program\r\n",
    "##test_numbers = [231, 3124, -4124, -1000,-999, 1001, 10000, -10000, 999]\r\n",
    "\r\n",
    "##for number in test_numbers:\r\n",
    "##    if is_fourdigit(number):\r\n",
    "##        print(f\"{number} is four-digit\")\r\n",
    "##    else:\r\n",
    "##        print(f\"{number} is not four-digit\")\r\n"
   ],
   "outputs": [],
   "metadata": {}
  },
  {
   "cell_type": "code",
   "execution_count": 5,
   "source": [
    "def is_fourdigit(number):\r\n",
    "    if number/1000 >= 1 and number/1000 < 10:\r\n",
    "        return True\r\n",
    "    elif number/1000 <= -1 and number/1000 > -10:\r\n",
    "        return True\r\n",
    "    else:\r\n",
    "        return False\r\n",
    "\r\n",
    "# test program\r\n",
    "test_numbers = [231, 3124, -4124, -1000, -999, 1001, 10000, -10000, 999]\r\n",
    "\r\n",
    "for number in test_numbers:\r\n",
    "    if is_fourdigit(number):\r\n",
    "        print(f\"{number} is four-digit\")\r\n",
    "    else:\r\n",
    "        print(f\"{number} is not four-digit\")\r\n"
   ],
   "outputs": [
    {
     "output_type": "stream",
     "name": "stdout",
     "text": [
      "231 is not four-digit\n",
      "3124 is four-digit\n",
      "-4124 is four-digit\n",
      "-1000 is four-digit\n",
      "-999 is not four-digit\n",
      "1001 is four-digit\n",
      "10000 is not four-digit\n",
      "-10000 is not four-digit\n",
      "999 is not four-digit\n"
     ]
    }
   ],
   "metadata": {}
  },
  {
   "cell_type": "markdown",
   "source": [
    "## Tram"
   ],
   "metadata": {}
  },
  {
   "cell_type": "code",
   "execution_count": 1,
   "source": [
    "pricePerTicket = 26\r\n",
    "monthlyCardPrice = 795\r\n",
    "\r\n",
    "while True:\r\n",
    "    tramTripsPerMonth = input(\"Hur mycket åker spårvagn åker du per månad?\")\r\n",
    "\r\n",
    "    try:\r\n",
    "        tramTripsPerMonth = int(tramTripsPerMonth)\r\n",
    "        if not 0 <= tramTripsPerMonth <= 120:\r\n",
    "            raise ValueError(f\"Antalet som är angivet stämmer. Antalet måste var mellan 0 och 120 inte {tramTripsPerMonth}\")\r\n",
    "        break\r\n",
    "    except ValueError as err:\r\n",
    "        print(err)\r\n",
    "\r\n",
    "costForTickets = pricePerTicket * tramTripsPerMonth\r\n",
    "\r\n",
    "if costForTickets < monthlyCardPrice:\r\n",
    "    print(\"Det är billigare att köpa en biljett varje gång du reser\")\r\n",
    "else:\r\n",
    "    print(\"Det är billigare att köpa ett månadskort.\")"
   ],
   "outputs": [
    {
     "output_type": "stream",
     "name": "stdout",
     "text": [
      "invalid literal for int() with base 10: 'fem'\n",
      "invalid literal for int() with base 10: 'fem'\n",
      "Det är billigare att köpa en biljett varje gång du reser\n"
     ]
    }
   ],
   "metadata": {}
  },
  {
   "cell_type": "markdown",
   "source": [
    "## 3. Tram price calulator mk2"
   ],
   "metadata": {}
  },
  {
   "cell_type": "code",
   "execution_count": 33,
   "source": [
    "ticketPriceTeens = 26\r\n",
    "ticketPriceAdults = 34\r\n",
    "monthlyCardPrice = 795\r\n",
    "costFortickets = 0\r\n",
    "\r\n",
    "while True:\r\n",
    "    tramTripsPerMonth = input(\"Hur mycket åker spårvagn åker du per månad?\")\r\n",
    "    age = input(\"Hur gammal är du?\")\r\n",
    "\r\n",
    "    try:\r\n",
    "        tramTripsPerMonth = int(tramTripsPerMonth)\r\n",
    "        age = int(age)\r\n",
    "        if not 0 <= tramTripsPerMonth <= 100:\r\n",
    "            raise ValueError(f\"Antalet som är angivet stämmer. Antalet måste var mellan 0 och 100 inte {tramTripsPerMonth}.\")\r\n",
    "        if not 10 <= age <= 90:\r\n",
    "            raise ValueError(f\"Du måste vara mellan 10 och 90 för att få åka spårvagn utan vårdnadshavares uppsikt.\")\r\n",
    "        break\r\n",
    "    except ValueError as err:\r\n",
    "        print(err)\r\n",
    "\r\n",
    "if age >= 7 and age <=19:\r\n",
    "    costForTickets = ticketPriceTeens * tramTripsPerMonth\r\n",
    "elif age > 19:\r\n",
    "    costForTickets = ticketPriceAdults * tramTripsPerMonth\r\n",
    "\r\n",
    "if costForTickets < monthlyCardPrice:\r\n",
    "    print(\"Det är billigare att köpa en biljett varje gång du reser.\")\r\n",
    "else:\r\n",
    "    print(\"Det är billigare att köpa ett månadskort.\")\r\n",
    "print(\"Tack för att du reser med västtrafik.\")"
   ],
   "outputs": [
    {
     "output_type": "stream",
     "name": "stdout",
     "text": [
      "Det är billigare att köpa ett månadskort.\n",
      "Tack för att du reser med västtrafik.\n"
     ]
    }
   ],
   "metadata": {}
  }
 ],
 "metadata": {
  "orig_nbformat": 4,
  "language_info": {
   "name": "python",
   "version": "3.9.6",
   "mimetype": "text/x-python",
   "codemirror_mode": {
    "name": "ipython",
    "version": 3
   },
   "pygments_lexer": "ipython3",
   "nbconvert_exporter": "python",
   "file_extension": ".py"
  },
  "kernelspec": {
   "name": "python3",
   "display_name": "Python 3.9.6 64-bit ('python-programmering-Fabian-Adnersson-7Vjomyem': pipenv)"
  },
  "interpreter": {
   "hash": "f6ced4aceb5dca1d902771a0c4caef10d5e109c6ad3a1438b115d6b0f80a24fd"
  }
 },
 "nbformat": 4,
 "nbformat_minor": 2
}