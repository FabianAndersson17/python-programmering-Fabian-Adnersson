{
 "cells": [
  {
   "cell_type": "markdown",
   "source": [
    "# File Handling exercises"
   ],
   "metadata": {}
  },
  {
   "cell_type": "markdown",
   "source": [
    "## 1. Dice rolls"
   ],
   "metadata": {}
  },
  {
   "cell_type": "code",
   "execution_count": 111,
   "source": [
    "import random as rnd\r\n",
    "\r\n",
    "dice_rolls = \"files/dice_rolls.txt\"\r\n",
    "rolledDices = [rnd.randint(1, 6) for _ in range(20)]\r\n",
    "numberOfFours = 0\r\n",
    "\r\n",
    "\r\n",
    "with open(dice_rolls, \"w\") as dice1, open(dice_rolls, \"r\") as dice2:\r\n",
    "    dice1.write(f\"Dice rolls:\\n{rolledDices}\\n\\n\")\r\n",
    "    rolledDices.sort()\r\n",
    "    dice1.write(f\"Sorted dice rolls:\\n{rolledDices}\\n\\n\")\r\n",
    "    for i in rolledDices:\r\n",
    "        if i == 4:\r\n",
    "            numberOfFours += 1\r\n",
    "    dice1.write(f\"Number of fours: {numberOfFours}\")"
   ],
   "outputs": [],
   "metadata": {}
  },
  {
   "cell_type": "markdown",
   "source": [
    "## 2. Test Result"
   ],
   "metadata": {}
  },
  {
   "cell_type": "code",
   "execution_count": 175,
   "source": [
    "test_results = \"files/test_result.txt\"\r\n",
    "final_results = \"files/final_results.txt\"\r\n",
    "\r\n",
    "with open(test_results, \"r\") as test1, open(final_results, \"w\") as fResults1:\r\n",
    "    results = test1.read()\r\n",
    "    resultList = results.split(\"\\n\")\r\n",
    "    fResults1.write(f\"Results:\\n\")\r\n",
    "    for finalTestResults in resultList:\r\n",
    "        fResults1.write(f\"{finalTestResults}\\n\")\r\n",
    "    print(resultList)\r\n",
    "    fResults1.write(f\"\\n\")\r\n",
    "    resultList.sort()\r\n",
    "    print(resultList)\r\n",
    "    fResults1.write(f\"Alphabetically sorted results:\\n\")\r\n",
    "    for finalTestResults in resultList:\r\n",
    "        fResults1.write(f\"{finalTestResults}\\n\")\r\n",
    "    "
   ],
   "outputs": [
    {
     "output_type": "stream",
     "name": "stdout",
     "text": [
      "['Adam Gustafsson 25', 'Emil Johansson 23', 'Sven Erik Karlsson 13', 'Ove Karlsten 41', 'Emma Boden 32', 'Ida HÃ¥kansson 23', 'Ella Ester 41', 'Hanna Karlsson 23 ', 'Johan Johansson 42', 'Sven Erik Lundin 39', 'BjÃ¶rn BjÃ¶rnsson 39', 'Karl Karlsson 32', 'Bose Bosseson 32', 'HÃ¥kan HÃ¥kanson 24', 'Jonas Jonasson 31', 'Erik Eriksson 31', 'Gore Bord 55', 'Jakob Kallander 65', 'Fredrika Ulven 10']\n",
      "['Adam Gustafsson 25', 'BjÃ¶rn BjÃ¶rnsson 39', 'Bose Bosseson 32', 'Ella Ester 41', 'Emil Johansson 23', 'Emma Boden 32', 'Erik Eriksson 31', 'Fredrika Ulven 10', 'Gore Bord 55', 'Hanna Karlsson 23 ', 'HÃ¥kan HÃ¥kanson 24', 'Ida HÃ¥kansson 23', 'Jakob Kallander 65', 'Johan Johansson 42', 'Jonas Jonasson 31', 'Karl Karlsson 32', 'Ove Karlsten 41', 'Sven Erik Karlsson 13', 'Sven Erik Lundin 39']\n"
     ]
    }
   ],
   "metadata": {}
  },
  {
   "cell_type": "markdown",
   "source": [
    "## 3. National Test"
   ],
   "metadata": {}
  },
  {
   "cell_type": "code",
   "execution_count": null,
   "source": [],
   "outputs": [],
   "metadata": {}
  }
 ],
 "metadata": {
  "orig_nbformat": 4,
  "language_info": {
   "name": "python",
   "version": "3.9.6",
   "mimetype": "text/x-python",
   "codemirror_mode": {
    "name": "ipython",
    "version": 3
   },
   "pygments_lexer": "ipython3",
   "nbconvert_exporter": "python",
   "file_extension": ".py"
  },
  "kernelspec": {
   "name": "python3",
   "display_name": "Python 3.9.6 64-bit ('python-programmering-Fabian-Adnersson-7Vjomyem': pipenv)"
  },
  "interpreter": {
   "hash": "f6ced4aceb5dca1d902771a0c4caef10d5e109c6ad3a1438b115d6b0f80a24fd"
  }
 },
 "nbformat": 4,
 "nbformat_minor": 2
}