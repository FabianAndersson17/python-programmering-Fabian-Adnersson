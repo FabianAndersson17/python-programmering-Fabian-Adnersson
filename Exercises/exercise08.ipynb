{
 "cells": [
  {
   "cell_type": "markdown",
   "source": [
    "# File Handling exercises"
   ],
   "metadata": {}
  },
  {
   "cell_type": "markdown",
   "source": [
    "## 1. Dice rolls"
   ],
   "metadata": {}
  },
  {
   "cell_type": "code",
   "execution_count": 110,
   "source": [
    "import random as rnd\r\n",
    "\r\n",
    "dice_rolls = \"files/dice_rolls.txt\"\r\n",
    "rolledDices = [rnd.randint(1, 6) for _ in range(20)]\r\n",
    "numberOfFours = 0\r\n",
    "\r\n",
    "\r\n",
    "with open(dice_rolls, \"w\") as dice1, open(dice_rolls, \"r\") as dice2:\r\n",
    "    dice1.write(f\"Dice rolls:\\n{rolledDices}\\n\\n\")\r\n",
    "    print(rolledDices)\r\n",
    "    rolledDices.sort()\r\n",
    "    dice1.write(f\"Sorted dice rolls:\\n{rolledDices}\\n\\n\")\r\n",
    "    print(rolledDices)\r\n",
    "    for i in rolledDices:\r\n",
    "        if i == 4:\r\n",
    "            numberOfFours += 1\r\n",
    "    dice1.write(f\"Number of fours: {numberOfFours}\")\r\n",
    "    print(numberOfFours)"
   ],
   "outputs": [
    {
     "output_type": "stream",
     "name": "stdout",
     "text": [
      "[2, 4, 2, 4, 3, 6, 4, 2, 3, 4, 2, 6, 1, 5, 4, 3, 1, 6, 3, 3]\n",
      "[1, 1, 2, 2, 2, 2, 3, 3, 3, 3, 3, 4, 4, 4, 4, 4, 5, 6, 6, 6]\n",
      "5\n"
     ]
    }
   ],
   "metadata": {}
  },
  {
   "cell_type": "markdown",
   "source": [
    "## 2. Test Result"
   ],
   "metadata": {}
  },
  {
   "cell_type": "code",
   "execution_count": null,
   "source": [],
   "outputs": [],
   "metadata": {}
  }
 ],
 "metadata": {
  "orig_nbformat": 4,
  "language_info": {
   "name": "python",
   "version": "3.9.6",
   "mimetype": "text/x-python",
   "codemirror_mode": {
    "name": "ipython",
    "version": 3
   },
   "pygments_lexer": "ipython3",
   "nbconvert_exporter": "python",
   "file_extension": ".py"
  },
  "kernelspec": {
   "name": "python3",
   "display_name": "Python 3.9.6 64-bit ('python-programmering-Fabian-Adnersson-7Vjomyem': pipenv)"
  },
  "interpreter": {
   "hash": "f6ced4aceb5dca1d902771a0c4caef10d5e109c6ad3a1438b115d6b0f80a24fd"
  }
 },
 "nbformat": 4,
 "nbformat_minor": 2
}