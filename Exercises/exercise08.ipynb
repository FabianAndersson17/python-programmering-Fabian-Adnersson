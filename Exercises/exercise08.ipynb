{
 "cells": [
  {
   "cell_type": "markdown",
   "source": [
    "# File Handling exercises"
   ],
   "metadata": {}
  },
  {
   "cell_type": "markdown",
   "source": [
    "## 1. Dice rolls"
   ],
   "metadata": {}
  },
  {
   "cell_type": "code",
   "execution_count": null,
   "source": [
    "import random as rnd\r\n",
    "\r\n",
    "dice_rolls = \"files/dice_rolls.txt\"\r\n",
    "rolledDices = [rnd.randint(1, 6) for _ in range(20)]\r\n",
    "numberOfFours = 0\r\n",
    "\r\n",
    "\r\n",
    "with open(dice_rolls, \"w\") as dice1, open(dice_rolls, \"r\") as dice2:\r\n",
    "    dice1.write(f\"Dice rolls:\\n{rolledDices}\\n\\n\")\r\n",
    "    rolledDices.sort()\r\n",
    "    dice1.write(f\"Sorted dice rolls:\\n{rolledDices}\\n\\n\")\r\n",
    "    for i in rolledDices:\r\n",
    "        if i == 4:\r\n",
    "            numberOfFours += 1\r\n",
    "    dice1.write(f\"Number of fours: {numberOfFours}\")"
   ],
   "outputs": [],
   "metadata": {}
  },
  {
   "cell_type": "markdown",
   "source": [
    "## 2. Test Result"
   ],
   "metadata": {}
  },
  {
   "cell_type": "code",
   "execution_count": null,
   "source": [
    "test_results = \"files/test_result.txt\"\r\n",
    "final_results = \"files/final_results.txt\"\r\n",
    "\r\n",
    "with open(test_results, \"r\") as test1, open(final_results, \"w\") as fResults1:\r\n",
    "    results = test1.read()\r\n",
    "    resultList = results.split(\"\\n\")\r\n",
    "    fResults1.write(f\"Results:\\n\")\r\n",
    "    for finalTestResults in resultList:\r\n",
    "        fResults1.write(f\"{finalTestResults}\\n\")\r\n",
    "    print(resultList)\r\n",
    "    fResults1.write(f\"\\n\")\r\n",
    "    resultList.sort()\r\n",
    "    print(resultList)\r\n",
    "    fResults1.write(f\"Alphabetically sorted results:\\n\")\r\n",
    "    for finalTestResults in resultList:\r\n",
    "        fResults1.write(f\"{finalTestResults}\\n\")\r\n",
    "    "
   ],
   "outputs": [],
   "metadata": {}
  },
  {
   "cell_type": "markdown",
   "source": [
    "## 3. National Test"
   ],
   "metadata": {}
  },
  {
   "cell_type": "code",
   "execution_count": 11,
   "source": [
    "import matplotlib.pyplot as plt\r\n",
    "\r\n",
    "NpMa2A = \"files/NPvt19Ma2A.txt\"\r\n",
    "NpMa2C = \"files/NPvt19Ma2C.txt\"\r\n",
    "\r\n",
    "with open(NpMa2A, \"r\") as np2A, open(NpMa2C, \"r\") as np2C:\r\n",
    "    npResults = np2A.read()\r\n",
    "    print(npResults)"
   ],
   "outputs": [
    {
     "output_type": "stream",
     "name": "stdout",
     "text": [
      "A 0.0%\n",
      "B 0.0%\n",
      "C 2.4%\n",
      "D 5.3%\n",
      "E 37.3%\n",
      "F 55.0%\n",
      "\n"
     ]
    }
   ],
   "metadata": {}
  }
 ],
 "metadata": {
  "orig_nbformat": 4,
  "language_info": {
   "name": "python",
   "version": "3.9.6",
   "mimetype": "text/x-python",
   "codemirror_mode": {
    "name": "ipython",
    "version": 3
   },
   "pygments_lexer": "ipython3",
   "nbconvert_exporter": "python",
   "file_extension": ".py"
  },
  "kernelspec": {
   "name": "python3",
   "display_name": "Python 3.9.6 64-bit ('python-programmering-Fabian-Adnersson-7Vjomyem': pipenv)"
  },
  "interpreter": {
   "hash": "f6ced4aceb5dca1d902771a0c4caef10d5e109c6ad3a1438b115d6b0f80a24fd"
  }
 },
 "nbformat": 4,
 "nbformat_minor": 2
}