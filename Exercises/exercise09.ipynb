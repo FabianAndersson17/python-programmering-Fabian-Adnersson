{
 "cells": [
  {
   "cell_type": "markdown",
   "source": [
    "# Dictionaty exercises"
   ],
   "metadata": {}
  },
  {
   "cell_type": "markdown",
   "source": [
    "## 1. Curriculum"
   ],
   "metadata": {}
  },
  {
   "cell_type": "code",
   "execution_count": null,
   "source": [
    "totalScore = 0\r\n",
    "\r\n",
    "courses = dict(\r\n",
    "    ProgrammeringMedPython = 40,\r\n",
    "    IntroTillAI = 5,\r\n",
    "    Databehandling = 25,\r\n",
    "    Visualisering = 20,\r\n",
    "    StatistiskaMetoder = 5,\r\n",
    "    Maskininlärning = 25,\r\n",
    "    DjupMaskininlärning = 40,\r\n",
    "    Databaser = 25,\r\n",
    "    LIA1 = 40,\r\n",
    "    PraktiskMaskininlärning = 35,\r\n",
    "    Projektmetodik = 10,\r\n",
    "    LIA2 = 70,\r\n",
    "    Examensarbete = 15\r\n",
    ")\r\n",
    "\r\n",
    "for score in courses:\r\n",
    "    totalScore = totalScore + courses[score]\r\n",
    "\r\n",
    "print(f\"Totala poängen för programmet är: {totalScore}\")"
   ],
   "outputs": [],
   "metadata": {}
  },
  {
   "cell_type": "markdown",
   "source": [
    "## 2. Dice simulation"
   ],
   "metadata": {}
  },
  {
   "cell_type": "code",
   "execution_count": 2,
   "source": [
    "import random as rnd\r\n",
    "\r\n",
    "#allDices = 0 ## :1: - Made to test how many dice where actually being rolled\r\n",
    "\r\n",
    "numberRoll = {roll: i+1 for i, roll in enumerate(\"123456\")}\r\n",
    "print(numberRoll)\r\n",
    "\r\n",
    "def diceGeneration(numberOfRolls):\r\n",
    "    rnd.seed(1337)\r\n",
    "    totalDice = [rnd.randint(1, 6) for _ in range(numberOfRolls)]\r\n",
    "    return totalDice\r\n",
    "\r\n",
    "totalDice = diceGeneration(1*(10**6))\r\n",
    "\r\n",
    "rolledNumbers = {key: 0 for key in numberRoll}\r\n",
    "\r\n",
    "#for dice in totalDice:\r\n",
    "#    allDices = allDices + 1 #:1:\r\n",
    "\r\n",
    "#print(allDices)  #:1:\r\n",
    "\r\n",
    "for diceNumber in totalDice:\r\n",
    "    for roll, cap in rolledNumbers.items():\r\n",
    "        if cap <= diceNumber < cap + 1*10**6:\r\n",
    "            rolledNumbers[roll] += 1\r\n",
    "\r\n",
    "(f\"Antalet olika tärningskast är {rolledNumbers}\")"
   ],
   "outputs": [
    {
     "output_type": "stream",
     "name": "stdout",
     "text": [
      "{'1': 1, '2': 2, '3': 3, '4': 4, '5': 5, '6': 6}\n",
      "1000000\n"
     ]
    },
    {
     "output_type": "execute_result",
     "data": {
      "text/plain": [
       "\"Antalet olika tärningskast är {'1': 7, '2': 7, '3': 7, '4': 7, '5': 7, '6': 7}\""
      ]
     },
     "metadata": {},
     "execution_count": 2
    }
   ],
   "metadata": {}
  },
  {
   "cell_type": "markdown",
   "source": [
    "## 3. Pokemon list"
   ],
   "metadata": {}
  },
  {
   "cell_type": "code",
   "execution_count": 84,
   "source": [
    "pokemonList = \"files/pokemon_list.txt\"\r\n",
    "\r\n",
    "pokemonInput = input(\"Ange ett namn på en pokemon\")\r\n",
    "\r\n",
    "pokedex = {}\r\n",
    "\r\n",
    "with open(pokemonList, \"r\") as pokelist:\r\n",
    "    for pokedexEntries in pokelist.readlines():\r\n",
    "        index, name, typing = pokedexEntries.split()\r\n",
    "\r\n",
    "        pokedex[name] = typing, index\r\n",
    "\r\n",
    "print(pokedex[pokemonInput])"
   ],
   "outputs": [
    {
     "output_type": "stream",
     "name": "stdout",
     "text": [
      "('Insekt', '11')\n"
     ]
    }
   ],
   "metadata": {}
  }
 ],
 "metadata": {
  "orig_nbformat": 4,
  "language_info": {
   "name": "python",
   "version": "3.9.6",
   "mimetype": "text/x-python",
   "codemirror_mode": {
    "name": "ipython",
    "version": 3
   },
   "pygments_lexer": "ipython3",
   "nbconvert_exporter": "python",
   "file_extension": ".py"
  },
  "kernelspec": {
   "name": "python3",
   "display_name": "Python 3.9.6 64-bit ('python-programmering-Fabian-Adnersson-7Vjomyem': pipenv)"
  },
  "interpreter": {
   "hash": "f6ced4aceb5dca1d902771a0c4caef10d5e109c6ad3a1438b115d6b0f80a24fd"
  }
 },
 "nbformat": 4,
 "nbformat_minor": 2
}