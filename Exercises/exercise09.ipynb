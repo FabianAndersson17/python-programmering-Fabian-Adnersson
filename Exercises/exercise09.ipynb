{
 "cells": [
  {
   "cell_type": "markdown",
   "source": [
    "# Dictionaty exercises"
   ],
   "metadata": {}
  },
  {
   "cell_type": "markdown",
   "source": [
    "## 1. Curriculum"
   ],
   "metadata": {}
  },
  {
   "cell_type": "code",
   "execution_count": null,
   "source": [
    "totalScore = 0\r\n",
    "\r\n",
    "courses = dict(\r\n",
    "    ProgrammeringMedPython = 40,\r\n",
    "    IntroTillAI = 5,\r\n",
    "    Databehandling = 25,\r\n",
    "    Visualisering = 20,\r\n",
    "    StatistiskaMetoder = 5,\r\n",
    "    Maskininlärning = 25,\r\n",
    "    DjupMaskininlärning = 40,\r\n",
    "    Databaser = 25,\r\n",
    "    LIA1 = 40,\r\n",
    "    PraktiskMaskininlärning = 35,\r\n",
    "    Projektmetodik = 10,\r\n",
    "    LIA2 = 70,\r\n",
    "    Examensarbete = 15\r\n",
    ")\r\n",
    "\r\n",
    "for score in courses:\r\n",
    "    totalScore = totalScore + courses[score]\r\n",
    "\r\n",
    "print(f\"Totala poängen för programmet är: {totalScore}\")"
   ],
   "outputs": [],
   "metadata": {}
  },
  {
   "cell_type": "markdown",
   "source": [
    "## 2. Dice simulation"
   ],
   "metadata": {}
  },
  {
   "cell_type": "code",
   "execution_count": 2,
   "source": [
    "import random as rnd\r\n",
    "\r\n",
    "#allDices = 0 ## :1: - Made to test how many dice where actually being rolled\r\n",
    "\r\n",
    "numberRoll = {roll: i+1 for i, roll in enumerate(\"123456\")}\r\n",
    "print(numberRoll)\r\n",
    "\r\n",
    "def diceGeneration(numberOfRolls):\r\n",
    "    rnd.seed(1337)\r\n",
    "    totalDice = [rnd.randint(1, 6) for _ in range(numberOfRolls)]\r\n",
    "    return totalDice\r\n",
    "\r\n",
    "totalDice = diceGeneration(1*(10**6))\r\n",
    "\r\n",
    "rolledNumbers = {key: 0 for key in numberRoll}\r\n",
    "\r\n",
    "#for dice in totalDice:\r\n",
    "#    allDices = allDices + 1 #:1:\r\n",
    "\r\n",
    "#print(allDices)  #:1:\r\n",
    "\r\n",
    "for diceNumber in totalDice:\r\n",
    "    for roll, cap in rolledNumbers.items():\r\n",
    "        if cap <= diceNumber < cap + 1*10**6:\r\n",
    "            rolledNumbers[roll] += 1\r\n",
    "\r\n",
    "(f\"Antalet olika tärningskast är {rolledNumbers}\")"
   ],
   "outputs": [
    {
     "output_type": "stream",
     "name": "stdout",
     "text": [
      "{'1': 1, '2': 2, '3': 3, '4': 4, '5': 5, '6': 6}\n",
      "1000000\n"
     ]
    },
    {
     "output_type": "execute_result",
     "data": {
      "text/plain": [
       "\"Antalet olika tärningskast är {'1': 7, '2': 7, '3': 7, '4': 7, '5': 7, '6': 7}\""
      ]
     },
     "metadata": {},
     "execution_count": 2
    }
   ],
   "metadata": {}
  },
  {
   "cell_type": "markdown",
   "source": [
    "## 3. Pokemon list"
   ],
   "metadata": {}
  },
  {
   "cell_type": "code",
   "execution_count": 60,
   "source": [
    "pokemonList = \"files/pokemon_list.txt\"\r\n",
    "\r\n",
    "pokedex = {}\r\n",
    "\r\n",
    "with open(pokemonList, \"r\") as pokelist:\r\n",
    "    for pokedexEntries in pokelist.readlines():\r\n",
    "        index, name, typing = pokedexEntries.split()\r\n",
    "\r\n",
    "        pokedex[name] = typing, index\r\n",
    "\r\n",
    "print(pokedex)"
   ],
   "outputs": [
    {
     "output_type": "stream",
     "name": "stdout",
     "text": [
      "{'Bulbasaur': ('GrÃ¤s/Gift', 'ï»¿1'), 'Ivysaur': ('GrÃ¤s/Gift', '2'), 'Venusaur': ('GrÃ¤s/Gift', '3'), 'Charmander': ('Eld', '4'), 'Charmeleon': ('Eld', '5'), 'Charizard': ('Eld/Flygande', '6'), 'Squirtle': ('Vatten', '7'), 'Wartortle': ('Vatten', '8'), 'Blastoise': ('Vatten', '9'), 'Caterpie': ('Insekt', '10'), 'Metapod': ('Insekt', '11'), 'Butterfree': ('Insekt/Flygande', '12'), 'Weedle': ('Insekt/Gift', '13'), 'Kakuna': ('Insekt/Gift', '14'), 'Beedrill': ('Insekt/Gift', '15'), 'Pidgey': ('Normal/Flygande', '16'), 'Pidgeotto': ('Normal/Flygande', '17'), 'Pidgeot': ('Normal/Flygande', '18'), 'Rattata': ('Normal', '19'), 'Raticate': ('Normal', '20'), 'Spearow': ('Normal/Flygande', '21'), 'Fearow': ('Normal/Flygande', '22'), 'Ekans': ('Gift', '23'), 'Arbok': ('Gift', '24'), 'Pikachu': ('Elektrisk', '25'), 'Raichu': ('Elektrisk', '26'), 'Sandshrew': ('Mark', '27'), 'Sandslash': ('Mark', '28'), 'Nidoranâ™€': ('Gift', '29'), 'Nidorina': ('Gift', '30'), 'Nidoqueen': ('Gift/Mark', '31'), 'Nidoranâ™‚': ('Gift', '32'), 'Nidorino': ('Gift', '33'), 'Nidoking': ('Gift/Mark', '34'), 'Clefairy': ('FÃ©', '35'), 'Clefable': ('FÃ©', '36'), 'Vulpix': ('Eld', '37'), 'Ninetales': ('Eld', '38'), 'Jigglypuff': ('Normal/FÃ©', '39'), 'Wigglytuff': ('Normal/FÃ©', '40'), 'Zubat': ('Gift/Flygande', '41'), 'Golbat': ('Gift/Flygande', '42'), 'Oddish': ('GrÃ¤s/Gift', '43'), 'Gloom': ('GrÃ¤s/Gift', '44'), 'Vileplume': ('GrÃ¤s/Gift', '45'), 'Paras': ('Insekt/GrÃ¤s', '46'), 'Parasect': ('Insekt/GrÃ¤s', '47'), 'Venonat': ('Insekt/Gift', '48'), 'Venomoth': ('Insekt/Gift', '49'), 'Diglett': ('Mark', '50'), 'Dugtrio': ('Mark', '51'), 'Meowth': ('Normal', '52'), 'Persian': ('Normal', '53'), 'Psyduck': ('Vatten', '54'), 'Golduck': ('Vatten', '55'), 'Mankey': ('Kamp', '56'), 'Primeape': ('Kamp', '57'), 'Growlithe': ('Eld', '58'), 'Arcanine': ('Eld', '59'), 'Poliwag': ('Vatten', '60'), 'Poliwhirl': ('Vatten', '61'), 'Poliwrath': ('Vatten/Kamp', '62'), 'Abra': ('Psykisk', '63'), 'Kadabra': ('Psykisk', '64'), 'Alakazam': ('Psykisk', '65'), 'Machop': ('Kamp', '66'), 'Machoke': ('Kamp', '67'), 'Machamp': ('Kamp', '68'), 'Bellsprout': ('GrÃ¤s/Gift', '69'), 'Weepinbell': ('GrÃ¤s/Gift', '70'), 'Victreebel': ('GrÃ¤s/Gift', '71'), 'Tentacool': ('Vatten/Gift', '72'), 'Tentacruel': ('Vatten/Gift', '73'), 'Geodude': ('Sten/Mark', '74'), 'Graveler': ('Sten/Mark', '75'), 'Golem': ('Sten/Mark', '76'), 'Ponyta': ('Eld', '77'), 'Rapidash': ('Eld', '78'), 'Slowpoke': ('Vatten/Psykisk', '79'), 'Slowbro': ('Vatten/Psykisk', '80'), 'Magnemite': ('Elektrisk/StÃ¥l', '81'), 'Magneton': ('Elektrisk/StÃ¥l', '82'), \"Farfetch'd\": ('Normal/Flygande', '83'), 'Doduo': ('Normal/Flygande', '84'), 'Dodrio': ('Normal/Flygande', '85'), 'Seel': ('Vatten', '86'), 'Dewgong': ('Vatten/Is', '87'), 'Grimer': ('Gift', '88'), 'Muk': ('Gift', '89'), 'Shellder': ('Vatten', '90'), 'Cloyster': ('Vatten/Is', '91'), 'Gastly': ('SpÃ¶ke/Gift', '92'), 'Haunter': ('SpÃ¶ke/Gift', '93'), 'Gengar': ('SpÃ¶ke/Gift', '94'), 'Onix': ('Sten/Mark', '95'), 'Drowzee': ('Psykisk', '96'), 'Hypno': ('Psykisk', '97'), 'Krabby': ('Vatten', '98'), 'Kingler': ('Vatten', '99'), 'Voltorb': ('Elektrisk', '100'), 'Electrode': ('Elektrisk', '101'), 'Exeggcute': ('GrÃ¤s/Psykisk', '102'), 'Exeggutor': ('GrÃ¤s/Psykisk', '103'), 'Cubone': ('Mark', '104'), 'Marowak': ('Mark', '105'), 'Hitmonlee': ('Kamp', '106'), 'Hitmonchan': ('Kamp', '107'), 'Lickitung': ('Normal', '108'), 'Koffing': ('Gift', '109'), 'Weezing': ('Gift', '110'), 'Rhyhorn': ('Mark/Sten', '111'), 'Rhydon': ('Mark/Sten', '112'), 'Chansey': ('Normal', '113'), 'Tangela': ('GrÃ¤s', '114'), 'Kangaskhan': ('Normal', '115'), 'Horsea': ('Vatten', '116'), 'Seadra': ('Vatten', '117'), 'Goldeen': ('Vatten', '118'), 'Seaking': ('Vatten', '119'), 'Staryu': ('Vatten', '120'), 'Starmie': ('Vatten/Psykisk', '121'), 'Mr.': ('122', '122'), 'Scyther': ('Insekt/Flygande', '123'), 'Jynx': ('Is/Psykisk', '124'), 'Electabuzz': ('Elektrisk', '125'), 'Magmar': ('Eld', '126'), 'Pinsir': ('Insekt', '127'), 'Tauros': ('Normal', '128'), 'Magikarp': ('Vatten', '129'), 'Gyarados': ('Vatten/Flygande', '130'), 'Lapras': ('Vatten/Is', '131'), 'Ditto': ('Normal', '132'), 'Eevee': ('Normal', '133'), 'Vaporeon': ('Vatten', '134'), 'Jolteon': ('Elektrisk', '135'), 'Flareon': ('Eld', '136'), 'Porygon': ('Normal', '137'), 'Omanyte': ('Sten/Vatten', '138'), 'Omastar': ('Sten/Vatten', '139'), 'Kabuto': ('Sten/Vatten', '140'), 'Kabutops': ('Sten/Vatten', '141'), 'Aerodactyl': ('Sten/Flygande', '142'), 'Snorlax': ('Normal', '143'), 'Articuno': ('Is/Flygande', '144'), 'Zapdos': ('Elektrisk/Flygande', '145'), 'Moltres': ('Eld/Flygande', '146'), 'Dratini': ('Drake', '147'), 'Dragonair': ('Drake', '148'), 'Dragonite': ('Drake/Flygande', '149'), 'Mewtwo': ('Psykisk', '150')}\n"
     ]
    }
   ],
   "metadata": {}
  }
 ],
 "metadata": {
  "orig_nbformat": 4,
  "language_info": {
   "name": "python",
   "version": "3.9.6",
   "mimetype": "text/x-python",
   "codemirror_mode": {
    "name": "ipython",
    "version": 3
   },
   "pygments_lexer": "ipython3",
   "nbconvert_exporter": "python",
   "file_extension": ".py"
  },
  "kernelspec": {
   "name": "python3",
   "display_name": "Python 3.9.6 64-bit ('python-programmering-Fabian-Adnersson-7Vjomyem': pipenv)"
  },
  "interpreter": {
   "hash": "f6ced4aceb5dca1d902771a0c4caef10d5e109c6ad3a1438b115d6b0f80a24fd"
  }
 },
 "nbformat": 4,
 "nbformat_minor": 2
}