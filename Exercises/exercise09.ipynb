{
 "cells": [
  {
   "cell_type": "markdown",
   "source": [
    "# Dictionaty exercises"
   ],
   "metadata": {}
  },
  {
   "cell_type": "markdown",
   "source": [
    "## 1. Curriculum"
   ],
   "metadata": {}
  },
  {
   "cell_type": "code",
   "execution_count": null,
   "source": [
    "totalScore = 0\r\n",
    "\r\n",
    "courses = dict(\r\n",
    "    ProgrammeringMedPython = 40,\r\n",
    "    IntroTillAI = 5,\r\n",
    "    Databehandling = 25,\r\n",
    "    Visualisering = 20,\r\n",
    "    StatistiskaMetoder = 5,\r\n",
    "    Maskininlärning = 25,\r\n",
    "    DjupMaskininlärning = 40,\r\n",
    "    Databaser = 25,\r\n",
    "    LIA1 = 40,\r\n",
    "    PraktiskMaskininlärning = 35,\r\n",
    "    Projektmetodik = 10,\r\n",
    "    LIA2 = 70,\r\n",
    "    Examensarbete = 15\r\n",
    ")\r\n",
    "\r\n",
    "for score in courses:\r\n",
    "    totalScore = totalScore + courses[score]\r\n",
    "\r\n",
    "print(f\"Totala poängen för programmet är: {totalScore}\")"
   ],
   "outputs": [],
   "metadata": {}
  },
  {
   "cell_type": "markdown",
   "source": [
    "## 2. Dice simulation"
   ],
   "metadata": {}
  },
  {
   "cell_type": "code",
   "execution_count": 18,
   "source": [
    "import random as rnd\r\n",
    "\r\n",
    "numberRoll = {roll: i*1 for i, roll in enumerate(\"0123456\")}\r\n",
    "\r\n",
    "print(numberRoll)\r\n",
    "\r\n",
    "def diceGeneration(numberOfRolls):\r\n",
    "    totalDice = [rnd.randint(1, 6) for _ in range(numberOfRolls)]\r\n",
    "    return totalDice\r\n",
    "\r\n",
    "totalDice = diceGeneration(1*10**6)\r\n",
    "\r\n",
    "for i in totalDice:\r\n",
    "    for numberRoll, limit in totalDice:\r\n",
    "        print(\"hej\")"
   ],
   "outputs": [
    {
     "output_type": "stream",
     "name": "stdout",
     "text": [
      "{'0': 0, '1': 1, '2': 2, '3': 3, '4': 4, '5': 5, '6': 6}\n"
     ]
    },
    {
     "output_type": "error",
     "ename": "TypeError",
     "evalue": "cannot unpack non-iterable int object",
     "traceback": [
      "\u001b[1;31m---------------------------------------------------------------------------\u001b[0m",
      "\u001b[1;31mTypeError\u001b[0m                                 Traceback (most recent call last)",
      "\u001b[1;32mC:\\Users\\FABIAN~1\\AppData\\Local\\Temp/ipykernel_4172/3955498634.py\u001b[0m in \u001b[0;36m<module>\u001b[1;34m\u001b[0m\n\u001b[0;32m     12\u001b[0m \u001b[1;33m\u001b[0m\u001b[0m\n\u001b[0;32m     13\u001b[0m \u001b[1;32mfor\u001b[0m \u001b[0mi\u001b[0m \u001b[1;32min\u001b[0m \u001b[0mtotalDice\u001b[0m\u001b[1;33m:\u001b[0m\u001b[1;33m\u001b[0m\u001b[1;33m\u001b[0m\u001b[0m\n\u001b[1;32m---> 14\u001b[1;33m     \u001b[1;32mfor\u001b[0m \u001b[0mnumberRoll\u001b[0m\u001b[1;33m,\u001b[0m \u001b[0mlimit\u001b[0m \u001b[1;32min\u001b[0m \u001b[0mtotalDice\u001b[0m\u001b[1;33m:\u001b[0m\u001b[1;33m\u001b[0m\u001b[1;33m\u001b[0m\u001b[0m\n\u001b[0m\u001b[0;32m     15\u001b[0m         \u001b[0mprint\u001b[0m\u001b[1;33m(\u001b[0m\u001b[1;34m\"hej\"\u001b[0m\u001b[1;33m)\u001b[0m\u001b[1;33m\u001b[0m\u001b[1;33m\u001b[0m\u001b[0m\n",
      "\u001b[1;31mTypeError\u001b[0m: cannot unpack non-iterable int object"
     ]
    }
   ],
   "metadata": {}
  }
 ],
 "metadata": {
  "orig_nbformat": 4,
  "language_info": {
   "name": "python",
   "version": "3.9.6",
   "mimetype": "text/x-python",
   "codemirror_mode": {
    "name": "ipython",
    "version": 3
   },
   "pygments_lexer": "ipython3",
   "nbconvert_exporter": "python",
   "file_extension": ".py"
  },
  "kernelspec": {
   "name": "python3",
   "display_name": "Python 3.9.6 64-bit ('python-programmering-Fabian-Adnersson-7Vjomyem': pipenv)"
  },
  "interpreter": {
   "hash": "f6ced4aceb5dca1d902771a0c4caef10d5e109c6ad3a1438b115d6b0f80a24fd"
  }
 },
 "nbformat": 4,
 "nbformat_minor": 2
}