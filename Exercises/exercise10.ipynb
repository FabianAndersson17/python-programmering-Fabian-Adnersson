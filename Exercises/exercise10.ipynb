{
 "cells": [
  {
   "cell_type": "markdown",
   "source": [
    "# OOP Introductary Exercises"
   ],
   "metadata": {}
  },
  {
   "cell_type": "markdown",
   "source": [
    "## 1. Unit conversion"
   ],
   "metadata": {}
  },
  {
   "cell_type": "code",
   "execution_count": 1,
   "source": [
    "class UnitConverter:\r\n",
    "    def __init__(self, value: float) -> None:\r\n",
    "        self.value = value\r\n",
    "\r\n",
    "    @property\r\n",
    "    def value(self) -> float:\r\n",
    "        print(\"value getter is running\")"
   ],
   "outputs": [],
   "metadata": {}
  }
 ],
 "metadata": {
  "orig_nbformat": 4,
  "language_info": {
   "name": "python",
   "version": "3.9.6",
   "mimetype": "text/x-python",
   "codemirror_mode": {
    "name": "ipython",
    "version": 3
   },
   "pygments_lexer": "ipython3",
   "nbconvert_exporter": "python",
   "file_extension": ".py"
  },
  "kernelspec": {
   "name": "python3",
   "display_name": "Python 3.9.6 64-bit ('python-programmering-Fabian-Adnersson-7Vjomyem': pipenv)"
  },
  "interpreter": {
   "hash": "f6ced4aceb5dca1d902771a0c4caef10d5e109c6ad3a1438b115d6b0f80a24fd"
  }
 },
 "nbformat": 4,
 "nbformat_minor": 2
}