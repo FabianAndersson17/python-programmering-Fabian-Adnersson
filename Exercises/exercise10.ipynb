{
 "cells": [
  {
   "cell_type": "markdown",
   "source": [
    "# OOP Introductary Exercises"
   ],
   "metadata": {}
  },
  {
   "cell_type": "markdown",
   "source": [
    "## 1. Unit conversion"
   ],
   "metadata": {}
  },
  {
   "cell_type": "code",
   "execution_count": 74,
   "source": [
    "class UnitConverter:\r\n",
    "    def __init__(self, value: float) -> None:\r\n",
    "        self.value = value\r\n",
    "\r\n",
    "    @property\r\n",
    "    def value(self) -> float:\r\n",
    "        print(\"value getter is running...\")\r\n",
    "        return self._value\r\n",
    "    \r\n",
    "    @value.setter\r\n",
    "    def value(self, value: float) -> None:\r\n",
    "        print(\"value setter is running...\")\r\n",
    "        if not isinstance(value, (int, float)):\r\n",
    "            raise TypeError(f\"Value must be int or float not {type(value)}\")\r\n",
    "\r\n",
    "        if value < 0:\r\n",
    "            raise ValueError(f\"Value must be a positiv number not {value}\")\r\n",
    "\r\n",
    "        self._value = value\r\n",
    "\r\n",
    "    def pound_to_kg(self, value: float):\r\n",
    "        if not isinstance(value, (int, float)):\r\n",
    "            raise TypeError(f\"Value must be int or float not {type(value)}\")\r\n",
    "\r\n",
    "        if value < 0:\r\n",
    "            raise ValueError(f\"Value must be a positiv number not {value}\")\r\n",
    "\r\n",
    "        return value/2.2046\r\n",
    "\r\n",
    "    def inch_to_cm(self, value):\r\n",
    "        if not isinstance(value, (int, float)):\r\n",
    "            raise TypeError(f\"Value must be int or float not {type(value)}\")\r\n",
    "\r\n",
    "        if value < 0:\r\n",
    "            raise ValueError(f\"Value must be a positiv number not {value}\")\r\n",
    "\r\n",
    "        return value/0.39370\r\n",
    "    \r\n",
    "    def foot_to_meter(self, value):\r\n",
    "        if not isinstance(value, (int, float)):\r\n",
    "            raise TypeError(f\"Value must be int or float not {type(value)}\")\r\n",
    "\r\n",
    "        if value < 0:\r\n",
    "            raise ValueError(f\"Value must be a positiv number not {value}\")\r\n",
    "\r\n",
    "        return value/3.2808\r\n",
    "\r\n",
    "    def __repr__(self) -> str:\r\n",
    "        return \"Unitconverter for converting from US system to metric system\"\r\n",
    "\r\n",
    "\r\n",
    "unitconverter1 = UnitConverter(5)\r\n",
    "\r\n",
    "\"\"\"try:\r\n",
    "    unitconverter1.value = \"5\"\r\n",
    "except TypeError as err:\r\n",
    "    print(err)\r\n",
    "\r\n",
    "try:\r\n",
    "    unitconverter1.value = -5\r\n",
    "except ValueError as err:\r\n",
    "    print(err)\"\"\"\r\n",
    "\r\n",
    "print(f\"5 pounds in kg is: {unitconverter1.pound_to_kg(5):.2f}\")\r\n",
    "print(f\"5 inches in cm is: {unitconverter1.inch_to_cm(5):.2f}\")\r\n",
    "print(f\"5 foot in m is: {unitconverter1.foot_to_meter(5):.2f}\")\r\n",
    "\r\n",
    "print(unitconverter1)"
   ],
   "outputs": [
    {
     "output_type": "stream",
     "name": "stdout",
     "text": [
      "value setter is running...\n",
      "5 pounds in kg is: 2.27\n",
      "5 inches in cm is: 12.70\n",
      "5 foot in m is: 1.52\n",
      "Unitconverter for converting from US system to metric system\n"
     ]
    }
   ],
   "metadata": {}
  },
  {
   "cell_type": "markdown",
   "source": [
    "## 2. Person"
   ],
   "metadata": {}
  },
  {
   "cell_type": "code",
   "execution_count": null,
   "source": [],
   "outputs": [],
   "metadata": {}
  }
 ],
 "metadata": {
  "orig_nbformat": 4,
  "language_info": {
   "name": "python",
   "version": "3.9.6",
   "mimetype": "text/x-python",
   "codemirror_mode": {
    "name": "ipython",
    "version": 3
   },
   "pygments_lexer": "ipython3",
   "nbconvert_exporter": "python",
   "file_extension": ".py"
  },
  "kernelspec": {
   "name": "python3",
   "display_name": "Python 3.9.6 64-bit ('python-programmering-Fabian-Adnersson-7Vjomyem': pipenv)"
  },
  "interpreter": {
   "hash": "f6ced4aceb5dca1d902771a0c4caef10d5e109c6ad3a1438b115d6b0f80a24fd"
  }
 },
 "nbformat": 4,
 "nbformat_minor": 2
}