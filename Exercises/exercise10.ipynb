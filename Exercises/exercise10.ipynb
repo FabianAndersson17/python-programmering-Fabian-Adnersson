{
 "cells": [
  {
   "cell_type": "markdown",
   "source": [
    "# OOP Introductary Exercises"
   ],
   "metadata": {}
  },
  {
   "cell_type": "markdown",
   "source": [
    "## 1. Unit conversion"
   ],
   "metadata": {}
  },
  {
   "cell_type": "code",
   "execution_count": null,
   "source": [
    "class UnitConverter:\r\n",
    "    def __init__(self, value: float) -> None:\r\n",
    "        self.value = value\r\n",
    "\r\n",
    "    @property\r\n",
    "    def value(self) -> float:\r\n",
    "        print(\"value getter is running...\")\r\n",
    "        return self._value\r\n",
    "    \r\n",
    "    @value.setter\r\n",
    "    def value(self, value: float) -> None:\r\n",
    "        print(\"value setter is running...\")\r\n",
    "        if not isinstance(value, (int, float)):\r\n",
    "            raise TypeError(f\"Value must be int or float not {type(value)}\")\r\n",
    "\r\n",
    "        if value < 0:\r\n",
    "            raise ValueError(f\"Value must be a positiv number not {value}\")\r\n",
    "\r\n",
    "        self._value = value\r\n",
    "\r\n",
    "    def pound_to_kg(self, value: float):\r\n",
    "        if not isinstance(value, (int, float)):\r\n",
    "            raise TypeError(f\"Value must be int or float not {type(value)}\")\r\n",
    "\r\n",
    "        if value < 0:\r\n",
    "            raise ValueError(f\"Value must be a positiv number not {value}\")\r\n",
    "\r\n",
    "        return value/2.2046\r\n",
    "\r\n",
    "    def inch_to_cm(self, value):\r\n",
    "        if not isinstance(value, (int, float)):\r\n",
    "            raise TypeError(f\"Value must be int or float not {type(value)}\")\r\n",
    "\r\n",
    "        if value < 0:\r\n",
    "            raise ValueError(f\"Value must be a positiv number not {value}\")\r\n",
    "\r\n",
    "        return value/0.39370\r\n",
    "    \r\n",
    "    def foot_to_meter(self, value):\r\n",
    "        if not isinstance(value, (int, float)):\r\n",
    "            raise TypeError(f\"Value must be int or float not {type(value)}\")\r\n",
    "\r\n",
    "        if value < 0:\r\n",
    "            raise ValueError(f\"Value must be a positiv number not {value}\")\r\n",
    "\r\n",
    "        return value/3.2808\r\n",
    "\r\n",
    "    def __repr__(self) -> str:\r\n",
    "        return \"Unitconverter for converting from US system to metric system\"\r\n",
    "\r\n",
    "\r\n",
    "unitconverter1 = UnitConverter(5)\r\n",
    "\r\n",
    "\"\"\"try:\r\n",
    "    unitconverter1.value = \"5\"\r\n",
    "except TypeError as err:\r\n",
    "    print(err)\r\n",
    "\r\n",
    "try:\r\n",
    "    unitconverter1.value = -5\r\n",
    "except ValueError as err:\r\n",
    "    print(err)\"\"\"\r\n",
    "\r\n",
    "print(f\"5 pounds in kg is: {unitconverter1.pound_to_kg(5):.2f}\")\r\n",
    "print(f\"5 inches in cm is: {unitconverter1.inch_to_cm(5):.2f}\")\r\n",
    "print(f\"5 foot in m is: {unitconverter1.foot_to_meter(5):.2f}\")\r\n",
    "\r\n",
    "print(unitconverter1)"
   ],
   "outputs": [],
   "metadata": {}
  },
  {
   "cell_type": "markdown",
   "source": [
    "## 2. Person"
   ],
   "metadata": {}
  },
  {
   "cell_type": "code",
   "execution_count": 247,
   "source": [
    "import re\r\n",
    "\r\n",
    "class Person:\r\n",
    "    def __init__(self, name, age, email) -> None:\r\n",
    "        self.name = name\r\n",
    "        self.age = age\r\n",
    "        self.email = email\r\n",
    "\r\n",
    "    @property\r\n",
    "    def name(self):\r\n",
    "        ##print(\"name getter is running...\")\r\n",
    "        return self._name\r\n",
    "\r\n",
    "    @name.setter\r\n",
    "    def name(self, namestring):\r\n",
    "        if not isinstance(namestring, str):\r\n",
    "            raise TypeError(f\"Name must be a string not a {type(namestring)}\")\r\n",
    "        \r\n",
    "        self._name = namestring\r\n",
    "\r\n",
    "    @property\r\n",
    "    def age(self):\r\n",
    "        ##print(\"name getter is running...\")\r\n",
    "        return self._age\r\n",
    "\r\n",
    "    @age.setter\r\n",
    "    def age(self, value):\r\n",
    "        if not isinstance(value, (float, int)):\r\n",
    "            raise TypeError (f\"Age must be an int or a float not {type(value)}\")\r\n",
    "        if not (0 <= value <= 125):\r\n",
    "            raise ValueError (f\"Age must be between 0 and 125 not {value}\")\r\n",
    "\r\n",
    "        self._age = value\r\n",
    "\r\n",
    "    @property\r\n",
    "    def email(self):\r\n",
    "        return self._email\r\n",
    "\r\n",
    "    @email.setter\r\n",
    "    def email(self, emailstring):\r\n",
    "        if not re.findall(\"@\", emailstring):\r\n",
    "            raise ValueError (f\"Email must containe a @\")\r\n",
    "        \r\n",
    "        self._email = emailstring\r\n",
    "\r\n",
    "    def __repr__(self) -> str:\r\n",
    "        return f\"Name: {self.name}, age: {self.age}, email: {self.email}\"\r\n",
    "\r\n",
    "    def say_hello(self):\r\n",
    "        print(f\"Hi, my name is {self.name}, i am {self.age} years old, my email adress is {self.email}\")\r\n",
    "\r\n",
    "\r\n",
    "person1 = Person(\"Fabian\", 19, \"fabian.mail@epost.se\")\r\n",
    "\r\n",
    "print(person1)\r\n",
    "print(person1.say_hello())\r\n",
    "\r\n",
    "try:\r\n",
    "    person2 = Person(\"Fabian\", 19, \"fabian.emialepost.se\")\r\n",
    "except ValueError as err:\r\n",
    "    print(err)"
   ],
   "outputs": [
    {
     "output_type": "stream",
     "name": "stdout",
     "text": [
      "Name: Fabian, age: 19, email: fabian.mail@epost.se\n",
      "Hi, my name is Fabian, i am 19 years old, my email adress is fabian.mail@epost.se\n",
      "None\n",
      "Email must containe a @\n",
      "Name: Stina, age: 25, email: stina.klasson@email.com\n",
      "Yo, yo i am Stina and a 25 year old Student. My email adress is stina.klasson@email.com\n",
      "None\n",
      "Name: Bertil, age: 56, email: bertil.Hekmek@epost.se\n"
     ]
    }
   ],
   "metadata": {}
  },
  {
   "cell_type": "markdown",
   "source": [
    "## 3. Student and Teacher"
   ],
   "metadata": {}
  },
  {
   "cell_type": "code",
   "execution_count": 255,
   "source": [
    "class Student(Person): ## The Student class inheritce from the person class\r\n",
    "    def __init__(self, name, age, email) -> None:\r\n",
    "        super().__init__(name, age, email)\r\n",
    "    \r\n",
    "    def study(self): ## Returns string \r\n",
    "        print (\"'Study nosies', 'Study nosies',... , more 'Study nosies'\")\r\n",
    "\r\n",
    "    def say_hello(self): ## Overrides the say_hello method\r\n",
    "        print(f\"Yo, yo i am {self.name} and a {self.age} year old Student. My email adress is {self.email}\")\r\n",
    "\r\n",
    "class Teacher(Person):\r\n",
    "    def __init__(self, name, age, email) -> None:\r\n",
    "        super().__init__(name, age, email)\r\n",
    "\r\n",
    "    def teach(self):\r\n",
    "        print (f\"Teach, Teach, ..., More teaching\")\r\n",
    "\r\n",
    "s1 = Student(\"Stina\", 25, \"stina.klasson@email.com\")\r\n",
    "t1 = Teacher(\"Bertil\", 56, \"bertil.Hekmek@epost.se\")\r\n",
    "\r\n",
    "for person in (s1, t1):\r\n",
    "    person.say_hello()\r\n",
    "\r\n",
    "print(s1.study())\r\n",
    "print(t1.teach())\r\n"
   ],
   "outputs": [
    {
     "output_type": "stream",
     "name": "stdout",
     "text": [
      "Yo, yo i am Stina and a 25 year old Student. My email adress is stina.klasson@email.com\n",
      "Hi, my name is Bertil, i am 56 years old, my email adress is bertil.Hekmek@epost.se\n",
      "'Study nosies', 'Study nosies',... , more 'Study nosies'\n",
      "None\n",
      "Teach, Teach, ..., More teaching\n",
      "None\n"
     ]
    }
   ],
   "metadata": {}
  }
 ],
 "metadata": {
  "orig_nbformat": 4,
  "language_info": {
   "name": "python",
   "version": "3.9.6",
   "mimetype": "text/x-python",
   "codemirror_mode": {
    "name": "ipython",
    "version": 3
   },
   "pygments_lexer": "ipython3",
   "nbconvert_exporter": "python",
   "file_extension": ".py"
  },
  "kernelspec": {
   "name": "python3",
   "display_name": "Python 3.9.6 64-bit ('python-programmering-Fabian-Adnersson-7Vjomyem': pipenv)"
  },
  "interpreter": {
   "hash": "f6ced4aceb5dca1d902771a0c4caef10d5e109c6ad3a1438b115d6b0f80a24fd"
  }
 },
 "nbformat": 4,
 "nbformat_minor": 2
}