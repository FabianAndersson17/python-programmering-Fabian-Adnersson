{
 "cells": [
  {
   "cell_type": "markdown",
   "source": [
    "# OOP Exercises - inheritance and polymorphism"
   ],
   "metadata": {}
  },
  {
   "cell_type": "markdown",
   "source": [
    "## 1. Video"
   ],
   "metadata": {}
  },
  {
   "cell_type": "code",
   "execution_count": 12,
   "source": [
    "class Video():\r\n",
    "    def __init__(self, title: str, genre: str, rating: float) -> None:\r\n",
    "        self.title = title\r\n",
    "        self.genre = genre\r\n",
    "        self.rating = rating\r\n",
    "\r\n",
    "    def info(self):\r\n",
    "        print(f\"Video with title {self.title} in the genre {self.genre} with rating {self.rating}\")\r\n",
    "\r\n",
    "class Tv_serie(Video):\r\n",
    "    def __init__(self, title: str, genre: str, rating: float, episodes: int) -> None:\r\n",
    "        super().__init__(title, genre, rating)\r\n",
    "\r\n",
    "        self.episodes = episodes\r\n",
    "\r\n",
    "    def info(self):\r\n",
    "        print(f\"TV series with the title {self.title} is part of the genre: {self.genre} and had a rating of {self.rating} and total number of episodes was {self.episodes}\")\r\n",
    "\r\n",
    "class Movie(Video):\r\n",
    "    def __init__(self, title: str, genre: str, rating: float, length: float) -> None:\r\n",
    "        super().__init__(title, genre, rating)\r\n",
    "\r\n",
    "        self.lenght = length\r\n",
    "\r\n",
    "    def info(self):\r\n",
    "        print(f\"Movie with title {self.title} is part of the genre: {self.genre} and had a rating of {self.rating} and had a lenght: {self.lenght}\")\r\n",
    "\r\n",
    "class Documentary(Video):\r\n",
    "    def __init__(self, title: str, genre: str, rating: float) -> None:\r\n",
    "        super().__init__(title, genre, rating)\r\n",
    "\r\n",
    "pokemon = Tv_serie(\"Pokemon\", \"Cartoon\", 7.0, 1158)\r\n",
    "starwars = Movie(\"The Empire Strikes Back\", \"Sci-Fi\", 8.7, 124)\r\n",
    "code = Documentary(\"The Code\", \"Math\", 4)\r\n",
    "\r\n",
    "for video in tuple((pokemon, starwars, code)):\r\n",
    "    print(video.info())"
   ],
   "outputs": [
    {
     "output_type": "stream",
     "name": "stdout",
     "text": [
      "TV series with the title Pokemon is part of the genre: Cartoon and had a rating of 7.0 and total number of episodes was 1158\n",
      "None\n",
      "Movie with title The Empire Strikes Back is part of the genre: Sci-Fi and had a rating of 8.7 and had a lenght: 124\n",
      "None\n",
      "Video with title The Code in the genre Math with rating 4\n",
      "None\n"
     ]
    }
   ],
   "metadata": {}
  },
  {
   "cell_type": "markdown",
   "source": [
    "## 2. Fraction"
   ],
   "metadata": {}
  },
  {
   "cell_type": "code",
   "execution_count": null,
   "source": [
    "class Frac:\r\n",
    "    def __init__(self, nominator, denominator) -> None:\r\n",
    "        self.nominator = nominator\r\n",
    "        self.denominator = denominator"
   ],
   "outputs": [],
   "metadata": {}
  }
 ],
 "metadata": {
  "orig_nbformat": 4,
  "language_info": {
   "name": "python",
   "version": "3.9.6",
   "mimetype": "text/x-python",
   "codemirror_mode": {
    "name": "ipython",
    "version": 3
   },
   "pygments_lexer": "ipython3",
   "nbconvert_exporter": "python",
   "file_extension": ".py"
  },
  "kernelspec": {
   "name": "python3",
   "display_name": "Python 3.9.6 64-bit ('python-programmering-Fabian-Adnersson-7Vjomyem': pipenv)"
  },
  "interpreter": {
   "hash": "f6ced4aceb5dca1d902771a0c4caef10d5e109c6ad3a1438b115d6b0f80a24fd"
  }
 },
 "nbformat": 4,
 "nbformat_minor": 2
}