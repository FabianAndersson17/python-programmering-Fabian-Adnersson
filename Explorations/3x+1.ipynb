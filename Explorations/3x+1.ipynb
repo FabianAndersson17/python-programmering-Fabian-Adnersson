{
 "cells": [
  {
   "cell_type": "markdown",
   "source": [
    "## Test run and prove end with 4, 2, 1 loop"
   ],
   "metadata": {}
  },
  {
   "cell_type": "code",
   "execution_count": null,
   "source": [
    "import random as rnd\r\n",
    "\r\n",
    "loopNumber = 0\r\n",
    "numberList = []\r\n",
    "upperLimit = 10**12\r\n",
    "\r\n",
    "\r\n",
    "while True:\r\n",
    "    number = rnd.randint(1, upperLimit)\r\n",
    "    print(number)\r\n",
    "    while True:\r\n",
    "        if number % 2 == 0:\r\n",
    "            number = number/2\r\n",
    "        elif number % 2 == 1:\r\n",
    "            number = (number*3)+1\r\n",
    "\r\n",
    "        numberList.append(number)\r\n",
    "        if number == 1:\r\n",
    "            break\r\n",
    "    numberList.sort()\r\n",
    "    loopNumber += 1\r\n",
    "    print(f\"Last three numbers of {loopNumber}: {numberList[2]}, {numberList[1]}, {numberList[0]}\")\r\n",
    "    numberList.clear()\r\n",
    "    if loopNumber == 50000:\r\n",
    "        break\r\n",
    "        \r\n",
    "        \r\n"
   ],
   "outputs": [],
   "metadata": {}
  },
  {
   "cell_type": "markdown",
   "source": [
    "## With user input"
   ],
   "metadata": {}
  },
  {
   "cell_type": "code",
   "execution_count": 8,
   "source": [
    "import matplotlib.pyplot as plt\r\n",
    "\r\n",
    "listIndex = 0\r\n",
    "loopNumber = 1\r\n",
    "iterations = 0\r\n",
    "numberList = []\r\n",
    "\r\n",
    "while True:\r\n",
    "    number = input(\"Ange ett nummer\")\r\n",
    "\r\n",
    "    try:\r\n",
    "        number = float(number)\r\n",
    "        if not number > 0:\r\n",
    "            raise ValueError(\"Numret måste vara över 0\")\r\n",
    "        break\r\n",
    "    except ValueError as err:\r\n",
    "        print(err)\r\n",
    "\r\n",
    "numberList.append(number)\r\n",
    "while True:\r\n",
    "    if number % 2 == 0:\r\n",
    "        number = number/2\r\n",
    "    elif number % 2 == 1:\r\n",
    "        number = (number*3)+1\r\n",
    "    \r\n",
    "    iterations += 1\r\n",
    "\r\n",
    "    numberList.append(number)\r\n",
    "    if number == 1:\r\n",
    "        break \r\n",
    "\r\n",
    "print(numberList)\r\n",
    "for _ in numberList:\r\n",
    "    plt.scatter(loopNumber, numberList[listIndex])\r\n",
    "    plt.plot([loopNumber-1, loopNumber], [numberList[listIndex-1], numberList[listIndex]])\r\n",
    "    listIndex += 1\r\n",
    "    loopNumber += 1\r\n",
    "\r\n",
    "\r\n",
    "\r\n",
    "plt.show()"
   ],
   "outputs": [
    {
     "output_type": "stream",
     "name": "stdout",
     "text": [
      "[22.0, 11.0, 34.0, 17.0, 52.0, 26.0, 13.0, 40.0, 20.0, 10.0, 5.0, 16.0, 8.0, 4.0, 2.0, 1.0]\n"
     ]
    },
    {
     "output_type": "display_data",
     "data": {
      "image/png": "[encoded data removed]",
      "text/plain": [
       "<Figure size 432x288 with 1 Axes>"
      ]
     },
     "metadata": {
      "needs_background": "light"
     }
    }
   ],
   "metadata": {}
  },
  {
   "cell_type": "code",
   "execution_count": 19,
   "source": [
    "import matplotlib.pyplot as plt\r\n",
    "\r\n",
    "startNumber = 10\r\n",
    "startList = []\r\n",
    "number = startNumber\r\n",
    "iterationsList = []\r\n",
    "iterations = 0\r\n",
    "loopNumber = 50\r\n",
    "listIndex = 0\r\n",
    "\r\n",
    "for _ in range(loopNumber):\r\n",
    "    iterations = 0\r\n",
    "    number = startNumber\r\n",
    "    while True:\r\n",
    "        if number % 2 == 0:\r\n",
    "            number = number/2\r\n",
    "        elif number % 2 == 1:\r\n",
    "            number = (number*3)+1\r\n",
    "            \r\n",
    "        iterations += 1\r\n",
    "        if number == 1:\r\n",
    "            break \r\n",
    "\r\n",
    "    iterationsList.append(iterations)\r\n",
    "    startList.append(startNumber)\r\n",
    "    startNumber+=10\r\n",
    "\r\n",
    "print(startList)\r\n",
    "print(iterationsList)\r\n",
    "\r\n",
    "for _ in startList:\r\n",
    "    plt.scatter(startList[listIndex], iterationsList[listIndex])\r\n",
    "    listIndex += 1\r\n",
    "plt.show()"
   ],
   "outputs": [
    {
     "output_type": "stream",
     "name": "stdout",
     "text": [
      "[10, 20, 30, 40, 50, 60, 70, 80, 90, 100, 110, 120, 130, 140, 150, 160, 170, 180, 190, 200, 210, 220, 230, 240, 250, 260, 270, 280, 290, 300, 310, 320, 330, 340, 350, 360, 370, 380, 390, 400, 410, 420, 430, 440, 450, 460, 470, 480, 490, 500]\n",
      "[6, 7, 18, 8, 24, 19, 14, 9, 17, 25, 113, 20, 28, 15, 15, 10, 10, 18, 106, 26, 39, 114, 34, 21, 109, 29, 42, 16, 117, 16, 86, 11, 112, 11, 81, 19, 45, 107, 120, 27, 27, 40, 102, 115, 53, 35, 128, 22, 22, 110]\n"
     ]
    },
    {
     "output_type": "display_data",
     "data": {
      "image/png": "[encoded data removed]",
      "text/plain": [
       "<Figure size 432x288 with 1 Axes>"
      ]
     },
     "metadata": {
      "needs_background": "light"
     }
    }
   ],
   "metadata": {}
  }
 ],
 "metadata": {
  "orig_nbformat": 4,
  "language_info": {
   "name": "python",
   "version": "3.9.6"
  },
  "kernelspec": {
   "name": "python3",
   "display_name": "Python 3.9.6 64-bit ('python-programmering-Fabian-Adnersson-7Vjomyem': pipenv)"
  },
  "interpreter": {
   "hash": "f6ced4aceb5dca1d902771a0c4caef10d5e109c6ad3a1438b115d6b0f80a24fd"
  }
 },
 "nbformat": 4,
 "nbformat_minor": 2
}