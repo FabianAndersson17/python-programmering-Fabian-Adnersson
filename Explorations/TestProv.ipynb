{
 "cells": [
  {
   "cell_type": "markdown",
   "metadata": {},
   "source": [
    "# Test prov"
   ]
  },
  {
   "cell_type": "markdown",
   "metadata": {},
   "source": [
    "## Uppgift 1"
   ]
  },
  {
   "cell_type": "code",
   "execution_count": 1,
   "metadata": {},
   "outputs": [
    {
     "data": {
      "text/plain": [
       "[Text(0.5, 1.0, 'Plot'), Text(0.5, 0, 'x'), Text(0, 0.5, 'y')]"
      ]
     },
     "execution_count": 1,
     "metadata": {},
     "output_type": "execute_result"
    },
    {
     "data": {
      "image/png": "[encoded data removed]",
      "text/plain": [
       "<Figure size 432x288 with 1 Axes>"
      ]
     },
     "metadata": {
      "needs_background": "light"
     },
     "output_type": "display_data"
    }
   ],
   "source": [
    "import matplotlib.pyplot as plt\n",
    "\n",
    "x = list(range(10))\n",
    "y = [i**2 for i in x]\n",
    "fig, ax = plt.figure(), plt.axes()\n",
    "ax.plot(x, y)\n",
    "ax.set(title=\"Plot\", xlabel=\"x\", ylabel=\"y\")"
   ]
  },
  {
   "cell_type": "markdown",
   "metadata": {},
   "source": [
    "## Uppgift 2"
   ]
  },
  {
   "cell_type": "code",
   "execution_count": 10,
   "metadata": {},
   "outputs": [
    {
     "name": "stdout",
     "output_type": "stream",
     "text": [
      "166441 166260 166138 167511 166550 167100\n"
     ]
    }
   ],
   "source": [
    "import random as rng \n",
    "\n",
    "ones = 0 \n",
    "twos = 0  \n",
    "threes = 0 \n",
    "fours = 0 \n",
    "fives = 0 \n",
    "sixes = 0\n",
    "\n",
    "diceRolls = [rng.randint(1, 6) for _ in range(10**6)] \n",
    "\n",
    "for i in diceRolls: \n",
    "\n",
    "    if i == 1: \n",
    "        ones += 1 \n",
    "    if i == 2:\n",
    "        twos += 1 \n",
    "    if i == 3:\n",
    "        threes += 1 \n",
    "    if i == 4:\n",
    "        fours += 1 \n",
    "    if i == 5:\n",
    "        fives += 1 \n",
    "    if i == 6:\n",
    "        sixes += 1 \n",
    "\n",
    "print(ones, twos, threes, fours, fives, sixes)"
   ]
  },
  {
   "cell_type": "markdown",
   "metadata": {},
   "source": [
    "## Uppgift 3"
   ]
  },
  {
   "cell_type": "code",
   "execution_count": 1,
   "metadata": {},
   "outputs": [
    {
     "name": "stdout",
     "output_type": "stream",
     "text": [
      "Volymen är 104.71975511965978\n"
     ]
    }
   ],
   "source": [
    "import math\n",
    "\n",
    "while True: \n",
    "    radie = (input(\"Ange ett tal för radien\"))\n",
    "\n",
    "    try:\n",
    "        radie = float(radie)\n",
    "        if not radie > 0:\n",
    "            raise ValueError(\"Radie måste vara över 0\")\n",
    "        break\n",
    "    except ValueError as err: \n",
    "        print(err)\n",
    "\n",
    "print(f\"Volymen är {(4*math.pi*radie**2)/3}\")"
   ]
  },
  {
   "cell_type": "markdown",
   "metadata": {},
   "source": [
    "## Uppgift 4"
   ]
  },
  {
   "cell_type": "code",
   "execution_count": 15,
   "metadata": {},
   "outputs": [
    {
     "name": "stdout",
     "output_type": "stream",
     "text": [
      "v42\n",
      "Chili sin carna\n",
      "Pannkakor\n",
      "Ã„rtsoppa\n",
      "Kebab\n",
      "Vegetarisk lasagne\n"
     ]
    }
   ],
   "source": [
    "bambaPath = \"bamba.txt\"\n",
    "\n",
    "with open(bambaPath, \"r\") as bamba:\n",
    "    bamba = bamba.read()\n",
    "\n",
    "print(bamba)"
   ]
  },
  {
   "cell_type": "markdown",
   "metadata": {},
   "source": [
    "## Uppgift 6"
   ]
  },
  {
   "cell_type": "code",
   "execution_count": 72,
   "metadata": {},
   "outputs": [
    {
     "name": "stdout",
     "output_type": "stream",
     "text": [
      "Your hand is worth 10\n",
      "Your hand is worth 10\n",
      "You got a 12\n",
      "Your hand is worth 20\n",
      "You stayed\n",
      "and\n",
      "you won great job\n"
     ]
    }
   ],
   "source": [
    "import random as rnd\n",
    "import time\n",
    "\n",
    "carddict = { \n",
    "\t\"A\": 1,\n",
    "\t\"2\": 2,\n",
    "\t\"3\": 3,\n",
    "\t\"4\": 4,\n",
    "\t\"5\": 5,\n",
    "\t\"6\": 6,\n",
    "\t\"7\": 7,\n",
    "\t\"8\": 8,\n",
    "\t\"9\": 9,\n",
    "\t\"10\": 10, \n",
    "\t\"J\" : 10,\n",
    "\t\"D\" : 10,\n",
    "\t\"K\" : 10 \n",
    "}\n",
    "\n",
    "playerHand = 0\n",
    "dealerHand = 0\n",
    "\n",
    "drawnCards = [rnd.randint(1, len(carddict)) for _ in range(2)]\n",
    "dealerCards = [rnd.randint(5, len(carddict)) for _ in range(2)]\n",
    "\n",
    "if drawnCards[0] == 1:\n",
    "\tdrawnCards[0] = 11\n",
    "if drawnCards[0] == 11 or drawnCards[0] == 12 or drawnCards[0] == 13:\n",
    "\tdrawnCards[0] = 10\n",
    "\n",
    "if drawnCards[1] == 1:\n",
    "\tdrawnCards[1] = 11\n",
    "if drawnCards[1] == 11 or drawnCards[1] == 12 or drawnCards[1] == 13:\n",
    "\tdrawnCards[1] = 10\n",
    "\n",
    "if dealerCards[0] == 1:\n",
    "\tdealerCards[0] = 11\n",
    "if dealerCards[0] == 11 or dealerCards[0] == 12 or dealerCards[0] == 13:\n",
    "\tdealerCards[0] = 10\n",
    "\n",
    "if dealerCards[1] == 1:\n",
    "\tdealerCards[1] = 11\n",
    "if dealerCards[1] == 11 or dealerCards[1] == 12 or dealerCards[1] == 13:\n",
    "\tdealerCards[1] = 10\n",
    "\n",
    "playerHand += drawnCards[0] + drawnCards[1]\n",
    "dealerHand += dealerCards[0] + dealerCards[1]\n",
    "\n",
    "while True:\n",
    "\tprint(f\"Your hand is worth {playerHand}\")\n",
    "\tcommand = input(\"Type hit if you want another card or Type stay if you want to stay?\")\n",
    "\tcommand = command.casefold()\n",
    "\t\n",
    "\t\n",
    "\tif command == \"hit\":\n",
    "\t\tdrawnCard = rnd.randint(1, len(carddict))\n",
    "\t\tprint(f\"You got a {drawnCard}\")\n",
    "\t\tif drawnCard == 1 and playerHand + 11 < 21:\n",
    "\t\t\tplayerHand += 11\n",
    "\t\tif drawnCard == 11 or drawnCard == 12 or drawnCard == 13:\n",
    "\t\t\tplayerHand += 10\n",
    "\t\telse:\n",
    "\t\t\tplayerHand += drawnCard\n",
    "\tif command == \"stay\":\n",
    "\t\tprint(f\"You stayed\")\n",
    "\t\tbreak\n",
    "\n",
    "if dealerHand <= 21 and dealerHand > playerHand:\n",
    "\tprint(\"and\")\n",
    "\ttime.sleep(2)\n",
    "\tprint(\"the house wins\")\n",
    "if playerHand > 21:\n",
    "\tprint(\"and\")\n",
    "\ttime.sleep(2)\n",
    "\tprint(\"you are bust. House wins\")\n",
    "if playerHand <= 21 and playerHand > dealerHand:\n",
    "\tprint(\"and\")\n",
    "\ttime.sleep(2)\n",
    "\tprint(\"you won great job\")\n"
   ]
  },
  {
   "cell_type": "markdown",
   "metadata": {},
   "source": [
    "## Uppgift 7"
   ]
  },
  {
   "cell_type": "code",
   "execution_count": 85,
   "metadata": {},
   "outputs": [
    {
     "name": "stdout",
     "output_type": "stream",
     "text": [
      "54.50977671704877\n"
     ]
    },
    {
     "data": {
      "image/png": "[encoded data removed]",
      "text/plain": [
       "<Figure size 432x288 with 1 Axes>"
      ]
     },
     "metadata": {
      "needs_background": "light"
     },
     "output_type": "display_data"
    }
   ],
   "source": [
    "import math\n",
    "import matplotlib.pyplot\n",
    "\n",
    "class NormalDist():\n",
    "    def __init__(self, mu: float, sigma: float) -> None:\n",
    "        self.mu = mu\n",
    "        self.sigma = sigma\n",
    "\n",
    "    def pdf(self, x: float):\n",
    "        self.normalDist = (1/self.sigma*math.sqrt(2*math.pi))*math.e**1/2*(x-self.mu/self.sigma)**2\n",
    "        return self.normalDist\n",
    "\n",
    "    def pdf_plot(self, x: float):\n",
    "        plt.plot(self.normalDist)\n",
    "    \n",
    "    def __add__(self, other):\n",
    "        print(self.normalDist + other.normalDist)\n",
    "\n",
    "    def __repr__(self) -> str:\n",
    "        print(f\"mu: {self.mu}, sigma: {self.sigma}\")\n",
    "\n",
    "testNormalDist = NormalDist(0, 1)\n",
    "testDist = NormalDist.pdf(testNormalDist, 4)\n",
    "print(testDist)\n",
    "testDist = NormalDist.pdf_plot(testNormalDist, 4)"
   ]
  }
 ],
 "metadata": {
  "interpreter": {
   "hash": "f6ced4aceb5dca1d902771a0c4caef10d5e109c6ad3a1438b115d6b0f80a24fd"
  },
  "kernelspec": {
   "display_name": "Python 3.9.6 64-bit ('python-programmering-Fabian-Adnersson-7Vjomyem': pipenv)",
   "name": "python3"
  },
  "language_info": {
   "codemirror_mode": {
    "name": "ipython",
    "version": 3
   },
   "file_extension": ".py",
   "mimetype": "text/x-python",
   "name": "python",
   "nbconvert_exporter": "python",
   "pygments_lexer": "ipython3",
   "version": "3.9.6"
  },
  "orig_nbformat": 4
 },
 "nbformat": 4,
 "nbformat_minor": 2
}
