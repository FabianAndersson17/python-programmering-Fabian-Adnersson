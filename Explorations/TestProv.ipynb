{
 "cells": [
  {
   "cell_type": "markdown",
   "source": [
    "# Test prov"
   ],
   "metadata": {}
  },
  {
   "cell_type": "markdown",
   "source": [
    "## Uppgift 2"
   ],
   "metadata": {}
  },
  {
   "cell_type": "code",
   "execution_count": 10,
   "source": [
    "import random as rng \r\n",
    "\r\n",
    "ones = 0 \r\n",
    "twos = 0  \r\n",
    "threes = 0 \r\n",
    "fours = 0 \r\n",
    "fives = 0 \r\n",
    "sixes = 0\r\n",
    "\r\n",
    "diceRolls = [rng.randint(1, 6) for _ in range(10**6)] \r\n",
    "\r\n",
    "for i in diceRolls: \r\n",
    "\r\n",
    "    if i == 1: \r\n",
    "        ones += 1 \r\n",
    "    if i == 2:\r\n",
    "        twos += 1 \r\n",
    "    if i == 3:\r\n",
    "        threes += 1 \r\n",
    "    if i == 4:\r\n",
    "        fours += 1 \r\n",
    "    if i == 5:\r\n",
    "        fives += 1 \r\n",
    "    if i == 6:\r\n",
    "        sixes += 1 \r\n",
    "\r\n",
    "print(ones, twos, threes, fours, fives, sixes)"
   ],
   "outputs": [
    {
     "output_type": "stream",
     "name": "stdout",
     "text": [
      "166441 166260 166138 167511 166550 167100\n"
     ]
    }
   ],
   "metadata": {}
  },
  {
   "cell_type": "markdown",
   "source": [
    "## Uppgift 3"
   ],
   "metadata": {}
  },
  {
   "cell_type": "code",
   "execution_count": 19,
   "source": [
    "import math  \r\n",
    "\r\n",
    " \r\n",
    "\r\n",
    "while True: \r\n",
    "\r\n",
    "    radie = float(input(\"Ange ett tal för radien\"))\r\n",
    "\r\n",
    "    try:\r\n",
    "        if radie == type(str):\r\n",
    "            raise TypeError(f\"Radie behöver vara int eller float inte {type(radie)}\")\r\n",
    "    except TypeError as err: \r\n",
    "        print(err)\r\n",
    "\r\n",
    "    try:\r\n",
    "        if radie <= 0:\r\n",
    "            raise ValueError(\"Radie måste vara över 0\")\r\n",
    "    except ValueError as err: \r\n",
    "        print(err) \r\n",
    "\r\n",
    "    break \r\n",
    "\r\n",
    "print(f\"Volymen är {(4*math.pi*radie**2)/3}\") "
   ],
   "outputs": [
    {
     "output_type": "stream",
     "name": "stdout",
     "text": [
      "Volymen är 104.71975511965978\n"
     ]
    }
   ],
   "metadata": {}
  }
 ],
 "metadata": {
  "orig_nbformat": 4,
  "language_info": {
   "name": "python",
   "version": "3.9.6",
   "mimetype": "text/x-python",
   "codemirror_mode": {
    "name": "ipython",
    "version": 3
   },
   "pygments_lexer": "ipython3",
   "nbconvert_exporter": "python",
   "file_extension": ".py"
  },
  "kernelspec": {
   "name": "python3",
   "display_name": "Python 3.9.6 64-bit ('python-programmering-Fabian-Adnersson-7Vjomyem': pipenv)"
  },
  "interpreter": {
   "hash": "f6ced4aceb5dca1d902771a0c4caef10d5e109c6ad3a1438b115d6b0f80a24fd"
  }
 },
 "nbformat": 4,
 "nbformat_minor": 2
}