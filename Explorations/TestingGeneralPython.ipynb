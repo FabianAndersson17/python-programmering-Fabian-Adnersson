{
 "cells": [
  {
   "cell_type": "markdown",
   "source": [
    "## Generate crit for game that is forced random"
   ],
   "metadata": {}
  },
  {
   "cell_type": "markdown",
   "source": [
    "### Only crit with when crit chance hits 100% charater starts with 2% and increas to 100% when 100% is hit reset"
   ],
   "metadata": {}
  },
  {
   "cell_type": "code",
   "execution_count": 5,
   "source": [
    "# For application in a game i(input.GetButtonDown(Fire1))\r\n",
    "\r\n",
    "critModifier = int(input(\"What is your crit modifier\"))\r\n",
    "\r\n",
    "critChance = critModifier\r\n",
    "\r\n",
    "for crit in range(critModifier, 101):\r\n",
    "    critChance += crit\r\n",
    "    if (critChance < 100):\r\n",
    "        print(\"No Crit\")\r\n",
    "    if (critChance >= 100):\r\n",
    "        print(\"CRIT!!!\")\r\n",
    "        break\r\n",
    "    "
   ],
   "outputs": [
    {
     "output_type": "stream",
     "name": "stdout",
     "text": [
      "No Crit\n",
      "No Crit\n",
      "No Crit\n",
      "No Crit\n",
      "No Crit\n",
      "No Crit\n",
      "No Crit\n",
      "No Crit\n",
      "No Crit\n",
      "No Crit\n",
      "No Crit\n",
      "No Crit\n",
      "CRIT!!!\n"
     ]
    }
   ],
   "metadata": {}
  }
 ],
 "metadata": {
  "orig_nbformat": 4,
  "language_info": {
   "name": "python",
   "version": "3.9.6",
   "mimetype": "text/x-python",
   "codemirror_mode": {
    "name": "ipython",
    "version": 3
   },
   "pygments_lexer": "ipython3",
   "nbconvert_exporter": "python",
   "file_extension": ".py"
  },
  "kernelspec": {
   "name": "python3",
   "display_name": "Python 3.9.6 64-bit ('python-programmering-Fabian-Adnersson-7Vjomyem': pipenv)"
  },
  "interpreter": {
   "hash": "f6ced4aceb5dca1d902771a0c4caef10d5e109c6ad3a1438b115d6b0f80a24fd"
  }
 },
 "nbformat": 4,
 "nbformat_minor": 2
}