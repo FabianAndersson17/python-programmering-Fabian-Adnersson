{
 "cells": [
  {
   "cell_type": "markdown",
   "source": [
    "## Generate crit for game that is forced random"
   ],
   "metadata": {}
  },
  {
   "cell_type": "markdown",
   "source": [
    "### Only crit with when crit chance hits 100% charater starts with 2% and increas to 100% when 100% is hit reset"
   ],
   "metadata": {}
  },
  {
   "cell_type": "code",
   "execution_count": null,
   "source": [],
   "outputs": [],
   "metadata": {}
  }
 ],
 "metadata": {
  "orig_nbformat": 4,
  "language_info": {
   "name": "python"
  }
 },
 "nbformat": 4,
 "nbformat_minor": 2
}