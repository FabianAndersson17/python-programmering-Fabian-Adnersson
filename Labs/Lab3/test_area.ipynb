{
 "cells": [
  {
   "cell_type": "code",
   "execution_count": 2,
   "source": [
    "from geometric_shapes import Geometric_Shapes\r\n",
    "from geometric_shapes import Square\r\n",
    "\r\n",
    "test1 = Geometric_Shapes(3, 3, 3)\r\n",
    "#test2 = Geometric_Shapes(\"Tre\", 3, 4)\r\n",
    "print(test1)\r\n",
    "squaretest1 = Square(3, 3, 4, 5)\r\n",
    "print(squaretest1)\r\n",
    "print(squaretest1.area_calulator())\r\n",
    "print(squaretest1.circumference_calulator())"
   ],
   "outputs": [
    {
     "output_type": "stream",
     "name": "stdout",
     "text": [
      "x-coordinate = 3, y-coordinate = 3, radius = 3, diameter = 6\n",
      "x-coordinate = 3, y-coordinate = 3, height = 5, widht = 8\n",
      "40\n",
      "26\n"
     ]
    }
   ],
   "metadata": {}
  }
 ],
 "metadata": {
  "orig_nbformat": 4,
  "language_info": {
   "name": "python",
   "version": "3.9.6",
   "mimetype": "text/x-python",
   "codemirror_mode": {
    "name": "ipython",
    "version": 3
   },
   "pygments_lexer": "ipython3",
   "nbconvert_exporter": "python",
   "file_extension": ".py"
  },
  "kernelspec": {
   "name": "python3",
   "display_name": "Python 3.9.6 64-bit ('python-programmering-Fabian-Adnersson-7Vjomyem': pipenv)"
  },
  "interpreter": {
   "hash": "f6ced4aceb5dca1d902771a0c4caef10d5e109c6ad3a1438b115d6b0f80a24fd"
  }
 },
 "nbformat": 4,
 "nbformat_minor": 2
}