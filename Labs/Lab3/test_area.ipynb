{
 "cells": [
  {
   "cell_type": "markdown",
   "source": [
    "## Test Area"
   ],
   "metadata": {}
  },
  {
   "cell_type": "code",
   "execution_count": 25,
   "source": [
    "from geometric_shapes import Geometric_Shapes\r\n",
    "from geometric_shapes import Rectangle\r\n",
    "from geometric_shapes import Circle\r\n",
    "\r\n",
    "## General test for Geometric_Shapes\r\n",
    "test1 = Geometric_Shapes(3, 3)\r\n",
    "test2 = Geometric_Shapes(0, 0)\r\n",
    "eqTest1 = Geometric_Shapes(3, 3)\r\n",
    "eqTest2 = Geometric_Shapes(3, 3)\r\n",
    "eqTest3 = Geometric_Shapes(4, 4)\r\n",
    "\r\n",
    "print(test1)\r\n",
    "\r\n",
    "## Test: Errors\r\n",
    "try:\r\n",
    "    test2 = Geometric_Shapes(\"Tre\", 3)\r\n",
    "except ValueError as err:\r\n",
    "    print(err)\r\n",
    "\r\n",
    "try:\r\n",
    "    test3 = Geometric_Shapes(-38, 14)\r\n",
    "except ValueError as err:\r\n",
    "    print(err)\r\n",
    "\r\n",
    "##Test: If one point equals another point\r\n",
    "print(eqTest1 == eqTest2)\r\n",
    "print(eqTest1 == eqTest3)\r\n",
    "\r\n",
    "## Test: Translate a points values to another point\r\n",
    "test1.translate(5,5)\r\n",
    "print(test1)\r\n",
    "\r\n",
    "## Tests for Square class\r\n",
    "squaretest1 = Rectangle(3, 3, 4, 5)\r\n",
    "squaretest2 = Rectangle(3, 3, 3, 3)\r\n",
    "squaretest3 = Rectangle(4, 6, 1, 1)\r\n",
    "squaretest4 = Rectangle(1, 7, 1, 1)\r\n",
    "print(squaretest1)\r\n",
    "\r\n",
    "## Test: Area and circumference calulations\r\n",
    "print(squaretest1.area_calulator())\r\n",
    "print(squaretest1.circumference_calulator())\r\n",
    "\r\n",
    "## Tests for Circle class\r\n",
    "testCircle1 = Circle(3, 3, 3)\r\n",
    "testCircle2 = Circle(0, 0, 1)\r\n",
    "testCircle3 = Circle(5, 2, 5)\r\n",
    "testCircle2 = Circle(2, 3, 5)\r\n",
    "print(testCircle1)\r\n",
    "\r\n",
    "## Test: Area Calulator for circle\r\n",
    "print(testCircle1.area_calulator())\r\n",
    "print(testCircle2.area_calulator())\r\n",
    "print(testCircle3.area_calulator())\r\n",
    "\r\n",
    "## Test: Circumference calulator for circle\r\n",
    "print(testCircle1.circumference_calulator())\r\n",
    "print(testCircle2.circumference_calulator())\r\n",
    "print(testCircle3.circumference_calulator())\r\n",
    "\r\n",
    "## Test: __eq__ with square and circle\r\n",
    "try:\r\n",
    "    print(testCircle1 == squaretest2)\r\n",
    "except AttributeError as err:\r\n",
    "    print(err)\r\n",
    "print(squaretest3 == squaretest4)\r\n",
    "print(squaretest2 == squaretest4)\r\n",
    "print(testCircle3 == testCircle2)\r\n",
    "print(testCircle1 == testCircle2)\r\n",
    "\r\n",
    "squaretest3.area_calulator()"
   ],
   "outputs": [
    {
     "output_type": "stream",
     "name": "stdout",
     "text": [
      "x-coordinate = 3, y-coordinate = 3\n",
      "xPoint needs to be a float or an int not <class 'str'>\n",
      "The X coordinate needs to be between -25 and 25 not -38\n",
      "False\n",
      "False\n",
      "x-coordinate = 5, y-coordinate = 5\n",
      "x-coordinate = 3, y-coordinate = 3, width = 4, height = 5\n",
      "20\n",
      "18\n",
      "x-coordinate = 3, y-coordinate = 3\n",
      "28.274333882308138\n",
      "78.53981633974483\n",
      "78.53981633974483\n",
      "18.84955592153876\n",
      "31.41592653589793\n",
      "31.41592653589793\n",
      "'Rectangle' object has no attribute 'radius'\n",
      "True\n",
      "False\n",
      "True\n",
      "False\n"
     ]
    },
    {
     "output_type": "execute_result",
     "data": {
      "text/plain": [
       "1"
      ]
     },
     "metadata": {},
     "execution_count": 25
    }
   ],
   "metadata": {}
  }
 ],
 "metadata": {
  "orig_nbformat": 4,
  "language_info": {
   "name": "python",
   "version": "3.9.6",
   "mimetype": "text/x-python",
   "codemirror_mode": {
    "name": "ipython",
    "version": 3
   },
   "pygments_lexer": "ipython3",
   "nbconvert_exporter": "python",
   "file_extension": ".py"
  },
  "kernelspec": {
   "name": "python3",
   "display_name": "Python 3.9.6 64-bit ('python-programmering-Fabian-Adnersson-7Vjomyem': pipenv)"
  },
  "interpreter": {
   "hash": "f6ced4aceb5dca1d902771a0c4caef10d5e109c6ad3a1438b115d6b0f80a24fd"
  }
 },
 "nbformat": 4,
 "nbformat_minor": 2
}