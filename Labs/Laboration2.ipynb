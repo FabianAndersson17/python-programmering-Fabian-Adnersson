{
 "cells": [
  {
   "cell_type": "code",
   "execution_count": 108,
   "source": [
    "import matplotlib.pyplot as plt\r\n",
    "\r\n",
    "pichuFiles = \"files/pichu.txt\"\r\n",
    "pikachuFiles = \"files/pikachu.txt\"\r\n",
    "\r\n",
    "pichuWidht = []\r\n",
    "pichuHeight = []\r\n",
    "pikachuProperties = []\r\n",
    "\r\n",
    "with open(pichuFiles, \"r\") as pichu, open(pikachuFiles, \"r\") as pikachu:    ## Opens the files as a variable for easy use\r\n",
    "    for i, pichuData in enumerate(pichu.readlines()):     ## Creats a for loop that reads the data from a specifc file line by line.\r\n",
    "        if i == 0:  ## Removes the first line in the text file\r\n",
    "            continue\r\n",
    "        widht, height = pichuData.split(\",\")    # Splits the data into two diffrent points\r\n",
    "\r\n",
    "        pichuWidht.append(widht)\r\n",
    "        pichuHeight.append(height)\r\n",
    "\r\n",
    "print(pichuWidht)\r\n",
    "print(pichuHeight)\r\n",
    "\r\n",
    "plt.plot_date(\"X\", \"Y\")\r\n",
    "plt.xlabel(\"Widht\")\r\n",
    "plt.ylabel(\"Height\")\r\n",
    "plt.title(\"Pichu and Pikachu analyser\")\r\n",
    "plt.show()"
   ],
   "outputs": [
    {
     "output_type": "stream",
     "name": "stdout",
     "text": [
      "['(20.11541438766307', '(15.200086041781336', '(17.200234546952956', '(16.785685905190583', '(20.8917697133121', '(20.41359589938329', '(22.137436541638763', '(15.695510661035328', '(18.375374557482164', '(15.238377755504562', '(16.749103798428827', '(19.042842304826898', '(15.212287757470909', '(16.59070120549319', '(20.199075502236184', '(19.35953184482573', '(16.763524976325574', '(19.71412547100727', '(21.475443653422612', '(15.051990077424488', '(21.446554014662464', '(20.585115159905815', '(17.722004132143937', '(16.24383599849425', '(22.65770457765425', '(17.692756360901015', '(15.741966747041182', '(15.773731014667712', '(21.779954930779677', '(19.82980825093513', '(21.45702618619504', '(20.837854293550542', '(19.289824731637605', '(22.784926111834963', '(18.02827501766683', '(19.416325050185815', '(21.63523731402396', '(19.94815801891397', '(21.89365520248622', '(19.618817162054096', '(20.63657468971939', '(15.366595069245298', '(16.823186205212373', '(17.315103708816856', '(15.63833581538902', '(16.862327090888243', '(15.808011435277834', '(17.223788824880735', '(20.085475554115202', '(17.918657431760675']\n",
      "[' 28.701809671168824)\\n', ' 27.095070307714877)\\n', ' 27.669778220491132)\\n', ' 34.36654587712494)\\n', ' 31.480353852465935)\\n', ' 31.091310056669883)\\n', ' 26.71138648198097)\\n', ' 32.291267979503495)\\n', ' 26.634024937619284)\\n', ' 28.794554417576478)\\n', ' 34.895233506365955)\\n', ' 31.399997598540928)\\n', ' 30.569497437746463)\\n', ' 31.846142509898748)\\n', ' 33.4285192018981)\\n', ' 32.75999911546245)\\n', ' 27.290480719641042)\\n', ' 25.321002439040377)\\n', ' 28.154530480590818)\\n', ' 27.67740875975703)\\n', ' 27.109828435863264)\\n', ' 34.429097143350546)\\n', ' 33.76367626472669)\\n', ' 28.14677880798478)\\n', ' 31.5543866529488)\\n', ' 28.95631901060664)\\n', ' 34.14547589740543)\\n', ' 29.588518525873987)\\n', ' 27.648801664980525)\\n', ' 27.466275076939834)\\n', ' 30.61368134163151)\\n', ' 27.627416085229353)\\n', ' 30.845859902235404)\\n', ' 33.97822883602477)\\n', ' 28.994005051403974)\\n', ' 27.193207591572833)\\n', ' 34.97537606495111)\\n', ' 30.095262936764644)\\n', ' 25.90909412173794)\\n', ' 25.471163754247346)\\n', ' 26.096491303506593)\\n', ' 31.2744604170309)\\n', ' 32.920793643629644)\\n', ' 29.22159966799684)\\n', ' 25.63527706151957)\\n', ' 28.816192865065368)\\n', ' 34.96121380240097)\\n', ' 30.29114345099137)\\n', ' 34.71078377613618)\\n', ' 33.60779702234498)\\n']\n"
     ]
    },
    {
     "output_type": "display_data",
     "data": {
      "image/png": "[encoded data removed]",
      "text/plain": [
       "<Figure size 432x288 with 1 Axes>"
      ]
     },
     "metadata": {
      "needs_background": "light"
     }
    }
   ],
   "metadata": {}
  }
 ],
 "metadata": {
  "orig_nbformat": 4,
  "language_info": {
   "name": "python",
   "version": "3.9.6",
   "mimetype": "text/x-python",
   "codemirror_mode": {
    "name": "ipython",
    "version": 3
   },
   "pygments_lexer": "ipython3",
   "nbconvert_exporter": "python",
   "file_extension": ".py"
  },
  "kernelspec": {
   "name": "python3",
   "display_name": "Python 3.9.6 64-bit ('python-programmering-Fabian-Adnersson-7Vjomyem': pipenv)"
  },
  "interpreter": {
   "hash": "f6ced4aceb5dca1d902771a0c4caef10d5e109c6ad3a1438b115d6b0f80a24fd"
  }
 },
 "nbformat": 4,
 "nbformat_minor": 2
}