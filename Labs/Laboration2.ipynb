{
 "cells": [
  {
   "cell_type": "code",
   "execution_count": 17,
   "source": [
    "import matplotlib.pyplot as plt\r\n",
    "import numpy as np\r\n",
    "\r\n",
    "pichuFiles = \"files/pichu.txt\"\r\n",
    "pikachuFiles = \"files/pikachu.txt\"\r\n",
    "\r\n",
    "pichuWidht = []\r\n",
    "pichuHeight = []\r\n",
    "pikachuWidht = []\r\n",
    "pikachuHeight = []\r\n",
    "\r\n",
    "with open(pichuFiles, \"r\") as pichu, open(pikachuFiles, \"r\") as pikachu:    ## Opens the files as a variable for easy use\r\n",
    "    for i, pichuData in enumerate(pichu.readlines()):     ## Creats a for loop that reads the data from a specifc file line by line.\r\n",
    "        if i == 0:  ## Skips the first line so that it does not get read\r\n",
    "            continue\r\n",
    "\r\n",
    "        pichuData = pichuData.replace(\"(\", \"\")  ## Removes ( from the string\r\n",
    "        pichuData = pichuData.replace(\")\", \"\")  ## - || -  ) -     ||     -\r\n",
    "        pichuData = pichuData.replace(\"\\n\", \"\") ## Removes newlines\r\n",
    "\r\n",
    "        widht, height = pichuData.split(\",\")    # Splits the data into two diffrent points\r\n",
    "\r\n",
    "        pichuWidht.append(widht)\r\n",
    "        pichuHeight.append(height)\r\n",
    "    \r\n",
    "    for i, pikachuData in enumerate(pikachu.readlines()):\r\n",
    "        if i == 0:\r\n",
    "            continue\r\n",
    "\r\n",
    "        pikachuData = pikachuData.replace(\"(\", \"\")\r\n",
    "        pikachuData = pikachuData.replace(\")\", \"\")\r\n",
    "        pikachuData = pikachuData.replace(\"\\n\", \"\")\r\n",
    "\r\n",
    "        widht, height = pikachuData.split(\",\")\r\n",
    "\r\n",
    "        pikachuWidht.append(widht)\r\n",
    "        pikachuHeight.append(height)\r\n",
    "\r\n",
    "pichuWidht = [float(i) for i in pichuWidht]     ##Converts all strings in the list to floats\r\n",
    "pichuHeight = [float(i) for i in pichuHeight]\r\n",
    "\r\n",
    "pikachuWidht = [float(i) for i in pikachuWidht]\r\n",
    "pikachuHeight = [float(i) for i in pikachuHeight]\r\n",
    "\r\n",
    "pichuWidhtPoints = np.array(pichuWidht)     ## Creats an array out of the list pichuWidht \r\n",
    "pichuHeightPoints = np.array(pichuHeight)   ## Information and cod taken from -> https://www.codespeedy.com/how-to-plot-points-in-matplotlib-with-python/\r\n",
    "\r\n",
    "pikachuWidhtPoints = np.array(pikachuWidht)\r\n",
    "pikachuHeightPoints = np.array(pikachuHeight)\r\n",
    "\r\n",
    "plt.scatter(pichuWidhtPoints, pichuHeightPoints)\r\n",
    "plt.scatter(pikachuWidhtPoints, pikachuHeightPoints)\r\n",
    "plt.xlabel(\"Widht\")\r\n",
    "plt.ylabel(\"Height\")\r\n",
    "plt.title(\"Pichu and Pikachu analyser\")\r\n",
    "plt.show()"
   ],
   "outputs": [
    {
     "output_type": "display_data",
     "data": {
      "image/png": "[encoded data removed]",
      "text/plain": [
       "<Figure size 432x288 with 1 Axes>"
      ]
     },
     "metadata": {
      "needs_background": "light"
     }
    }
   ],
   "metadata": {}
  }
 ],
 "metadata": {
  "orig_nbformat": 4,
  "language_info": {
   "name": "python",
   "version": "3.9.6",
   "mimetype": "text/x-python",
   "codemirror_mode": {
    "name": "ipython",
    "version": 3
   },
   "pygments_lexer": "ipython3",
   "nbconvert_exporter": "python",
   "file_extension": ".py"
  },
  "kernelspec": {
   "name": "python3",
   "display_name": "Python 3.9.6 64-bit ('python-programmering-Fabian-Adnersson-7Vjomyem': pipenv)"
  },
  "interpreter": {
   "hash": "f6ced4aceb5dca1d902771a0c4caef10d5e109c6ad3a1438b115d6b0f80a24fd"
  }
 },
 "nbformat": 4,
 "nbformat_minor": 2
}